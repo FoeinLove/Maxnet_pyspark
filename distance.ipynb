{
 "cells": [
  {
   "cell_type": "code",
   "execution_count": 1,
   "metadata": {},
   "outputs": [],
   "source": [
    "d1 = spark.read.csv('/user/maxnet/database/sig.db/term_desc_all',sep='\\x01')\n",
    "d1 = d1.withColumnRenamed('_c0','term_id')\\\n",
    "       .withColumnRenamed('_c1','brand')\\\n",
    "       .withColumnRenamed('_c2','cn_name')\\\n",
    "       .withColumnRenamed('_c3','en_name')\\\n",
    "       .withColumnRenamed('_c4','type1')\\\n",
    "       .withColumnRenamed('_c5','type2')\\\n",
    "       .withColumnRenamed('_c6','os')\\\n",
    "       .withColumnRenamed('_c7','dtime')\\\n",
    "       .withColumnRenamed('_c8','price')\\\n",
    "       .withColumnRenamed('_c9','remarks')\\\n",
    "       .withColumnRenamed('_c10','prio')\n",
    "\n",
    "d2 = spark.read.csv('/user/maxnet/database/sig.db/term_oui',sep='\\x01')\n",
    "d2 = d2.withColumnRenamed('_c0','mac_6').withColumnRenamed('_c1','manu')\n",
    "\n",
    "from pyspark.sql.functions import *\n",
    "d = spark.read.csv('/user/maxnet/database/sig.db/data_mac_res',sep='\\x01')\n",
    "d = d.withColumnRenamed('_c0','mac').withColumnRenamed('_c1','id')\n",
    "d = d.withColumn('m1_6',substring(d.mac,1,6))\n",
    "\n",
    "tmp_1 = d.join(d2,d.m1_6==d2.mac_6)\n",
    "df = tmp_1.join(d1,tmp_1.id == d1.term_id).select('mac','id','manu','brand','prio').distinct().dropna()\n",
    "df = df.filter(df.prio == 4).select('mac','id','brand').distinct().dropna()\n",
    "df.write.mode('overwrite').parquet('hdfs:///data/user/hive/warehouse/ian/distance_dataframe',compression='gzip')"
   ]
  },
  {
   "cell_type": "code",
   "execution_count": null,
   "metadata": {},
   "outputs": [],
   "source": []
  },
  {
   "cell_type": "code",
   "execution_count": 2,
   "metadata": {},
   "outputs": [
    {
     "data": {
      "text/plain": [
       "(199475790, 4082, 287)"
      ]
     },
     "execution_count": 2,
     "metadata": {},
     "output_type": "execute_result"
    }
   ],
   "source": [
    "df = spark.read.parquet('/data/user/hive/warehouse/ian/distance_dataframe')\n",
    "df.select('mac').distinct().count(),df.select('id').distinct().count(),df.select('brand').distinct().count()"
   ]
  },
  {
   "cell_type": "code",
   "execution_count": 3,
   "metadata": {},
   "outputs": [],
   "source": [
    "df = df.withColumn('m1',substring(df.mac,1,6)).withColumn('m2',substring(df.mac,7,6))"
   ]
  },
  {
   "cell_type": "code",
   "execution_count": 4,
   "metadata": {},
   "outputs": [],
   "source": [
    "df = df.withColumn('p',conv(df.m2, 16, 10))"
   ]
  },
  {
   "cell_type": "code",
   "execution_count": 5,
   "metadata": {},
   "outputs": [],
   "source": [
    "df = df.select('mac','id','m1','m2',col('p').cast('bigint'))"
   ]
  },
  {
   "cell_type": "code",
   "execution_count": 6,
   "metadata": {},
   "outputs": [
    {
     "name": "stdout",
     "output_type": "stream",
     "text": [
      "+------+\n",
      "|m1    |\n",
      "+------+\n",
      "|7C1C68|\n",
      "|0018AC|\n",
      "|001A84|\n",
      "|3C8C40|\n",
      "|0019B1|\n",
      "|00502B|\n",
      "|00D056|\n",
      "|0014A9|\n",
      "|0080F6|\n",
      "|001438|\n",
      "+------+\n",
      "only showing top 10 rows\n",
      "\n"
     ]
    }
   ],
   "source": [
    "df.select('m1').distinct().sample(0.1).show(10,truncate=False)"
   ]
  },
  {
   "cell_type": "code",
   "execution_count": 6,
   "metadata": {},
   "outputs": [],
   "source": [
    "d1 = df.filter(df.m1 =='24DF6A')"
   ]
  },
  {
   "cell_type": "code",
   "execution_count": 7,
   "metadata": {},
   "outputs": [
    {
     "data": {
      "text/plain": [
       "309"
      ]
     },
     "execution_count": 7,
     "metadata": {},
     "output_type": "execute_result"
    }
   ],
   "source": [
    "d1.select('id').distinct().count()"
   ]
  },
  {
   "cell_type": "code",
   "execution_count": 8,
   "metadata": {},
   "outputs": [
    {
     "data": {
      "text/plain": [
       "125692"
      ]
     },
     "execution_count": 8,
     "metadata": {},
     "output_type": "execute_result"
    }
   ],
   "source": [
    "d1.count()"
   ]
  },
  {
   "cell_type": "code",
   "execution_count": 10,
   "metadata": {},
   "outputs": [
    {
     "name": "stdout",
     "output_type": "stream",
     "text": [
      "+------------+-----+------+------+----+\n",
      "|mac         |id   |m1    |m2    |p   |\n",
      "+------------+-----+------+------+----+\n",
      "|24DF6A001848|40316|24DF6A|001848|6216|\n",
      "|24DF6A001856|40316|24DF6A|001856|6230|\n",
      "|24DF6A00185E|40316|24DF6A|00185E|6238|\n",
      "|24DF6A001866|40316|24DF6A|001866|6246|\n",
      "|24DF6A001873|40316|24DF6A|001873|6259|\n",
      "|24DF6A001880|40316|24DF6A|001880|6272|\n",
      "|24DF6A001884|40316|24DF6A|001884|6276|\n",
      "|24DF6A001891|40316|24DF6A|001891|6289|\n",
      "|24DF6A001892|40316|24DF6A|001892|6290|\n",
      "|24DF6A001899|40316|24DF6A|001899|6297|\n",
      "|24DF6A0018A3|40316|24DF6A|0018A3|6307|\n",
      "|24DF6A0018A7|40316|24DF6A|0018A7|6311|\n",
      "|24DF6A0018BC|40316|24DF6A|0018BC|6332|\n",
      "|24DF6A0018BD|40316|24DF6A|0018BD|6333|\n",
      "|24DF6A0018D9|40316|24DF6A|0018D9|6361|\n",
      "|24DF6A001907|40316|24DF6A|001907|6407|\n",
      "|24DF6A001908|40316|24DF6A|001908|6408|\n",
      "|24DF6A001914|40316|24DF6A|001914|6420|\n",
      "|24DF6A00191E|40316|24DF6A|00191E|6430|\n",
      "|24DF6A001928|40316|24DF6A|001928|6440|\n",
      "+------------+-----+------+------+----+\n",
      "only showing top 20 rows\n",
      "\n"
     ]
    }
   ],
   "source": [
    "d1.sort('p').show(truncate=False)"
   ]
  },
  {
   "cell_type": "code",
   "execution_count": 71,
   "metadata": {},
   "outputs": [],
   "source": [
    "#test_mac : 24DF6A0018CA 6346\n",
    "#           24DF6A0018CE 6350\n",
    "\n",
    "from pyspark.sql.types import *\n",
    "test1 = [{'mac':'24DF6A0018CA'}]\n",
    "test2 = [{'mac':'24DF6A0018CE'}]\n",
    "inp1 = spark.createDataFrame(test1)\n",
    "inp2 = spark.createDataFrame(test2)\n",
    "inp = inp1.union(inp2)\n",
    "inp = inp.withColumn('m1',substring(inp.mac,1,6)).withColumn('m2',substring(inp.mac,7,6)).withColumn('id',lit(None).cast(StringType()))\n",
    "inp = inp.withColumn('p',conv(inp.m2, 16, 10))  \n",
    "inp = inp.select('mac','m1','m2',col('p').cast('bigint'),'id')"
   ]
  },
  {
   "cell_type": "code",
   "execution_count": 72,
   "metadata": {},
   "outputs": [],
   "source": [
    "#low = d1.select(min(col('p'))).collect()[0]['min(p)'] \n",
    "#up = d1.select(max(col('p'))).collect()[0]['max(p)']"
   ]
  },
  {
   "cell_type": "code",
   "execution_count": 73,
   "metadata": {},
   "outputs": [
    {
     "name": "stdout",
     "output_type": "stream",
     "text": [
      "+------------+------+------+----+----+\n",
      "|mac         |m1    |m2    |p   |id  |\n",
      "+------------+------+------+----+----+\n",
      "|24DF6A0018CA|24DF6A|0018CA|6346|null|\n",
      "|24DF6A0018CE|24DF6A|0018CE|6350|null|\n",
      "+------------+------+------+----+----+\n",
      "\n"
     ]
    }
   ],
   "source": [
    "inp.show(truncate=False)"
   ]
  },
  {
   "cell_type": "code",
   "execution_count": 74,
   "metadata": {},
   "outputs": [
    {
     "data": {
      "text/plain": [
       "[('mac', 'string'),\n",
       " ('m1', 'string'),\n",
       " ('m2', 'string'),\n",
       " ('p', 'bigint'),\n",
       " ('id', 'string')]"
      ]
     },
     "execution_count": 74,
     "metadata": {},
     "output_type": "execute_result"
    }
   ],
   "source": [
    "inp.dtypes"
   ]
  },
  {
   "cell_type": "code",
   "execution_count": 75,
   "metadata": {},
   "outputs": [],
   "source": [
    "combine = inp.unionByName(d1).sort('p',ascending=True)"
   ]
  },
  {
   "cell_type": "code",
   "execution_count": 76,
   "metadata": {},
   "outputs": [
    {
     "name": "stdout",
     "output_type": "stream",
     "text": [
      "+------------+------+------+----+-----+\n",
      "|mac         |m1    |m2    |p   |id   |\n",
      "+------------+------+------+----+-----+\n",
      "|24DF6A001848|24DF6A|001848|6216|40316|\n",
      "|24DF6A001856|24DF6A|001856|6230|40316|\n",
      "|24DF6A00185E|24DF6A|00185E|6238|40316|\n",
      "|24DF6A001866|24DF6A|001866|6246|40316|\n",
      "|24DF6A001873|24DF6A|001873|6259|40316|\n",
      "|24DF6A001880|24DF6A|001880|6272|40316|\n",
      "|24DF6A001884|24DF6A|001884|6276|40316|\n",
      "|24DF6A001891|24DF6A|001891|6289|40316|\n",
      "|24DF6A001892|24DF6A|001892|6290|40316|\n",
      "|24DF6A001899|24DF6A|001899|6297|40316|\n",
      "|24DF6A0018A3|24DF6A|0018A3|6307|40316|\n",
      "|24DF6A0018A7|24DF6A|0018A7|6311|40316|\n",
      "|24DF6A0018BC|24DF6A|0018BC|6332|40316|\n",
      "|24DF6A0018BD|24DF6A|0018BD|6333|40316|\n",
      "|24DF6A0018CA|24DF6A|0018CA|6346|null |\n",
      "|24DF6A0018CE|24DF6A|0018CE|6350|null |\n",
      "|24DF6A0018D9|24DF6A|0018D9|6361|40316|\n",
      "|24DF6A001907|24DF6A|001907|6407|40316|\n",
      "|24DF6A001908|24DF6A|001908|6408|40316|\n",
      "|24DF6A001914|24DF6A|001914|6420|40316|\n",
      "+------------+------+------+----+-----+\n",
      "only showing top 20 rows\n",
      "\n"
     ]
    }
   ],
   "source": [
    "combine.show(truncate=False)"
   ]
  },
  {
   "cell_type": "code",
   "execution_count": 77,
   "metadata": {},
   "outputs": [],
   "source": [
    "combine = combine.withColumn('index',monotonically_increasing_id())"
   ]
  },
  {
   "cell_type": "code",
   "execution_count": 78,
   "metadata": {},
   "outputs": [
    {
     "name": "stdout",
     "output_type": "stream",
     "text": [
      "+------------+------+------+----+-----+-----+\n",
      "|mac         |m1    |m2    |p   |id   |index|\n",
      "+------------+------+------+----+-----+-----+\n",
      "|24DF6A001848|24DF6A|001848|6216|40316|0    |\n",
      "|24DF6A001856|24DF6A|001856|6230|40316|1    |\n",
      "|24DF6A00185E|24DF6A|00185E|6238|40316|2    |\n",
      "|24DF6A001866|24DF6A|001866|6246|40316|3    |\n",
      "|24DF6A001873|24DF6A|001873|6259|40316|4    |\n",
      "|24DF6A001880|24DF6A|001880|6272|40316|5    |\n",
      "|24DF6A001884|24DF6A|001884|6276|40316|6    |\n",
      "|24DF6A001891|24DF6A|001891|6289|40316|7    |\n",
      "|24DF6A001892|24DF6A|001892|6290|40316|8    |\n",
      "|24DF6A001899|24DF6A|001899|6297|40316|9    |\n",
      "|24DF6A0018A3|24DF6A|0018A3|6307|40316|10   |\n",
      "|24DF6A0018A7|24DF6A|0018A7|6311|40316|11   |\n",
      "|24DF6A0018BC|24DF6A|0018BC|6332|40316|12   |\n",
      "|24DF6A0018BD|24DF6A|0018BD|6333|40316|13   |\n",
      "|24DF6A0018CA|24DF6A|0018CA|6346|null |14   |\n",
      "|24DF6A0018CE|24DF6A|0018CE|6350|null |15   |\n",
      "|24DF6A0018D9|24DF6A|0018D9|6361|40316|16   |\n",
      "|24DF6A001907|24DF6A|001907|6407|40316|17   |\n",
      "|24DF6A001908|24DF6A|001908|6408|40316|18   |\n",
      "|24DF6A001914|24DF6A|001914|6420|40316|19   |\n",
      "+------------+------+------+----+-----+-----+\n",
      "only showing top 20 rows\n",
      "\n"
     ]
    }
   ],
   "source": [
    "combine.show(truncate=False)"
   ]
  },
  {
   "cell_type": "code",
   "execution_count": 79,
   "metadata": {},
   "outputs": [],
   "source": [
    "#p_min = combine.filter(combine.id.isNull()).select(min('index')).collect()[0]['min(index)']\n",
    "#p_max = combine.filter(combine.id.isNull()).select(max('index')).collect()[0]['max(index)']"
   ]
  },
  {
   "cell_type": "code",
   "execution_count": 80,
   "metadata": {},
   "outputs": [
    {
     "name": "stdout",
     "output_type": "stream",
     "text": [
      "+--------+\n",
      "|  max(p)|\n",
      "+--------+\n",
      "|16777078|\n",
      "+--------+\n",
      "\n"
     ]
    }
   ],
   "source": [
    "combine.select(max('p')).show()"
   ]
  },
  {
   "cell_type": "code",
   "execution_count": 131,
   "metadata": {},
   "outputs": [],
   "source": [
    "gp_id_pmin = combine.groupBy('id').agg({'p':'min'})\n",
    "gp_id_pmax = combine.groupBy('id').agg({'p':'max'}).withColumnRenamed('id','id1')\n",
    "gp_id_count = combine.groupBy('id').count().withColumnRenamed('id','id2')\n",
    "\n",
    "stat = gp_id_pmin.join(gp_id_pmax,gp_id_pmin.id ==gp_id_pmax.id1)\n",
    "stat = stat.join(gp_id_count,stat.id == gp_id_count.id2)\n",
    "stat = stat.select('id','min(p)','max(p)','count')"
   ]
  },
  {
   "cell_type": "code",
   "execution_count": 132,
   "metadata": {},
   "outputs": [
    {
     "name": "stdout",
     "output_type": "stream",
     "text": [
      "+-----+--------+--------+-----+\n",
      "|id   |min(p)  |max(p)  |count|\n",
      "+-----+--------+--------+-----+\n",
      "|40340|361676  |16310104|653  |\n",
      "|41157|1614507 |16231498|11   |\n",
      "|40353|2965266 |14864548|865  |\n",
      "|10801|16159427|16159427|1    |\n",
      "|41286|14423289|14423289|1    |\n",
      "|12067|1965369 |14646714|7    |\n",
      "|44208|6595345 |11031077|3    |\n",
      "|39470|10707296|10707296|1    |\n",
      "|39368|3745307 |14548520|6    |\n",
      "|39005|28924   |15179996|6    |\n",
      "|39492|3533174 |16187880|2    |\n",
      "|39512|11516335|11516335|1    |\n",
      "|42208|4514087 |16300213|5    |\n",
      "|42247|12812930|12812930|1    |\n",
      "|40229|2488010 |2488010 |1    |\n",
      "|41135|6272941 |16255071|2    |\n",
      "|39493|1604638 |13437552|8    |\n",
      "|41159|627562  |14385024|25   |\n",
      "|41329|5237460 |9262095 |3    |\n",
      "|44429|7680432 |7680432 |1    |\n",
      "+-----+--------+--------+-----+\n",
      "only showing top 20 rows\n",
      "\n"
     ]
    }
   ],
   "source": [
    "stat.show(truncate=False)"
   ]
  },
  {
   "cell_type": "code",
   "execution_count": 133,
   "metadata": {},
   "outputs": [
    {
     "name": "stdout",
     "output_type": "stream",
     "text": [
      "+-----+--------+--------+-----+\n",
      "|id   |min(p)  |max(p)  |count|\n",
      "+-----+--------+--------+-----+\n",
      "|40003|12740765|12740765|1    |\n",
      "|10623|9347367 |9347367 |1    |\n",
      "|40211|6776437 |6776437 |1    |\n",
      "|10725|2037681 |2037681 |1    |\n",
      "|40737|10284093|10284093|1    |\n",
      "|41495|14752427|14752427|1    |\n",
      "|44426|7526249 |7526249 |1    |\n",
      "|50474|3081312 |3081312 |1    |\n",
      "|12005|4908529 |4908529 |1    |\n",
      "|10662|9006891 |9006891 |1    |\n",
      "|44425|2713358 |2713358 |1    |\n",
      "|11113|12562471|12562471|1    |\n",
      "|39512|11516335|11516335|1    |\n",
      "|10801|16159427|16159427|1    |\n",
      "|41286|14423289|14423289|1    |\n",
      "|41021|8742136 |8742136 |1    |\n",
      "|41016|7525857 |7525857 |1    |\n",
      "|39513|3039572 |3039572 |1    |\n",
      "|43602|9932658 |9932658 |1    |\n",
      "|44709|10374777|10374777|1    |\n",
      "+-----+--------+--------+-----+\n",
      "only showing top 20 rows\n",
      "\n"
     ]
    }
   ],
   "source": [
    "stat.sort('count',ascending=True).show(truncate=False)"
   ]
  },
  {
   "cell_type": "code",
   "execution_count": 134,
   "metadata": {},
   "outputs": [
    {
     "name": "stdout",
     "output_type": "stream",
     "text": [
      "+-----+------+--------+-----+\n",
      "|id   |min(p)|max(p)  |count|\n",
      "+-----+------+--------+-----+\n",
      "|40316|6216  |16775934|10014|\n",
      "|40318|8216  |16267105|5257 |\n",
      "|39494|9469  |14546794|7    |\n",
      "|42245|18827 |14325084|6    |\n",
      "|40308|19508 |16226533|34705|\n",
      "|40338|27224 |16767053|3436 |\n",
      "|39005|28924 |15179996|6    |\n",
      "|40312|46942 |16771193|6869 |\n",
      "|10024|48747 |48747   |1    |\n",
      "|40334|51959 |16283325|6029 |\n",
      "|42209|78184 |14339772|8    |\n",
      "|10664|79046 |79046   |1    |\n",
      "|39000|87943 |87943   |1    |\n",
      "|40329|93923 |16748422|11823|\n",
      "|39152|94791 |11501060|6    |\n",
      "|44213|95891 |14914471|9    |\n",
      "|41142|142545|14750374|3    |\n",
      "|42234|176034|176034  |1    |\n",
      "|40209|176829|16404522|64   |\n",
      "|39521|193599|15110312|6    |\n",
      "+-----+------+--------+-----+\n",
      "only showing top 20 rows\n",
      "\n"
     ]
    }
   ],
   "source": [
    "stat.sort('min(p)',ascending=True).show(truncate=False)"
   ]
  },
  {
   "cell_type": "code",
   "execution_count": 135,
   "metadata": {},
   "outputs": [
    {
     "name": "stdout",
     "output_type": "stream",
     "text": [
      "+-----+-------+-------+-----+\n",
      "|id   |min(p) |max(p) |count|\n",
      "+-----+-------+-------+-----+\n",
      "|10024|48747  |48747  |1    |\n",
      "|10664|79046  |79046  |1    |\n",
      "|39000|87943  |87943  |1    |\n",
      "|42234|176034 |176034 |1    |\n",
      "|40224|364918 |364918 |1    |\n",
      "|40343|365383 |365383 |1    |\n",
      "|39511|903733 |903733 |1    |\n",
      "|11023|1560549|1560549|1    |\n",
      "|10004|1610151|1610151|1    |\n",
      "|42956|1667256|1667256|1    |\n",
      "|41312|1830689|1830689|1    |\n",
      "|41144|1832426|1832426|1    |\n",
      "|40566|1926654|1926654|1    |\n",
      "|12044|1955463|1955463|1    |\n",
      "|40371|1989326|1989326|1    |\n",
      "|39226|2032306|2032306|1    |\n",
      "|10725|2037681|2037681|1    |\n",
      "|11316|1824372|2072686|2    |\n",
      "|39781|2484047|2484047|1    |\n",
      "|40229|2488010|2488010|1    |\n",
      "+-----+-------+-------+-----+\n",
      "only showing top 20 rows\n",
      "\n"
     ]
    }
   ],
   "source": [
    "stat.sort('max(p)',ascending=True).show(truncate=False)"
   ]
  },
  {
   "cell_type": "code",
   "execution_count": 136,
   "metadata": {},
   "outputs": [
    {
     "data": {
      "text/plain": [
       "[('id', 'string'),\n",
       " ('min(p)', 'bigint'),\n",
       " ('max(p)', 'bigint'),\n",
       " ('count', 'bigint')]"
      ]
     },
     "execution_count": 136,
     "metadata": {},
     "output_type": "execute_result"
    }
   ],
   "source": [
    "stat.dtypes"
   ]
  },
  {
   "cell_type": "code",
   "execution_count": 137,
   "metadata": {},
   "outputs": [],
   "source": [
    "stat = stat.withColumn('effect_density',col('count')/(col('max(p)')-col('min(p)')))"
   ]
  },
  {
   "cell_type": "code",
   "execution_count": 138,
   "metadata": {},
   "outputs": [
    {
     "name": "stdout",
     "output_type": "stream",
     "text": [
      "+-----+--------+--------+-----+---------------------+\n",
      "|id   |min(p)  |max(p)  |count|effect_density       |\n",
      "+-----+--------+--------+-----+---------------------+\n",
      "|40340|361676  |16310104|653  |4.094447427671241E-5 |\n",
      "|41157|1614507 |16231498|11   |7.525488659054384E-7 |\n",
      "|40353|2965266 |14864548|865  |7.26934616727295E-5  |\n",
      "|10801|16159427|16159427|1    |null                 |\n",
      "|41286|14423289|14423289|1    |null                 |\n",
      "|12067|1965369 |14646714|7    |5.519919219925016E-7 |\n",
      "|44208|6595345 |11031077|3    |6.76325801468619E-7  |\n",
      "|39470|10707296|10707296|1    |null                 |\n",
      "|39368|3745307 |14548520|6    |5.553903269332929E-7 |\n",
      "|39005|28924   |15179996|6    |3.960115825467663E-7 |\n",
      "|39492|3533174 |16187880|2    |1.5804397194213758E-7|\n",
      "|39512|11516335|11516335|1    |null                 |\n",
      "|42208|4514087 |16300213|5    |4.24227604558105E-7  |\n",
      "|42247|12812930|12812930|1    |null                 |\n",
      "|40229|2488010 |2488010 |1    |null                 |\n",
      "|41135|6272941 |16255071|2    |2.0035803981715326E-7|\n",
      "|39493|1604638 |13437552|8    |6.760802960285184E-7 |\n",
      "|41159|627562  |14385024|25   |1.817195642626525E-6 |\n",
      "|41329|5237460 |9262095 |3    |7.454092110216206E-7 |\n",
      "|44429|7680432 |7680432 |1    |null                 |\n",
      "+-----+--------+--------+-----+---------------------+\n",
      "only showing top 20 rows\n",
      "\n"
     ]
    }
   ],
   "source": [
    "stat.show(truncate=False)"
   ]
  },
  {
   "cell_type": "code",
   "execution_count": null,
   "metadata": {},
   "outputs": [],
   "source": [
    "minmaxscaler"
   ]
  },
  {
   "cell_type": "code",
   "execution_count": null,
   "metadata": {},
   "outputs": [],
   "source": []
  },
  {
   "cell_type": "code",
   "execution_count": 105,
   "metadata": {},
   "outputs": [
    {
     "name": "stdout",
     "output_type": "stream",
     "text": [
      "+------------+------+------+----+----+\n",
      "|mac         |m1    |m2    |p   |id  |\n",
      "+------------+------+------+----+----+\n",
      "|24DF6A0018CA|24DF6A|0018CA|6346|null|\n",
      "|24DF6A0018CE|24DF6A|0018CE|6350|null|\n",
      "+------------+------+------+----+----+\n",
      "\n"
     ]
    }
   ],
   "source": [
    "inp.show(truncate=False)"
   ]
  },
  {
   "cell_type": "code",
   "execution_count": null,
   "metadata": {},
   "outputs": [],
   "source": []
  },
  {
   "cell_type": "code",
   "execution_count": null,
   "metadata": {},
   "outputs": [],
   "source": []
  },
  {
   "cell_type": "code",
   "execution_count": null,
   "metadata": {},
   "outputs": [],
   "source": []
  },
  {
   "cell_type": "code",
   "execution_count": null,
   "metadata": {},
   "outputs": [],
   "source": []
  },
  {
   "cell_type": "code",
   "execution_count": null,
   "metadata": {},
   "outputs": [],
   "source": []
  },
  {
   "cell_type": "code",
   "execution_count": 67,
   "metadata": {},
   "outputs": [
    {
     "name": "stderr",
     "output_type": "stream",
     "text": [
      "/usr/lib/spark/python/pyspark/sql/session.py:357: UserWarning: inferring schema from dict is deprecated,please use pyspark.sql.Row instead\n",
      "  warnings.warn(\"inferring schema from dict is deprecated,\"\n"
     ]
    },
    {
     "name": "stdout",
     "output_type": "stream",
     "text": [
      "+----+----+\n",
      "|p   |m   |\n",
      "+----+----+\n",
      "|6350|18CE|\n",
      "+----+----+\n",
      "\n"
     ]
    }
   ],
   "source": [
    "#xx = [{'p':'6350'}]\n",
    "#xx = spark.createDataFrame(xx)\n",
    "#xx.withColumn('m',conv(xx.p,10,16)).show(truncate=False)"
   ]
  },
  {
   "cell_type": "code",
   "execution_count": null,
   "metadata": {},
   "outputs": [],
   "source": []
  },
  {
   "cell_type": "code",
   "execution_count": null,
   "metadata": {},
   "outputs": [],
   "source": []
  },
  {
   "cell_type": "code",
   "execution_count": null,
   "metadata": {},
   "outputs": [],
   "source": []
  },
  {
   "cell_type": "code",
   "execution_count": null,
   "metadata": {},
   "outputs": [],
   "source": []
  },
  {
   "cell_type": "code",
   "execution_count": 135,
   "metadata": {},
   "outputs": [
    {
     "name": "stdout",
     "output_type": "stream",
     "text": [
      "+------------+------+------+----+-----+-----+----------+--------+\n",
      "|mac         |m1    |m2    |p   |id   |index|shift_down|shift_up|\n",
      "+------------+------+------+----+-----+-----+----------+--------+\n",
      "|24DF6A001848|24DF6A|001848|6216|40316|0    |null      |40316   |\n",
      "|24DF6A001856|24DF6A|001856|6230|40316|1    |null      |40316   |\n",
      "|24DF6A00185E|24DF6A|00185E|6238|40316|2    |null      |40316   |\n",
      "|24DF6A001866|24DF6A|001866|6246|40316|3    |null      |40316   |\n",
      "|24DF6A001873|24DF6A|001873|6259|40316|4    |null      |null    |\n",
      "|24DF6A001880|24DF6A|001880|6272|40316|5    |null      |40316   |\n",
      "|24DF6A001884|24DF6A|001884|6276|40316|6    |null      |40316   |\n",
      "|24DF6A001891|24DF6A|001891|6289|40316|7    |null      |40316   |\n",
      "|24DF6A001892|24DF6A|001892|6290|40316|8    |null      |40316   |\n",
      "|24DF6A001899|24DF6A|001899|6297|40316|9    |null      |40316   |\n",
      "|24DF6A0018A3|24DF6A|0018A3|6307|40316|10   |40316     |40316   |\n",
      "|24DF6A0018A7|24DF6A|0018A7|6311|40316|11   |40316     |40316   |\n",
      "|24DF6A0018BC|24DF6A|0018BC|6332|40316|12   |40316     |40316   |\n",
      "|24DF6A0018BD|24DF6A|0018BD|6333|40316|13   |40316     |40316   |\n",
      "|24DF6A0018BD|24DF6A|0018BD|6333|null |14   |40316     |40316   |\n",
      "|24DF6A0018D9|24DF6A|0018D9|6361|40316|15   |40316     |40316   |\n",
      "|24DF6A001907|24DF6A|001907|6407|40316|16   |40316     |40316   |\n",
      "|24DF6A001908|24DF6A|001908|6408|40316|17   |40316     |40316   |\n",
      "|24DF6A001914|24DF6A|001914|6420|40316|18   |40316     |40316   |\n",
      "|24DF6A00191E|24DF6A|00191E|6430|40316|19   |40316     |40316   |\n",
      "+------------+------+------+----+-----+-----+----------+--------+\n",
      "only showing top 20 rows\n",
      "\n"
     ]
    }
   ],
   "source": [
    "#from pyspark.sql.window import Window\n",
    "#window = Window.partitionBy().orderBy('index')\n",
    "#combine.withColumn('shift_down', lag(combine.id,10).over(window)).withColumn('shift_up', lead(combine.id,10).over(window)).show(truncate=False)"
   ]
  },
  {
   "cell_type": "code",
   "execution_count": 153,
   "metadata": {},
   "outputs": [
    {
     "data": {
      "text/plain": [
       "['mac', 'm1', 'm2', 'p', 'id', 'index']"
      ]
     },
     "execution_count": 153,
     "metadata": {},
     "output_type": "execute_result"
    }
   ],
   "source": [
    "combine."
   ]
  },
  {
   "cell_type": "code",
   "execution_count": null,
   "metadata": {},
   "outputs": [],
   "source": []
  }
 ],
 "metadata": {
  "kernelspec": {
   "display_name": "Python 3",
   "language": "python",
   "name": "python3"
  },
  "language_info": {
   "codemirror_mode": {
    "name": "ipython",
    "version": 3
   },
   "file_extension": ".py",
   "mimetype": "text/x-python",
   "name": "python",
   "nbconvert_exporter": "python",
   "pygments_lexer": "ipython3",
   "version": "3.7.3"
  }
 },
 "nbformat": 4,
 "nbformat_minor": 2
}
