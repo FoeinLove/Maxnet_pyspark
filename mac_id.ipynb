{
 "cells": [
  {
   "cell_type": "code",
   "execution_count": 1,
   "metadata": {},
   "outputs": [],
   "source": [
    "from pyspark.sql.functions import *\n",
    "d = spark.read.csv('/user/maxnet/database/sig.db/data_mac_res',sep='\\x01')\n",
    "d = d.withColumnRenamed('_c0','mac').withColumnRenamed('_c1','id')\n",
    "d = d.withColumn('m1',substring(d.mac,1,1)).\\\n",
    "      withColumn('m2',substring(d.mac,2,1)).\\\n",
    "      withColumn('m3',substring(d.mac,3,1)).\\\n",
    "      withColumn('m4',substring(d.mac,4,1)).\\\n",
    "      withColumn('m5',substring(d.mac,5,1)).\\\n",
    "      withColumn('m6',substring(d.mac,6,1)).\\\n",
    "      withColumn('m7',substring(d.mac,7,1)).\\\n",
    "      withColumn('m8',substring(d.mac,8,1)).\\\n",
    "      withColumn('m9',substring(d.mac,9,1)).\\\n",
    "      withColumn('m10',substring(d.mac,10,1)).\\\n",
    "      withColumn('m11',substring(d.mac,11,1)).\\\n",
    "      withColumn('m12',substring(d.mac,12,1))  "
   ]
  },
  {
   "cell_type": "code",
   "execution_count": 2,
   "metadata": {},
   "outputs": [
    {
     "name": "stdout",
     "output_type": "stream",
     "text": [
      "+------------+-----+---+---+---+---+---+---+---+---+---+---+---+---+\n",
      "|mac         |id   |m1 |m2 |m3 |m4 |m5 |m6 |m7 |m8 |m9 |m10|m11|m12|\n",
      "+------------+-----+---+---+---+---+---+---+---+---+---+---+---+---+\n",
      "|B8C74A11FB4D|10533|B  |8  |C  |7  |4  |A  |1  |1  |F  |B  |4  |D  |\n",
      "|D4503F4A9BEB|40209|D  |4  |5  |0  |3  |F  |4  |A  |9  |B  |E  |B  |\n",
      "|14C697EA51C7|42209|1  |4  |C  |6  |9  |7  |E  |A  |5  |1  |C  |7  |\n",
      "|386EA2DEC715|41158|3  |8  |6  |E  |A  |2  |D  |E  |C  |7  |1  |5  |\n",
      "|40CD7A210159|48883|4  |0  |C  |D  |7  |A  |2  |1  |0  |1  |5  |9  |\n",
      "|E4B2FBA9777E|39226|E  |4  |B  |2  |F  |B  |A  |9  |7  |7  |7  |E  |\n",
      "|587A6AFB7819|42210|5  |8  |7  |A  |6  |A  |F  |B  |7  |8  |1  |9  |\n",
      "|208B37F4F60A|10535|2  |0  |8  |B  |3  |7  |F  |4  |F  |6  |0  |A  |\n",
      "|B0E5EDCCDF22|40780|B  |0  |E  |5  |E  |D  |C  |C  |D  |F  |2  |2  |\n",
      "|C0F4E69F8772|10803|C  |0  |F  |4  |E  |6  |9  |F  |8  |7  |7  |2  |\n",
      "|449EF91BE94D|39367|4  |4  |9  |E  |F  |9  |1  |B  |E  |9  |4  |D  |\n",
      "|9C2EA1C7D9C1|39781|9  |C  |2  |E  |A  |1  |C  |7  |D  |9  |C  |1  |\n",
      "|FC1A11A7B1E1|41139|F  |C  |1  |A  |1  |1  |A  |7  |B  |1  |E  |1  |\n",
      "|EC26CA7EAF23|50485|E  |C  |2  |6  |C  |A  |7  |E  |A  |F  |2  |3  |\n",
      "|90F052687CD0|42240|9  |0  |F  |0  |5  |2  |6  |8  |7  |C  |D  |0  |\n",
      "|40003D06635E|41137|4  |0  |0  |0  |3  |D  |0  |6  |6  |3  |5  |E  |\n",
      "|A89CED8930DE|11107|A  |8  |9  |C  |E  |D  |8  |9  |3  |0  |D  |E  |\n",
      "|3412F91C975A|39525|3  |4  |1  |2  |F  |9  |1  |C  |9  |7  |5  |A  |\n",
      "|7836CCC9B4A5|42212|7  |8  |3  |6  |C  |C  |C  |9  |B  |4  |A  |5  |\n",
      "|2C5BB8C2A126|41330|2  |C  |5  |B  |B  |8  |C  |2  |A  |1  |2  |6  |\n",
      "+------------+-----+---+---+---+---+---+---+---+---+---+---+---+---+\n",
      "only showing top 20 rows\n",
      "\n"
     ]
    }
   ],
   "source": [
    "d.show(truncate=False)"
   ]
  },
  {
   "cell_type": "code",
   "execution_count": 3,
   "metadata": {},
   "outputs": [],
   "source": [
    "tmp = d.groupBy('id').count()\n",
    "tmp = tmp.withColumnRenamed('count','c')"
   ]
  },
  {
   "cell_type": "code",
   "execution_count": 4,
   "metadata": {},
   "outputs": [
    {
     "name": "stdout",
     "output_type": "stream",
     "text": [
      "+-----+---+\n",
      "|id   |c  |\n",
      "+-----+---+\n",
      "|12259|1  |\n",
      "|12311|1  |\n",
      "|12500|1  |\n",
      "|39629|1  |\n",
      "|11624|1  |\n",
      "|12404|1  |\n",
      "|10149|1  |\n",
      "|41436|1  |\n",
      "|12285|1  |\n",
      "|10358|1  |\n",
      "|12326|1  |\n",
      "|10452|1  |\n",
      "|12167|1  |\n",
      "|12354|1  |\n",
      "|12216|1  |\n",
      "|12397|1  |\n",
      "|12408|1  |\n",
      "|12523|1  |\n",
      "|12512|1  |\n",
      "|12409|1  |\n",
      "+-----+---+\n",
      "only showing top 20 rows\n",
      "\n"
     ]
    }
   ],
   "source": [
    "tmp.sort('c',ascending=True).show(truncate=False)"
   ]
  },
  {
   "cell_type": "code",
   "execution_count": 5,
   "metadata": {},
   "outputs": [
    {
     "name": "stdout",
     "output_type": "stream",
     "text": [
      "+-------+------------------+\n",
      "|summary|                 c|\n",
      "+-------+------------------+\n",
      "|  count|              4128|\n",
      "|   mean| 49418.97747093023|\n",
      "| stddev|228834.72165307103|\n",
      "|    min|                 1|\n",
      "|    25%|                91|\n",
      "|    50%|               552|\n",
      "|    75%|              4030|\n",
      "|    max|           4435867|\n",
      "+-------+------------------+\n",
      "\n"
     ]
    }
   ],
   "source": [
    "tmp.select('c').summary().show()"
   ]
  },
  {
   "cell_type": "code",
   "execution_count": 6,
   "metadata": {},
   "outputs": [],
   "source": [
    "use = tmp.filter(tmp.c > 40000)"
   ]
  },
  {
   "cell_type": "code",
   "execution_count": 7,
   "metadata": {},
   "outputs": [
    {
     "data": {
      "text/plain": [
       "(470, 470)"
      ]
     },
     "execution_count": 7,
     "metadata": {},
     "output_type": "execute_result"
    }
   ],
   "source": [
    "use.count(),use.distinct().count()"
   ]
  },
  {
   "cell_type": "code",
   "execution_count": 8,
   "metadata": {},
   "outputs": [],
   "source": [
    "use_df = use.repartition(1)\n",
    "use_pandas = use_df.toPandas()"
   ]
  },
  {
   "cell_type": "code",
   "execution_count": 9,
   "metadata": {},
   "outputs": [
    {
     "data": {
      "text/html": [
       "<div>\n",
       "<style scoped>\n",
       "    .dataframe tbody tr th:only-of-type {\n",
       "        vertical-align: middle;\n",
       "    }\n",
       "\n",
       "    .dataframe tbody tr th {\n",
       "        vertical-align: top;\n",
       "    }\n",
       "\n",
       "    .dataframe thead th {\n",
       "        text-align: right;\n",
       "    }\n",
       "</style>\n",
       "<table border=\"1\" class=\"dataframe\">\n",
       "  <thead>\n",
       "    <tr style=\"text-align: right;\">\n",
       "      <th></th>\n",
       "      <th>id</th>\n",
       "      <th>c</th>\n",
       "    </tr>\n",
       "  </thead>\n",
       "  <tbody>\n",
       "    <tr>\n",
       "      <th>0</th>\n",
       "      <td>39005</td>\n",
       "      <td>539648</td>\n",
       "    </tr>\n",
       "    <tr>\n",
       "      <th>1</th>\n",
       "      <td>39492</td>\n",
       "      <td>769767</td>\n",
       "    </tr>\n",
       "    <tr>\n",
       "      <th>2</th>\n",
       "      <td>39512</td>\n",
       "      <td>851884</td>\n",
       "    </tr>\n",
       "    <tr>\n",
       "      <th>3</th>\n",
       "      <td>42208</td>\n",
       "      <td>1099617</td>\n",
       "    </tr>\n",
       "    <tr>\n",
       "      <th>4</th>\n",
       "      <td>41098</td>\n",
       "      <td>270884</td>\n",
       "    </tr>\n",
       "  </tbody>\n",
       "</table>\n",
       "</div>"
      ],
      "text/plain": [
       "      id        c\n",
       "0  39005   539648\n",
       "1  39492   769767\n",
       "2  39512   851884\n",
       "3  42208  1099617\n",
       "4  41098   270884"
      ]
     },
     "execution_count": 9,
     "metadata": {},
     "output_type": "execute_result"
    }
   ],
   "source": [
    "use_pandas.head()"
   ]
  },
  {
   "cell_type": "code",
   "execution_count": 10,
   "metadata": {},
   "outputs": [],
   "source": [
    "use_id = list(use_pandas.id)"
   ]
  },
  {
   "cell_type": "code",
   "execution_count": 11,
   "metadata": {},
   "outputs": [],
   "source": [
    "def filt(s):\n",
    "    for x in use_id:\n",
    "        if x in s:\n",
    "            return 1\n",
    "    else:\n",
    "            return 0"
   ]
  },
  {
   "cell_type": "code",
   "execution_count": 12,
   "metadata": {},
   "outputs": [],
   "source": [
    "ft = udf(lambda x:filt(x))"
   ]
  },
  {
   "cell_type": "code",
   "execution_count": 13,
   "metadata": {},
   "outputs": [],
   "source": [
    "d_tmp = d.withColumn('filt',ft('id'))\n",
    "df = d_tmp.filter(d_tmp.filt == 1).select('mac','id','m1','m2','m3','m4','m5','m6','m7','m8','m9','m10','m11','m12')"
   ]
  },
  {
   "cell_type": "code",
   "execution_count": 14,
   "metadata": {},
   "outputs": [
    {
     "name": "stdout",
     "output_type": "stream",
     "text": [
      "+------------+-----+---+---+---+---+---+---+---+---+---+---+---+---+\n",
      "|mac         |id   |m1 |m2 |m3 |m4 |m5 |m6 |m7 |m8 |m9 |m10|m11|m12|\n",
      "+------------+-----+---+---+---+---+---+---+---+---+---+---+---+---+\n",
      "|B8C74A11FB4D|10533|B  |8  |C  |7  |4  |A  |1  |1  |F  |B  |4  |D  |\n",
      "|D4503F4A9BEB|40209|D  |4  |5  |0  |3  |F  |4  |A  |9  |B  |E  |B  |\n",
      "|14C697EA51C7|42209|1  |4  |C  |6  |9  |7  |E  |A  |5  |1  |C  |7  |\n",
      "|386EA2DEC715|41158|3  |8  |6  |E  |A  |2  |D  |E  |C  |7  |1  |5  |\n",
      "|40CD7A210159|48883|4  |0  |C  |D  |7  |A  |2  |1  |0  |1  |5  |9  |\n",
      "|E4B2FBA9777E|39226|E  |4  |B  |2  |F  |B  |A  |9  |7  |7  |7  |E  |\n",
      "|587A6AFB7819|42210|5  |8  |7  |A  |6  |A  |F  |B  |7  |8  |1  |9  |\n",
      "|208B37F4F60A|10535|2  |0  |8  |B  |3  |7  |F  |4  |F  |6  |0  |A  |\n",
      "|B0E5EDCCDF22|40780|B  |0  |E  |5  |E  |D  |C  |C  |D  |F  |2  |2  |\n",
      "|C0F4E69F8772|10803|C  |0  |F  |4  |E  |6  |9  |F  |8  |7  |7  |2  |\n",
      "|449EF91BE94D|39367|4  |4  |9  |E  |F  |9  |1  |B  |E  |9  |4  |D  |\n",
      "|9C2EA1C7D9C1|39781|9  |C  |2  |E  |A  |1  |C  |7  |D  |9  |C  |1  |\n",
      "|FC1A11A7B1E1|41139|F  |C  |1  |A  |1  |1  |A  |7  |B  |1  |E  |1  |\n",
      "|EC26CA7EAF23|50485|E  |C  |2  |6  |C  |A  |7  |E  |A  |F  |2  |3  |\n",
      "|40003D06635E|41137|4  |0  |0  |0  |3  |D  |0  |6  |6  |3  |5  |E  |\n",
      "|A89CED8930DE|11107|A  |8  |9  |C  |E  |D  |8  |9  |3  |0  |D  |E  |\n",
      "|3412F91C975A|39525|3  |4  |1  |2  |F  |9  |1  |C  |9  |7  |5  |A  |\n",
      "|7836CCC9B4A5|42212|7  |8  |3  |6  |C  |C  |C  |9  |B  |4  |A  |5  |\n",
      "|2C5BB8C2A126|41330|2  |C  |5  |B  |B  |8  |C  |2  |A  |1  |2  |6  |\n",
      "|9C0CDFE5D2AB|10858|9  |C  |0  |C  |D  |F  |E  |5  |D  |2  |A  |B  |\n",
      "+------------+-----+---+---+---+---+---+---+---+---+---+---+---+---+\n",
      "only showing top 20 rows\n",
      "\n"
     ]
    }
   ],
   "source": [
    "df.show(truncate=False)"
   ]
  },
  {
   "cell_type": "code",
   "execution_count": 15,
   "metadata": {},
   "outputs": [
    {
     "data": {
      "text/plain": [
       "470"
      ]
     },
     "execution_count": 15,
     "metadata": {},
     "output_type": "execute_result"
    }
   ],
   "source": [
    "df.select('id').distinct().count()"
   ]
  },
  {
   "cell_type": "code",
   "execution_count": 16,
   "metadata": {},
   "outputs": [
    {
     "data": {
      "text/plain": [
       "(194068115, 194068115)"
      ]
     },
     "execution_count": 16,
     "metadata": {},
     "output_type": "execute_result"
    }
   ],
   "source": [
    "df.count(),df.distinct().count()"
   ]
  },
  {
   "cell_type": "code",
   "execution_count": 17,
   "metadata": {},
   "outputs": [
    {
     "data": {
      "text/plain": [
       "[('mac', 'string'),\n",
       " ('id', 'string'),\n",
       " ('m1', 'string'),\n",
       " ('m2', 'string'),\n",
       " ('m3', 'string'),\n",
       " ('m4', 'string'),\n",
       " ('m5', 'string'),\n",
       " ('m6', 'string'),\n",
       " ('m7', 'string'),\n",
       " ('m8', 'string'),\n",
       " ('m9', 'string'),\n",
       " ('m10', 'string'),\n",
       " ('m11', 'string'),\n",
       " ('m12', 'string')]"
      ]
     },
     "execution_count": 17,
     "metadata": {},
     "output_type": "execute_result"
    }
   ],
   "source": [
    "df.dtypes"
   ]
  },
  {
   "cell_type": "code",
   "execution_count": 18,
   "metadata": {},
   "outputs": [
    {
     "name": "stdout",
     "output_type": "stream",
     "text": [
      "+------------+-----+---+---+---+---+---+---+---+---+---+---+---+---+\n",
      "|mac         |id   |m1 |m2 |m3 |m4 |m5 |m6 |m7 |m8 |m9 |m10|m11|m12|\n",
      "+------------+-----+---+---+---+---+---+---+---+---+---+---+---+---+\n",
      "|B8C74A11FB4D|10533|B  |8  |C  |7  |4  |A  |1  |1  |F  |B  |4  |D  |\n",
      "|D4503F4A9BEB|40209|D  |4  |5  |0  |3  |F  |4  |A  |9  |B  |E  |B  |\n",
      "|14C697EA51C7|42209|1  |4  |C  |6  |9  |7  |E  |A  |5  |1  |C  |7  |\n",
      "|386EA2DEC715|41158|3  |8  |6  |E  |A  |2  |D  |E  |C  |7  |1  |5  |\n",
      "|40CD7A210159|48883|4  |0  |C  |D  |7  |A  |2  |1  |0  |1  |5  |9  |\n",
      "+------------+-----+---+---+---+---+---+---+---+---+---+---+---+---+\n",
      "only showing top 5 rows\n",
      "\n"
     ]
    }
   ],
   "source": [
    "df.show(5,truncate=False)"
   ]
  },
  {
   "cell_type": "code",
   "execution_count": 19,
   "metadata": {},
   "outputs": [],
   "source": [
    "df = df.withColumn('f1',conv(df.m1, 16, 10)).withColumn('f2',conv(df.m2, 16, 10)).\\\n",
    "        withColumn('f3',conv(df.m3, 16, 10)).withColumn('f4',conv(df.m4, 16, 10)).\\\n",
    "        withColumn('f5',conv(df.m5, 16, 10)).withColumn('f6',conv(df.m6, 16, 10)).\\\n",
    "        withColumn('f7',conv(df.m7, 16, 10)).withColumn('f8',conv(df.m8, 16, 10)).\\\n",
    "        withColumn('f9',conv(df.m9, 16, 10)).withColumn('f10',conv(df.m10, 16, 10)).\\\n",
    "        withColumn('f11',conv(df.m11, 16, 10)).withColumn('f12',conv(df.m12, 16, 10))"
   ]
  },
  {
   "cell_type": "code",
   "execution_count": 20,
   "metadata": {},
   "outputs": [
    {
     "name": "stdout",
     "output_type": "stream",
     "text": [
      "+------------+-----+---+---+---+---+---+---+---+---+---+---+---+---+---+---+---+---+---+---+---+---+---+---+---+---+\n",
      "|         mac|   id| m1| m2| m3| m4| m5| m6| m7| m8| m9|m10|m11|m12| f1| f2| f3| f4| f5| f6| f7| f8| f9|f10|f11|f12|\n",
      "+------------+-----+---+---+---+---+---+---+---+---+---+---+---+---+---+---+---+---+---+---+---+---+---+---+---+---+\n",
      "|B8C74A11FB4D|10533|  B|  8|  C|  7|  4|  A|  1|  1|  F|  B|  4|  D| 11|  8| 12|  7|  4| 10|  1|  1| 15| 11|  4| 13|\n",
      "|D4503F4A9BEB|40209|  D|  4|  5|  0|  3|  F|  4|  A|  9|  B|  E|  B| 13|  4|  5|  0|  3| 15|  4| 10|  9| 11| 14| 11|\n",
      "|14C697EA51C7|42209|  1|  4|  C|  6|  9|  7|  E|  A|  5|  1|  C|  7|  1|  4| 12|  6|  9|  7| 14| 10|  5|  1| 12|  7|\n",
      "|386EA2DEC715|41158|  3|  8|  6|  E|  A|  2|  D|  E|  C|  7|  1|  5|  3|  8|  6| 14| 10|  2| 13| 14| 12|  7|  1|  5|\n",
      "|40CD7A210159|48883|  4|  0|  C|  D|  7|  A|  2|  1|  0|  1|  5|  9|  4|  0| 12| 13|  7| 10|  2|  1|  0|  1|  5|  9|\n",
      "|E4B2FBA9777E|39226|  E|  4|  B|  2|  F|  B|  A|  9|  7|  7|  7|  E| 14|  4| 11|  2| 15| 11| 10|  9|  7|  7|  7| 14|\n",
      "|587A6AFB7819|42210|  5|  8|  7|  A|  6|  A|  F|  B|  7|  8|  1|  9|  5|  8|  7| 10|  6| 10| 15| 11|  7|  8|  1|  9|\n",
      "|208B37F4F60A|10535|  2|  0|  8|  B|  3|  7|  F|  4|  F|  6|  0|  A|  2|  0|  8| 11|  3|  7| 15|  4| 15|  6|  0| 10|\n",
      "|B0E5EDCCDF22|40780|  B|  0|  E|  5|  E|  D|  C|  C|  D|  F|  2|  2| 11|  0| 14|  5| 14| 13| 12| 12| 13| 15|  2|  2|\n",
      "|C0F4E69F8772|10803|  C|  0|  F|  4|  E|  6|  9|  F|  8|  7|  7|  2| 12|  0| 15|  4| 14|  6|  9| 15|  8|  7|  7|  2|\n",
      "|449EF91BE94D|39367|  4|  4|  9|  E|  F|  9|  1|  B|  E|  9|  4|  D|  4|  4|  9| 14| 15|  9|  1| 11| 14|  9|  4| 13|\n",
      "|9C2EA1C7D9C1|39781|  9|  C|  2|  E|  A|  1|  C|  7|  D|  9|  C|  1|  9| 12|  2| 14| 10|  1| 12|  7| 13|  9| 12|  1|\n",
      "|FC1A11A7B1E1|41139|  F|  C|  1|  A|  1|  1|  A|  7|  B|  1|  E|  1| 15| 12|  1| 10|  1|  1| 10|  7| 11|  1| 14|  1|\n",
      "|EC26CA7EAF23|50485|  E|  C|  2|  6|  C|  A|  7|  E|  A|  F|  2|  3| 14| 12|  2|  6| 12| 10|  7| 14| 10| 15|  2|  3|\n",
      "|40003D06635E|41137|  4|  0|  0|  0|  3|  D|  0|  6|  6|  3|  5|  E|  4|  0|  0|  0|  3| 13|  0|  6|  6|  3|  5| 14|\n",
      "|A89CED8930DE|11107|  A|  8|  9|  C|  E|  D|  8|  9|  3|  0|  D|  E| 10|  8|  9| 12| 14| 13|  8|  9|  3|  0| 13| 14|\n",
      "|3412F91C975A|39525|  3|  4|  1|  2|  F|  9|  1|  C|  9|  7|  5|  A|  3|  4|  1|  2| 15|  9|  1| 12|  9|  7|  5| 10|\n",
      "|7836CCC9B4A5|42212|  7|  8|  3|  6|  C|  C|  C|  9|  B|  4|  A|  5|  7|  8|  3|  6| 12| 12| 12|  9| 11|  4| 10|  5|\n",
      "|2C5BB8C2A126|41330|  2|  C|  5|  B|  B|  8|  C|  2|  A|  1|  2|  6|  2| 12|  5| 11| 11|  8| 12|  2| 10|  1|  2|  6|\n",
      "|9C0CDFE5D2AB|10858|  9|  C|  0|  C|  D|  F|  E|  5|  D|  2|  A|  B|  9| 12|  0| 12| 13| 15| 14|  5| 13|  2| 10| 11|\n",
      "+------------+-----+---+---+---+---+---+---+---+---+---+---+---+---+---+---+---+---+---+---+---+---+---+---+---+---+\n",
      "only showing top 20 rows\n",
      "\n"
     ]
    }
   ],
   "source": [
    "df.show()"
   ]
  },
  {
   "cell_type": "code",
   "execution_count": null,
   "metadata": {},
   "outputs": [],
   "source": []
  },
  {
   "cell_type": "code",
   "execution_count": 21,
   "metadata": {},
   "outputs": [
    {
     "data": {
      "text/plain": [
       "[('mac', 'string'),\n",
       " ('id', 'string'),\n",
       " ('m1', 'string'),\n",
       " ('m2', 'string'),\n",
       " ('m3', 'string'),\n",
       " ('m4', 'string'),\n",
       " ('m5', 'string'),\n",
       " ('m6', 'string'),\n",
       " ('m7', 'string'),\n",
       " ('m8', 'string'),\n",
       " ('m9', 'string'),\n",
       " ('m10', 'string'),\n",
       " ('m11', 'string'),\n",
       " ('m12', 'string'),\n",
       " ('f1', 'string'),\n",
       " ('f2', 'string'),\n",
       " ('f3', 'string'),\n",
       " ('f4', 'string'),\n",
       " ('f5', 'string'),\n",
       " ('f6', 'string'),\n",
       " ('f7', 'string'),\n",
       " ('f8', 'string'),\n",
       " ('f9', 'string'),\n",
       " ('f10', 'string'),\n",
       " ('f11', 'string'),\n",
       " ('f12', 'string')]"
      ]
     },
     "execution_count": 21,
     "metadata": {},
     "output_type": "execute_result"
    }
   ],
   "source": [
    "df.dtypes"
   ]
  },
  {
   "cell_type": "code",
   "execution_count": 22,
   "metadata": {},
   "outputs": [],
   "source": [
    "df = df.select('mac','id',col('f1').cast('float'),col('f2').cast('float')\\\n",
    "               ,col('f3').cast('float'),col('f4').cast('float')\\\n",
    "               ,col('f5').cast('float'),col('f6').cast('float')\\\n",
    "               ,col('f7').cast('float'),col('f8').cast('float')\\\n",
    "               ,col('f9').cast('float'),col('f10').cast('float')\\\n",
    "               ,col('f11').cast('float'),col('f12').cast('float'))"
   ]
  },
  {
   "cell_type": "code",
   "execution_count": 23,
   "metadata": {},
   "outputs": [],
   "source": [
    "from pyspark.ml.feature import VectorAssembler\n",
    "vec = VectorAssembler(inputCols=['f1','f2','f3','f4','f5','f6','f7','f8','f9','f10','f11','f12'],outputCol='features')\n",
    "new_df = vec.transform(df)"
   ]
  },
  {
   "cell_type": "code",
   "execution_count": 24,
   "metadata": {},
   "outputs": [],
   "source": [
    "from pyspark.ml.feature import StringIndexer\n",
    "si = StringIndexer(inputCol='id', outputCol='label')\n",
    "si_model = si.fit(new_df)\n",
    "df_final = si_model.transform(new_df)"
   ]
  },
  {
   "cell_type": "code",
   "execution_count": 25,
   "metadata": {},
   "outputs": [
    {
     "name": "stdout",
     "output_type": "stream",
     "text": [
      "+------------+-----+----+---+----+----+----+----+----+----+----+----+----+----+-------------------------------------------------------+-----+\n",
      "|mac         |id   |f1  |f2 |f3  |f4  |f5  |f6  |f7  |f8  |f9  |f10 |f11 |f12 |features                                               |label|\n",
      "+------------+-----+----+---+----+----+----+----+----+----+----+----+----+----+-------------------------------------------------------+-----+\n",
      "|B8C74A11FB4D|10533|11.0|8.0|12.0|7.0 |4.0 |10.0|1.0 |1.0 |15.0|11.0|4.0 |13.0|[11.0,8.0,12.0,7.0,4.0,10.0,1.0,1.0,15.0,11.0,4.0,13.0]|2.0  |\n",
      "|D4503F4A9BEB|40209|13.0|4.0|5.0 |0.0 |3.0 |15.0|4.0 |10.0|9.0 |11.0|14.0|11.0|[13.0,4.0,5.0,0.0,3.0,15.0,4.0,10.0,9.0,11.0,14.0,11.0]|107.0|\n",
      "|14C697EA51C7|42209|1.0 |4.0|12.0|6.0 |9.0 |7.0 |14.0|10.0|5.0 |1.0 |12.0|7.0 |[1.0,4.0,12.0,6.0,9.0,7.0,14.0,10.0,5.0,1.0,12.0,7.0]  |22.0 |\n",
      "|386EA2DEC715|41158|3.0 |8.0|6.0 |14.0|10.0|2.0 |13.0|14.0|12.0|7.0 |1.0 |5.0 |[3.0,8.0,6.0,14.0,10.0,2.0,13.0,14.0,12.0,7.0,1.0,5.0] |1.0  |\n",
      "|40CD7A210159|48883|4.0 |0.0|12.0|13.0|7.0 |10.0|2.0 |1.0 |0.0 |1.0 |5.0 |9.0 |[4.0,0.0,12.0,13.0,7.0,10.0,2.0,1.0,0.0,1.0,5.0,9.0]   |192.0|\n",
      "+------------+-----+----+---+----+----+----+----+----+----+----+----+----+----+-------------------------------------------------------+-----+\n",
      "only showing top 5 rows\n",
      "\n"
     ]
    }
   ],
   "source": [
    "df_final.show(5,truncate=False)"
   ]
  },
  {
   "cell_type": "code",
   "execution_count": 26,
   "metadata": {},
   "outputs": [
    {
     "data": {
      "text/plain": [
       "[('mac', 'string'),\n",
       " ('id', 'string'),\n",
       " ('f1', 'float'),\n",
       " ('f2', 'float'),\n",
       " ('f3', 'float'),\n",
       " ('f4', 'float'),\n",
       " ('f5', 'float'),\n",
       " ('f6', 'float'),\n",
       " ('f7', 'float'),\n",
       " ('f8', 'float'),\n",
       " ('f9', 'float'),\n",
       " ('f10', 'float'),\n",
       " ('f11', 'float'),\n",
       " ('f12', 'float'),\n",
       " ('features', 'vector'),\n",
       " ('label', 'double')]"
      ]
     },
     "execution_count": 26,
     "metadata": {},
     "output_type": "execute_result"
    }
   ],
   "source": [
    "df_final.dtypes"
   ]
  },
  {
   "cell_type": "code",
   "execution_count": 27,
   "metadata": {},
   "outputs": [],
   "source": [
    "trainDF,testDF = df_final.randomSplit([0.7,0.3],seed=0)"
   ]
  },
  {
   "cell_type": "code",
   "execution_count": 28,
   "metadata": {},
   "outputs": [
    {
     "data": {
      "text/plain": [
       "135846957"
      ]
     },
     "execution_count": 28,
     "metadata": {},
     "output_type": "execute_result"
    }
   ],
   "source": [
    "trainDF.count()"
   ]
  },
  {
   "cell_type": "code",
   "execution_count": null,
   "metadata": {},
   "outputs": [],
   "source": []
  },
  {
   "cell_type": "markdown",
   "metadata": {},
   "source": [
    "# Training"
   ]
  },
  {
   "cell_type": "code",
   "execution_count": 1,
   "metadata": {},
   "outputs": [],
   "source": [
    "df_final = spark.read.parquet('/data/user/hive/warehouse/ian/feature/mac_features')\n",
    "trainDF,testDF = df_final.randomSplit([0.7,0.3],seed=0)"
   ]
  },
  {
   "cell_type": "code",
   "execution_count": null,
   "metadata": {},
   "outputs": [],
   "source": [
    "from pyspark.ml.classification import RandomForestClassifier\n",
    "from pyspark.ml.evaluation import MulticlassClassificationEvaluator\n",
    "from pyspark.ml.tuning import CrossValidator,ParamGridBuilder\n",
    "import numpy as np\n",
    "\n",
    "rf = RandomForestClassifier()\n",
    "\n",
    "paramGrid_rf = ParamGridBuilder()\\\n",
    "       .addGrid(rf.maxDepth,[3,4,5,6,7,8,9,10])\\\n",
    "       .addGrid(rf.numTrees,[10,15,20,25,30])\\\n",
    "       .build()\n",
    "\n",
    "crossval_rf = CrossValidator(estimator=rf,\n",
    "                            estimatorParamMaps=paramGrid_rf,\n",
    "                            evaluator=MulticlassClassificationEvaluator(),\n",
    "                            numFolds=5)\n",
    "\n",
    "cvModel_rf = crossval_rf.fit(trainDF)"
   ]
  },
  {
   "cell_type": "code",
   "execution_count": null,
   "metadata": {},
   "outputs": [],
   "source": []
  },
  {
   "cell_type": "code",
   "execution_count": null,
   "metadata": {},
   "outputs": [],
   "source": []
  },
  {
   "cell_type": "code",
   "execution_count": null,
   "metadata": {},
   "outputs": [],
   "source": []
  },
  {
   "cell_type": "code",
   "execution_count": null,
   "metadata": {},
   "outputs": [],
   "source": [
    "best_model_rf = cvModel_rf.bestModel"
   ]
  },
  {
   "cell_type": "code",
   "execution_count": null,
   "metadata": {},
   "outputs": [],
   "source": [
    "from pyspark.ml.evaluation import BinaryClassificationEvaluator\n",
    "my_eval_rf = BinaryClassificationEvaluator(\n",
    "    rawPredictionCol='prediction', labelCol='label', metricName='areaUnderROC')\n",
    "my_eval_rf.evaluate(best_model_rf.transform(testDF))"
   ]
  },
  {
   "cell_type": "code",
   "execution_count": null,
   "metadata": {},
   "outputs": [],
   "source": []
  },
  {
   "cell_type": "code",
   "execution_count": null,
   "metadata": {},
   "outputs": [],
   "source": []
  }
 ],
 "metadata": {
  "kernelspec": {
   "display_name": "Python 3",
   "language": "python",
   "name": "python3"
  },
  "language_info": {
   "codemirror_mode": {
    "name": "ipython",
    "version": 3
   },
   "file_extension": ".py",
   "mimetype": "text/x-python",
   "name": "python",
   "nbconvert_exporter": "python",
   "pygments_lexer": "ipython3",
   "version": "3.7.3"
  }
 },
 "nbformat": 4,
 "nbformat_minor": 2
}
