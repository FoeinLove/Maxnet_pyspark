{
 "cells": [
  {
   "cell_type": "code",
   "execution_count": 1,
   "metadata": {},
   "outputs": [],
   "source": [
    "from pyspark.sql.functions import *\n",
    "d = spark.read.csv('/user/maxnet/database/sig.db/data_mac_res',sep='\\x01')\n",
    "d = d.withColumnRenamed('_c0','mac').withColumnRenamed('_c1','id')\n",
    "d = d.withColumn('m1',substring(d.mac,1,1)).\\\n",
    "      withColumn('m2',substring(d.mac,2,1)).\\\n",
    "      withColumn('m3',substring(d.mac,3,1)).\\\n",
    "      withColumn('m4',substring(d.mac,4,1)).\\\n",
    "      withColumn('m5',substring(d.mac,5,1)).\\\n",
    "      withColumn('m6',substring(d.mac,6,1)).\\\n",
    "      withColumn('m7',substring(d.mac,7,1)).\\\n",
    "      withColumn('m8',substring(d.mac,8,1)).\\\n",
    "      withColumn('m9',substring(d.mac,9,1)).\\\n",
    "      withColumn('m10',substring(d.mac,10,1)).\\\n",
    "      withColumn('m11',substring(d.mac,11,1)).\\\n",
    "      withColumn('m12',substring(d.mac,12,1))  "
   ]
  },
  {
   "cell_type": "code",
   "execution_count": 2,
   "metadata": {},
   "outputs": [
    {
     "name": "stdout",
     "output_type": "stream",
     "text": [
      "+------------+-----+---+---+---+---+---+---+---+---+---+---+---+---+\n",
      "|mac         |id   |m1 |m2 |m3 |m4 |m5 |m6 |m7 |m8 |m9 |m10|m11|m12|\n",
      "+------------+-----+---+---+---+---+---+---+---+---+---+---+---+---+\n",
      "|B8C74A11FB4D|10533|B  |8  |C  |7  |4  |A  |1  |1  |F  |B  |4  |D  |\n",
      "|D4503F4A9BEB|40209|D  |4  |5  |0  |3  |F  |4  |A  |9  |B  |E  |B  |\n",
      "|14C697EA51C7|42209|1  |4  |C  |6  |9  |7  |E  |A  |5  |1  |C  |7  |\n",
      "|386EA2DEC715|41158|3  |8  |6  |E  |A  |2  |D  |E  |C  |7  |1  |5  |\n",
      "|40CD7A210159|48883|4  |0  |C  |D  |7  |A  |2  |1  |0  |1  |5  |9  |\n",
      "|E4B2FBA9777E|39226|E  |4  |B  |2  |F  |B  |A  |9  |7  |7  |7  |E  |\n",
      "|587A6AFB7819|42210|5  |8  |7  |A  |6  |A  |F  |B  |7  |8  |1  |9  |\n",
      "|208B37F4F60A|10535|2  |0  |8  |B  |3  |7  |F  |4  |F  |6  |0  |A  |\n",
      "|B0E5EDCCDF22|40780|B  |0  |E  |5  |E  |D  |C  |C  |D  |F  |2  |2  |\n",
      "|C0F4E69F8772|10803|C  |0  |F  |4  |E  |6  |9  |F  |8  |7  |7  |2  |\n",
      "|449EF91BE94D|39367|4  |4  |9  |E  |F  |9  |1  |B  |E  |9  |4  |D  |\n",
      "|9C2EA1C7D9C1|39781|9  |C  |2  |E  |A  |1  |C  |7  |D  |9  |C  |1  |\n",
      "|FC1A11A7B1E1|41139|F  |C  |1  |A  |1  |1  |A  |7  |B  |1  |E  |1  |\n",
      "|EC26CA7EAF23|50485|E  |C  |2  |6  |C  |A  |7  |E  |A  |F  |2  |3  |\n",
      "|90F052687CD0|42240|9  |0  |F  |0  |5  |2  |6  |8  |7  |C  |D  |0  |\n",
      "|40003D06635E|41137|4  |0  |0  |0  |3  |D  |0  |6  |6  |3  |5  |E  |\n",
      "|A89CED8930DE|11107|A  |8  |9  |C  |E  |D  |8  |9  |3  |0  |D  |E  |\n",
      "|3412F91C975A|39525|3  |4  |1  |2  |F  |9  |1  |C  |9  |7  |5  |A  |\n",
      "|7836CCC9B4A5|42212|7  |8  |3  |6  |C  |C  |C  |9  |B  |4  |A  |5  |\n",
      "|2C5BB8C2A126|41330|2  |C  |5  |B  |B  |8  |C  |2  |A  |1  |2  |6  |\n",
      "+------------+-----+---+---+---+---+---+---+---+---+---+---+---+---+\n",
      "only showing top 20 rows\n",
      "\n"
     ]
    }
   ],
   "source": [
    "d.show(truncate=False)"
   ]
  },
  {
   "cell_type": "code",
   "execution_count": 3,
   "metadata": {},
   "outputs": [],
   "source": [
    "tmp = d.groupBy('id').count()\n",
    "tmp = tmp.withColumnRenamed('count','c')"
   ]
  },
  {
   "cell_type": "code",
   "execution_count": 4,
   "metadata": {},
   "outputs": [
    {
     "name": "stdout",
     "output_type": "stream",
     "text": [
      "+-----+---+\n",
      "|id   |c  |\n",
      "+-----+---+\n",
      "|12259|1  |\n",
      "|12311|1  |\n",
      "|12500|1  |\n",
      "|39629|1  |\n",
      "|11624|1  |\n",
      "|12404|1  |\n",
      "|10149|1  |\n",
      "|41436|1  |\n",
      "|12285|1  |\n",
      "|10358|1  |\n",
      "|12326|1  |\n",
      "|10452|1  |\n",
      "|12167|1  |\n",
      "|12354|1  |\n",
      "|12216|1  |\n",
      "|12397|1  |\n",
      "|12408|1  |\n",
      "|12523|1  |\n",
      "|12512|1  |\n",
      "|12409|1  |\n",
      "+-----+---+\n",
      "only showing top 20 rows\n",
      "\n"
     ]
    }
   ],
   "source": [
    "tmp.sort('c',ascending=True).show(truncate=False)"
   ]
  },
  {
   "cell_type": "code",
   "execution_count": 5,
   "metadata": {},
   "outputs": [
    {
     "name": "stdout",
     "output_type": "stream",
     "text": [
      "+-------+------------------+\n",
      "|summary|                 c|\n",
      "+-------+------------------+\n",
      "|  count|              4128|\n",
      "|   mean| 49418.97747093023|\n",
      "| stddev|228834.72165307103|\n",
      "|    min|                 1|\n",
      "|    25%|                91|\n",
      "|    50%|               552|\n",
      "|    75%|              4030|\n",
      "|    max|           4435867|\n",
      "+-------+------------------+\n",
      "\n"
     ]
    }
   ],
   "source": [
    "tmp.select('c').summary().show()"
   ]
  },
  {
   "cell_type": "code",
   "execution_count": 6,
   "metadata": {},
   "outputs": [],
   "source": [
    "use = tmp.filter(tmp.c > 40000)"
   ]
  },
  {
   "cell_type": "code",
   "execution_count": 7,
   "metadata": {},
   "outputs": [
    {
     "data": {
      "text/plain": [
       "(470, 470)"
      ]
     },
     "execution_count": 7,
     "metadata": {},
     "output_type": "execute_result"
    }
   ],
   "source": [
    "use.count(),use.distinct().count()"
   ]
  },
  {
   "cell_type": "code",
   "execution_count": 8,
   "metadata": {},
   "outputs": [],
   "source": [
    "use_df = use.repartition(1)\n",
    "use_pandas = use_df.toPandas()"
   ]
  },
  {
   "cell_type": "code",
   "execution_count": 9,
   "metadata": {},
   "outputs": [
    {
     "data": {
      "text/html": [
       "<div>\n",
       "<style scoped>\n",
       "    .dataframe tbody tr th:only-of-type {\n",
       "        vertical-align: middle;\n",
       "    }\n",
       "\n",
       "    .dataframe tbody tr th {\n",
       "        vertical-align: top;\n",
       "    }\n",
       "\n",
       "    .dataframe thead th {\n",
       "        text-align: right;\n",
       "    }\n",
       "</style>\n",
       "<table border=\"1\" class=\"dataframe\">\n",
       "  <thead>\n",
       "    <tr style=\"text-align: right;\">\n",
       "      <th></th>\n",
       "      <th>id</th>\n",
       "      <th>c</th>\n",
       "    </tr>\n",
       "  </thead>\n",
       "  <tbody>\n",
       "    <tr>\n",
       "      <th>0</th>\n",
       "      <td>39005</td>\n",
       "      <td>539648</td>\n",
       "    </tr>\n",
       "    <tr>\n",
       "      <th>1</th>\n",
       "      <td>39492</td>\n",
       "      <td>769767</td>\n",
       "    </tr>\n",
       "    <tr>\n",
       "      <th>2</th>\n",
       "      <td>39512</td>\n",
       "      <td>851884</td>\n",
       "    </tr>\n",
       "    <tr>\n",
       "      <th>3</th>\n",
       "      <td>42208</td>\n",
       "      <td>1099617</td>\n",
       "    </tr>\n",
       "    <tr>\n",
       "      <th>4</th>\n",
       "      <td>41098</td>\n",
       "      <td>270884</td>\n",
       "    </tr>\n",
       "  </tbody>\n",
       "</table>\n",
       "</div>"
      ],
      "text/plain": [
       "      id        c\n",
       "0  39005   539648\n",
       "1  39492   769767\n",
       "2  39512   851884\n",
       "3  42208  1099617\n",
       "4  41098   270884"
      ]
     },
     "execution_count": 9,
     "metadata": {},
     "output_type": "execute_result"
    }
   ],
   "source": [
    "use_pandas.head()"
   ]
  },
  {
   "cell_type": "code",
   "execution_count": 10,
   "metadata": {},
   "outputs": [],
   "source": [
    "use_id = list(use_pandas.id)"
   ]
  },
  {
   "cell_type": "code",
   "execution_count": 11,
   "metadata": {},
   "outputs": [],
   "source": [
    "def filt(s):\n",
    "    for x in use_id:\n",
    "        if x in s:\n",
    "            return 1\n",
    "    else:\n",
    "            return 0"
   ]
  },
  {
   "cell_type": "code",
   "execution_count": 12,
   "metadata": {},
   "outputs": [],
   "source": [
    "ft = udf(lambda x:filt(x))"
   ]
  },
  {
   "cell_type": "code",
   "execution_count": 13,
   "metadata": {},
   "outputs": [],
   "source": [
    "d_tmp = d.withColumn('filt',ft('id'))\n",
    "df = d_tmp.filter(d_tmp.filt == 1).select('mac','id','m1','m2','m3','m4','m5','m6','m7','m8','m9','m10','m11','m12')"
   ]
  },
  {
   "cell_type": "code",
   "execution_count": 14,
   "metadata": {},
   "outputs": [
    {
     "name": "stdout",
     "output_type": "stream",
     "text": [
      "+------------+-----+---+---+---+---+---+---+---+---+---+---+---+---+\n",
      "|mac         |id   |m1 |m2 |m3 |m4 |m5 |m6 |m7 |m8 |m9 |m10|m11|m12|\n",
      "+------------+-----+---+---+---+---+---+---+---+---+---+---+---+---+\n",
      "|B8C74A11FB4D|10533|B  |8  |C  |7  |4  |A  |1  |1  |F  |B  |4  |D  |\n",
      "|D4503F4A9BEB|40209|D  |4  |5  |0  |3  |F  |4  |A  |9  |B  |E  |B  |\n",
      "|14C697EA51C7|42209|1  |4  |C  |6  |9  |7  |E  |A  |5  |1  |C  |7  |\n",
      "|386EA2DEC715|41158|3  |8  |6  |E  |A  |2  |D  |E  |C  |7  |1  |5  |\n",
      "|40CD7A210159|48883|4  |0  |C  |D  |7  |A  |2  |1  |0  |1  |5  |9  |\n",
      "|E4B2FBA9777E|39226|E  |4  |B  |2  |F  |B  |A  |9  |7  |7  |7  |E  |\n",
      "|587A6AFB7819|42210|5  |8  |7  |A  |6  |A  |F  |B  |7  |8  |1  |9  |\n",
      "|208B37F4F60A|10535|2  |0  |8  |B  |3  |7  |F  |4  |F  |6  |0  |A  |\n",
      "|B0E5EDCCDF22|40780|B  |0  |E  |5  |E  |D  |C  |C  |D  |F  |2  |2  |\n",
      "|C0F4E69F8772|10803|C  |0  |F  |4  |E  |6  |9  |F  |8  |7  |7  |2  |\n",
      "|449EF91BE94D|39367|4  |4  |9  |E  |F  |9  |1  |B  |E  |9  |4  |D  |\n",
      "|9C2EA1C7D9C1|39781|9  |C  |2  |E  |A  |1  |C  |7  |D  |9  |C  |1  |\n",
      "|FC1A11A7B1E1|41139|F  |C  |1  |A  |1  |1  |A  |7  |B  |1  |E  |1  |\n",
      "|EC26CA7EAF23|50485|E  |C  |2  |6  |C  |A  |7  |E  |A  |F  |2  |3  |\n",
      "|40003D06635E|41137|4  |0  |0  |0  |3  |D  |0  |6  |6  |3  |5  |E  |\n",
      "|A89CED8930DE|11107|A  |8  |9  |C  |E  |D  |8  |9  |3  |0  |D  |E  |\n",
      "|3412F91C975A|39525|3  |4  |1  |2  |F  |9  |1  |C  |9  |7  |5  |A  |\n",
      "|7836CCC9B4A5|42212|7  |8  |3  |6  |C  |C  |C  |9  |B  |4  |A  |5  |\n",
      "|2C5BB8C2A126|41330|2  |C  |5  |B  |B  |8  |C  |2  |A  |1  |2  |6  |\n",
      "|9C0CDFE5D2AB|10858|9  |C  |0  |C  |D  |F  |E  |5  |D  |2  |A  |B  |\n",
      "+------------+-----+---+---+---+---+---+---+---+---+---+---+---+---+\n",
      "only showing top 20 rows\n",
      "\n"
     ]
    }
   ],
   "source": [
    "df.show(truncate=False)"
   ]
  },
  {
   "cell_type": "code",
   "execution_count": 15,
   "metadata": {},
   "outputs": [
    {
     "data": {
      "text/plain": [
       "470"
      ]
     },
     "execution_count": 15,
     "metadata": {},
     "output_type": "execute_result"
    }
   ],
   "source": [
    "df.select('id').distinct().count()"
   ]
  },
  {
   "cell_type": "code",
   "execution_count": 16,
   "metadata": {},
   "outputs": [
    {
     "data": {
      "text/plain": [
       "(194068115, 194068115)"
      ]
     },
     "execution_count": 16,
     "metadata": {},
     "output_type": "execute_result"
    }
   ],
   "source": [
    "df.count(),df.distinct().count()"
   ]
  },
  {
   "cell_type": "code",
   "execution_count": 17,
   "metadata": {},
   "outputs": [
    {
     "data": {
      "text/plain": [
       "[('mac', 'string'),\n",
       " ('id', 'string'),\n",
       " ('m1', 'string'),\n",
       " ('m2', 'string'),\n",
       " ('m3', 'string'),\n",
       " ('m4', 'string'),\n",
       " ('m5', 'string'),\n",
       " ('m6', 'string'),\n",
       " ('m7', 'string'),\n",
       " ('m8', 'string'),\n",
       " ('m9', 'string'),\n",
       " ('m10', 'string'),\n",
       " ('m11', 'string'),\n",
       " ('m12', 'string')]"
      ]
     },
     "execution_count": 17,
     "metadata": {},
     "output_type": "execute_result"
    }
   ],
   "source": [
    "df.dtypes"
   ]
  },
  {
   "cell_type": "code",
   "execution_count": 18,
   "metadata": {},
   "outputs": [
    {
     "name": "stdout",
     "output_type": "stream",
     "text": [
      "+------------+-----+---+---+---+---+---+---+---+---+---+---+---+---+\n",
      "|mac         |id   |m1 |m2 |m3 |m4 |m5 |m6 |m7 |m8 |m9 |m10|m11|m12|\n",
      "+------------+-----+---+---+---+---+---+---+---+---+---+---+---+---+\n",
      "|B8C74A11FB4D|10533|B  |8  |C  |7  |4  |A  |1  |1  |F  |B  |4  |D  |\n",
      "|D4503F4A9BEB|40209|D  |4  |5  |0  |3  |F  |4  |A  |9  |B  |E  |B  |\n",
      "|14C697EA51C7|42209|1  |4  |C  |6  |9  |7  |E  |A  |5  |1  |C  |7  |\n",
      "|386EA2DEC715|41158|3  |8  |6  |E  |A  |2  |D  |E  |C  |7  |1  |5  |\n",
      "|40CD7A210159|48883|4  |0  |C  |D  |7  |A  |2  |1  |0  |1  |5  |9  |\n",
      "+------------+-----+---+---+---+---+---+---+---+---+---+---+---+---+\n",
      "only showing top 5 rows\n",
      "\n"
     ]
    }
   ],
   "source": [
    "df.show(5,truncate=False)"
   ]
  },
  {
   "cell_type": "code",
   "execution_count": 19,
   "metadata": {},
   "outputs": [],
   "source": [
    "df = df.withColumn('f1',conv(df.m1, 16, 10)).withColumn('f2',conv(df.m2, 16, 10)).\\\n",
    "        withColumn('f3',conv(df.m3, 16, 10)).withColumn('f4',conv(df.m4, 16, 10)).\\\n",
    "        withColumn('f5',conv(df.m5, 16, 10)).withColumn('f6',conv(df.m6, 16, 10)).\\\n",
    "        withColumn('f7',conv(df.m7, 16, 10)).withColumn('f8',conv(df.m8, 16, 10)).\\\n",
    "        withColumn('f9',conv(df.m9, 16, 10)).withColumn('f10',conv(df.m10, 16, 10)).\\\n",
    "        withColumn('f11',conv(df.m11, 16, 10)).withColumn('f12',conv(df.m12, 16, 10))"
   ]
  },
  {
   "cell_type": "code",
   "execution_count": 20,
   "metadata": {},
   "outputs": [
    {
     "name": "stdout",
     "output_type": "stream",
     "text": [
      "+------------+-----+---+---+---+---+---+---+---+---+---+---+---+---+---+---+---+---+---+---+---+---+---+---+---+---+\n",
      "|         mac|   id| m1| m2| m3| m4| m5| m6| m7| m8| m9|m10|m11|m12| f1| f2| f3| f4| f5| f6| f7| f8| f9|f10|f11|f12|\n",
      "+------------+-----+---+---+---+---+---+---+---+---+---+---+---+---+---+---+---+---+---+---+---+---+---+---+---+---+\n",
      "|B8C74A11FB4D|10533|  B|  8|  C|  7|  4|  A|  1|  1|  F|  B|  4|  D| 11|  8| 12|  7|  4| 10|  1|  1| 15| 11|  4| 13|\n",
      "|D4503F4A9BEB|40209|  D|  4|  5|  0|  3|  F|  4|  A|  9|  B|  E|  B| 13|  4|  5|  0|  3| 15|  4| 10|  9| 11| 14| 11|\n",
      "|14C697EA51C7|42209|  1|  4|  C|  6|  9|  7|  E|  A|  5|  1|  C|  7|  1|  4| 12|  6|  9|  7| 14| 10|  5|  1| 12|  7|\n",
      "|386EA2DEC715|41158|  3|  8|  6|  E|  A|  2|  D|  E|  C|  7|  1|  5|  3|  8|  6| 14| 10|  2| 13| 14| 12|  7|  1|  5|\n",
      "|40CD7A210159|48883|  4|  0|  C|  D|  7|  A|  2|  1|  0|  1|  5|  9|  4|  0| 12| 13|  7| 10|  2|  1|  0|  1|  5|  9|\n",
      "|E4B2FBA9777E|39226|  E|  4|  B|  2|  F|  B|  A|  9|  7|  7|  7|  E| 14|  4| 11|  2| 15| 11| 10|  9|  7|  7|  7| 14|\n",
      "|587A6AFB7819|42210|  5|  8|  7|  A|  6|  A|  F|  B|  7|  8|  1|  9|  5|  8|  7| 10|  6| 10| 15| 11|  7|  8|  1|  9|\n",
      "|208B37F4F60A|10535|  2|  0|  8|  B|  3|  7|  F|  4|  F|  6|  0|  A|  2|  0|  8| 11|  3|  7| 15|  4| 15|  6|  0| 10|\n",
      "|B0E5EDCCDF22|40780|  B|  0|  E|  5|  E|  D|  C|  C|  D|  F|  2|  2| 11|  0| 14|  5| 14| 13| 12| 12| 13| 15|  2|  2|\n",
      "|C0F4E69F8772|10803|  C|  0|  F|  4|  E|  6|  9|  F|  8|  7|  7|  2| 12|  0| 15|  4| 14|  6|  9| 15|  8|  7|  7|  2|\n",
      "|449EF91BE94D|39367|  4|  4|  9|  E|  F|  9|  1|  B|  E|  9|  4|  D|  4|  4|  9| 14| 15|  9|  1| 11| 14|  9|  4| 13|\n",
      "|9C2EA1C7D9C1|39781|  9|  C|  2|  E|  A|  1|  C|  7|  D|  9|  C|  1|  9| 12|  2| 14| 10|  1| 12|  7| 13|  9| 12|  1|\n",
      "|FC1A11A7B1E1|41139|  F|  C|  1|  A|  1|  1|  A|  7|  B|  1|  E|  1| 15| 12|  1| 10|  1|  1| 10|  7| 11|  1| 14|  1|\n",
      "|EC26CA7EAF23|50485|  E|  C|  2|  6|  C|  A|  7|  E|  A|  F|  2|  3| 14| 12|  2|  6| 12| 10|  7| 14| 10| 15|  2|  3|\n",
      "|40003D06635E|41137|  4|  0|  0|  0|  3|  D|  0|  6|  6|  3|  5|  E|  4|  0|  0|  0|  3| 13|  0|  6|  6|  3|  5| 14|\n",
      "|A89CED8930DE|11107|  A|  8|  9|  C|  E|  D|  8|  9|  3|  0|  D|  E| 10|  8|  9| 12| 14| 13|  8|  9|  3|  0| 13| 14|\n",
      "|3412F91C975A|39525|  3|  4|  1|  2|  F|  9|  1|  C|  9|  7|  5|  A|  3|  4|  1|  2| 15|  9|  1| 12|  9|  7|  5| 10|\n",
      "|7836CCC9B4A5|42212|  7|  8|  3|  6|  C|  C|  C|  9|  B|  4|  A|  5|  7|  8|  3|  6| 12| 12| 12|  9| 11|  4| 10|  5|\n",
      "|2C5BB8C2A126|41330|  2|  C|  5|  B|  B|  8|  C|  2|  A|  1|  2|  6|  2| 12|  5| 11| 11|  8| 12|  2| 10|  1|  2|  6|\n",
      "|9C0CDFE5D2AB|10858|  9|  C|  0|  C|  D|  F|  E|  5|  D|  2|  A|  B|  9| 12|  0| 12| 13| 15| 14|  5| 13|  2| 10| 11|\n",
      "+------------+-----+---+---+---+---+---+---+---+---+---+---+---+---+---+---+---+---+---+---+---+---+---+---+---+---+\n",
      "only showing top 20 rows\n",
      "\n"
     ]
    }
   ],
   "source": [
    "df.show()"
   ]
  },
  {
   "cell_type": "code",
   "execution_count": null,
   "metadata": {},
   "outputs": [],
   "source": []
  },
  {
   "cell_type": "code",
   "execution_count": 21,
   "metadata": {},
   "outputs": [
    {
     "data": {
      "text/plain": [
       "[('mac', 'string'),\n",
       " ('id', 'string'),\n",
       " ('m1', 'string'),\n",
       " ('m2', 'string'),\n",
       " ('m3', 'string'),\n",
       " ('m4', 'string'),\n",
       " ('m5', 'string'),\n",
       " ('m6', 'string'),\n",
       " ('m7', 'string'),\n",
       " ('m8', 'string'),\n",
       " ('m9', 'string'),\n",
       " ('m10', 'string'),\n",
       " ('m11', 'string'),\n",
       " ('m12', 'string'),\n",
       " ('f1', 'string'),\n",
       " ('f2', 'string'),\n",
       " ('f3', 'string'),\n",
       " ('f4', 'string'),\n",
       " ('f5', 'string'),\n",
       " ('f6', 'string'),\n",
       " ('f7', 'string'),\n",
       " ('f8', 'string'),\n",
       " ('f9', 'string'),\n",
       " ('f10', 'string'),\n",
       " ('f11', 'string'),\n",
       " ('f12', 'string')]"
      ]
     },
     "execution_count": 21,
     "metadata": {},
     "output_type": "execute_result"
    }
   ],
   "source": [
    "df.dtypes"
   ]
  },
  {
   "cell_type": "code",
   "execution_count": 22,
   "metadata": {},
   "outputs": [],
   "source": [
    "df = df.select('mac','id',col('f1').cast('float'),col('f2').cast('float')\\\n",
    "               ,col('f3').cast('float'),col('f4').cast('float')\\\n",
    "               ,col('f5').cast('float'),col('f6').cast('float')\\\n",
    "               ,col('f7').cast('float'),col('f8').cast('float')\\\n",
    "               ,col('f9').cast('float'),col('f10').cast('float')\\\n",
    "               ,col('f11').cast('float'),col('f12').cast('float'))"
   ]
  },
  {
   "cell_type": "code",
   "execution_count": 23,
   "metadata": {},
   "outputs": [],
   "source": [
    "from pyspark.ml.feature import VectorAssembler\n",
    "vec = VectorAssembler(inputCols=['f1','f2','f3','f4','f5','f6','f7','f8','f9','f10','f11','f12'],outputCol='features')\n",
    "new_df = vec.transform(df)"
   ]
  },
  {
   "cell_type": "code",
   "execution_count": 24,
   "metadata": {},
   "outputs": [],
   "source": [
    "from pyspark.ml.feature import StringIndexer\n",
    "si = StringIndexer(inputCol='id', outputCol='label')\n",
    "si_model = si.fit(new_df)\n",
    "df_final = si_model.transform(new_df)"
   ]
  },
  {
   "cell_type": "code",
   "execution_count": 25,
   "metadata": {},
   "outputs": [
    {
     "name": "stdout",
     "output_type": "stream",
     "text": [
      "+------------+-----+----+---+----+----+----+----+----+----+----+----+----+----+-------------------------------------------------------+-----+\n",
      "|mac         |id   |f1  |f2 |f3  |f4  |f5  |f6  |f7  |f8  |f9  |f10 |f11 |f12 |features                                               |label|\n",
      "+------------+-----+----+---+----+----+----+----+----+----+----+----+----+----+-------------------------------------------------------+-----+\n",
      "|B8C74A11FB4D|10533|11.0|8.0|12.0|7.0 |4.0 |10.0|1.0 |1.0 |15.0|11.0|4.0 |13.0|[11.0,8.0,12.0,7.0,4.0,10.0,1.0,1.0,15.0,11.0,4.0,13.0]|2.0  |\n",
      "|D4503F4A9BEB|40209|13.0|4.0|5.0 |0.0 |3.0 |15.0|4.0 |10.0|9.0 |11.0|14.0|11.0|[13.0,4.0,5.0,0.0,3.0,15.0,4.0,10.0,9.0,11.0,14.0,11.0]|107.0|\n",
      "|14C697EA51C7|42209|1.0 |4.0|12.0|6.0 |9.0 |7.0 |14.0|10.0|5.0 |1.0 |12.0|7.0 |[1.0,4.0,12.0,6.0,9.0,7.0,14.0,10.0,5.0,1.0,12.0,7.0]  |22.0 |\n",
      "|386EA2DEC715|41158|3.0 |8.0|6.0 |14.0|10.0|2.0 |13.0|14.0|12.0|7.0 |1.0 |5.0 |[3.0,8.0,6.0,14.0,10.0,2.0,13.0,14.0,12.0,7.0,1.0,5.0] |1.0  |\n",
      "|40CD7A210159|48883|4.0 |0.0|12.0|13.0|7.0 |10.0|2.0 |1.0 |0.0 |1.0 |5.0 |9.0 |[4.0,0.0,12.0,13.0,7.0,10.0,2.0,1.0,0.0,1.0,5.0,9.0]   |192.0|\n",
      "+------------+-----+----+---+----+----+----+----+----+----+----+----+----+----+-------------------------------------------------------+-----+\n",
      "only showing top 5 rows\n",
      "\n"
     ]
    }
   ],
   "source": [
    "df_final.show(5,truncate=False)"
   ]
  },
  {
   "cell_type": "code",
   "execution_count": 26,
   "metadata": {},
   "outputs": [
    {
     "data": {
      "text/plain": [
       "[('mac', 'string'),\n",
       " ('id', 'string'),\n",
       " ('f1', 'float'),\n",
       " ('f2', 'float'),\n",
       " ('f3', 'float'),\n",
       " ('f4', 'float'),\n",
       " ('f5', 'float'),\n",
       " ('f6', 'float'),\n",
       " ('f7', 'float'),\n",
       " ('f8', 'float'),\n",
       " ('f9', 'float'),\n",
       " ('f10', 'float'),\n",
       " ('f11', 'float'),\n",
       " ('f12', 'float'),\n",
       " ('features', 'vector'),\n",
       " ('label', 'double')]"
      ]
     },
     "execution_count": 26,
     "metadata": {},
     "output_type": "execute_result"
    }
   ],
   "source": [
    "df_final.dtypes"
   ]
  },
  {
   "cell_type": "code",
   "execution_count": 27,
   "metadata": {},
   "outputs": [],
   "source": [
    "trainDF,testDF = df_final.randomSplit([0.7,0.3],seed=0)"
   ]
  },
  {
   "cell_type": "code",
   "execution_count": 28,
   "metadata": {},
   "outputs": [
    {
     "data": {
      "text/plain": [
       "135846957"
      ]
     },
     "execution_count": 28,
     "metadata": {},
     "output_type": "execute_result"
    }
   ],
   "source": [
    "trainDF.count()"
   ]
  },
  {
   "cell_type": "code",
   "execution_count": null,
   "metadata": {},
   "outputs": [],
   "source": []
  },
  {
   "cell_type": "markdown",
   "metadata": {},
   "source": [
    "# Training"
   ]
  },
  {
   "cell_type": "code",
   "execution_count": 1,
   "metadata": {},
   "outputs": [],
   "source": [
    "df_final = spark.read.parquet('/data/user/hive/warehouse/ian/feature/mac_features')\n",
    "trainDF,testDF = df_final.randomSplit([0.7,0.3],seed=0)"
   ]
  },
  {
   "cell_type": "code",
   "execution_count": null,
   "metadata": {},
   "outputs": [],
   "source": [
    "from pyspark.ml.classification import RandomForestClassifier\n",
    "from pyspark.ml.evaluation import MulticlassClassificationEvaluator\n",
    "from pyspark.ml.tuning import CrossValidator,ParamGridBuilder\n",
    "import numpy as np\n",
    "\n",
    "rf = RandomForestClassifier()\n",
    "\n",
    "paramGrid_rf = ParamGridBuilder()\\\n",
    "       .addGrid(rf.maxDepth,[3,4,5,6,7,8,9,10])\\\n",
    "       .addGrid(rf.numTrees,[10,15,20,25,30])\\\n",
    "       .build()\n",
    "\n",
    "crossval_rf = CrossValidator(estimator=rf,\n",
    "                            estimatorParamMaps=paramGrid_rf,\n",
    "                            evaluator=MulticlassClassificationEvaluator(),\n",
    "                            numFolds=5)\n",
    "\n",
    "cvModel_rf = crossval_rf.fit(trainDF)"
   ]
  },
  {
   "cell_type": "code",
   "execution_count": null,
   "metadata": {},
   "outputs": [],
   "source": []
  },
  {
   "cell_type": "code",
   "execution_count": null,
   "metadata": {},
   "outputs": [],
   "source": []
  },
  {
   "cell_type": "code",
   "execution_count": null,
   "metadata": {},
   "outputs": [],
   "source": []
  },
  {
   "cell_type": "code",
   "execution_count": null,
   "metadata": {},
   "outputs": [],
   "source": [
    "best_model_rf = cvModel_rf.bestModel"
   ]
  },
  {
   "cell_type": "code",
   "execution_count": null,
   "metadata": {},
   "outputs": [],
   "source": [
    "from pyspark.ml.evaluation import MulticlassClassificationEvaluator\n",
    "my_eval_rf = BinaryClassificationEvaluator(\n",
    "    rawPredictionCol='prediction', labelCol='label', metricName='areaUnderROC')\n",
    "my_eval_rf.evaluate(best_model_rf.transform(testDF))"
   ]
  },
  {
   "cell_type": "code",
   "execution_count": null,
   "metadata": {},
   "outputs": [],
   "source": []
  },
  {
   "cell_type": "code",
   "execution_count": null,
   "metadata": {},
   "outputs": [],
   "source": []
  },
  {
   "cell_type": "code",
   "execution_count": null,
   "metadata": {},
   "outputs": [],
   "source": []
  },
  {
   "cell_type": "code",
   "execution_count": null,
   "metadata": {},
   "outputs": [],
   "source": []
  },
  {
   "cell_type": "markdown",
   "metadata": {},
   "source": [
    "# Apple"
   ]
  },
  {
   "cell_type": "raw",
   "metadata": {},
   "source": [
    "term_id，\n",
    "brand，品牌\n",
    "cn_name，中文名称\n",
    "en_name，英文名称\n",
    "type1，类型\n",
    "type2，主类型\n",
    "os，操作系统\n",
    "dtime，上市时间\n",
    "price，价格\n",
    "remarks，备注\n",
    "prio， 优先级"
   ]
  },
  {
   "cell_type": "code",
   "execution_count": 11,
   "metadata": {},
   "outputs": [
    {
     "name": "stdout",
     "output_type": "stream",
     "text": [
      "+-------+-----+--------------+--------------+--------+--------+-------+-------------+-----+-------+----+\n",
      "|term_id|brand|cn_name       |en_name       |type1   |type2   |os     |dtime        |price|remarks|prio|\n",
      "+-------+-----+--------------+--------------+--------+--------+-------+-------------+-----+-------+----+\n",
      "|40262  |大显 |大显X6        |DAXIAN X6     |手机    |手机    |Android|null         |null |null   |4   |\n",
      "|40979  |联想 |联想A2800d    |Lenovo A2800d |手机    |手机    |Android|2015/4/1 0:00|298.0|null   |4   |\n",
      "|11401  |vivo |vivo Y91      |vivo Y91      |手机    |手机    |Android|null         |null |null   |4   |\n",
      "|10980  |苹果 |iPad Pro 3(11)|iPad Pro 3(11)|平板    |平板    |IOS    |null         |null |null   |4   |\n",
      "|11765  |长虹 |长虹F8        |CHANGHONG F8  |智能电视|智能电视|Android|null         |null |null   |4   |\n",
      "+-------+-----+--------------+--------------+--------+--------+-------+-------------+-----+-------+----+\n",
      "only showing top 5 rows\n",
      "\n"
     ]
    }
   ],
   "source": [
    "d1 = spark.read.csv('/user/maxnet/database/sig.db/term_desc_all',sep='\\x01')\n",
    "d1 = d1.withColumnRenamed('_c0','term_id')\\\n",
    "       .withColumnRenamed('_c1','brand')\\\n",
    "       .withColumnRenamed('_c2','cn_name')\\\n",
    "       .withColumnRenamed('_c3','en_name')\\\n",
    "       .withColumnRenamed('_c4','type1')\\\n",
    "       .withColumnRenamed('_c5','type2')\\\n",
    "       .withColumnRenamed('_c6','os')\\\n",
    "       .withColumnRenamed('_c7','dtime')\\\n",
    "       .withColumnRenamed('_c8','price')\\\n",
    "       .withColumnRenamed('_c9','remarks')\\\n",
    "       .withColumnRenamed('_c10','prio')\n",
    "d1.show(5,truncate=False)"
   ]
  },
  {
   "cell_type": "code",
   "execution_count": null,
   "metadata": {},
   "outputs": [],
   "source": []
  },
  {
   "cell_type": "code",
   "execution_count": 12,
   "metadata": {},
   "outputs": [
    {
     "name": "stdout",
     "output_type": "stream",
     "text": [
      "+------+--------------------------------+\n",
      "|mac_6 |manu                            |\n",
      "+------+--------------------------------+\n",
      "|002272|american micro-fuel device corp.|\n",
      "|00D0EF|IGT                             |\n",
      "|086195|罗克韦尔                        |\n",
      "|F4BD9E|思科                            |\n",
      "|5885E9|锐尔觅                          |\n",
      "+------+--------------------------------+\n",
      "only showing top 5 rows\n",
      "\n"
     ]
    }
   ],
   "source": [
    "d2 = spark.read.csv('/user/maxnet/database/sig.db/term_oui',sep='\\x01')\n",
    "d2 = d2.withColumnRenamed('_c0','mac_6').withColumnRenamed('_c1','manu')\n",
    "d2.show(5,truncate=False)"
   ]
  },
  {
   "cell_type": "code",
   "execution_count": 13,
   "metadata": {},
   "outputs": [
    {
     "data": {
      "text/plain": [
       "(4655, 33420)"
      ]
     },
     "execution_count": 13,
     "metadata": {},
     "output_type": "execute_result"
    }
   ],
   "source": [
    "d1.count(),d2.count()"
   ]
  },
  {
   "cell_type": "code",
   "execution_count": 14,
   "metadata": {},
   "outputs": [
    {
     "data": {
      "text/plain": [
       "(4655, 33420)"
      ]
     },
     "execution_count": 14,
     "metadata": {},
     "output_type": "execute_result"
    }
   ],
   "source": [
    "d1.distinct().count(),d2.distinct().count()"
   ]
  },
  {
   "cell_type": "code",
   "execution_count": 15,
   "metadata": {},
   "outputs": [
    {
     "name": "stdout",
     "output_type": "stream",
     "text": [
      "+------------+-----+------+\n",
      "|mac         |id   |m1_6  |\n",
      "+------------+-----+------+\n",
      "|B8C74A11FB4D|10533|B8C74A|\n",
      "|D4503F4A9BEB|40209|D4503F|\n",
      "|14C697EA51C7|42209|14C697|\n",
      "|386EA2DEC715|41158|386EA2|\n",
      "|40CD7A210159|48883|40CD7A|\n",
      "+------------+-----+------+\n",
      "only showing top 5 rows\n",
      "\n"
     ]
    }
   ],
   "source": [
    "from pyspark.sql.functions import *\n",
    "d = spark.read.csv('/user/maxnet/database/sig.db/data_mac_res',sep='\\x01')\n",
    "d = d.withColumnRenamed('_c0','mac').withColumnRenamed('_c1','id')\n",
    "d = d.withColumn('m1_6',substring(d.mac,1,6))\n",
    "d.show(5,truncate=False)"
   ]
  },
  {
   "cell_type": "code",
   "execution_count": 16,
   "metadata": {},
   "outputs": [
    {
     "name": "stdout",
     "output_type": "stream",
     "text": [
      "+------------+-----+------+------+-------+\n",
      "|mac         |id   |m1_6  |mac_6 |manu   |\n",
      "+------------+-----+------+------+-------+\n",
      "|B8C74A11FB4D|10533|B8C74A|B8C74A|OPPO   |\n",
      "|D4503F4A9BEB|40209|D4503F|D4503F|OPPO   |\n",
      "|14C697EA51C7|42209|14C697|14C697|OPPO   |\n",
      "|386EA2DEC715|41158|386EA2|386EA2|vivo   |\n",
      "|40CD7A210159|48883|40CD7A|40CD7A|海信   |\n",
      "|E4B2FBA9777E|39226|E4B2FB|E4B2FB|苹果   |\n",
      "|587A6AFB7819|42210|587A6A|587A6A|OPPO   |\n",
      "|208B37F4F60A|10535|208B37|208B37|创维   |\n",
      "|B0E5EDCCDF22|40780|B0E5ED|B0E5ED|华为   |\n",
      "|C0F4E69F8772|10803|C0F4E6|C0F4E6|华为   |\n",
      "|449EF91BE94D|39367|449EF9|449EF9|vivo   |\n",
      "|9C2EA1C7D9C1|39781|9C2EA1|9C2EA1|小米   |\n",
      "|FC1A11A7B1E1|41139|FC1A11|FC1A11|vivo   |\n",
      "|EC26CA7EAF23|50485|EC26CA|EC26CA|TP-LINK|\n",
      "|90F052687CD0|42240|90F052|90F052|魅族   |\n",
      "|A89CED8930DE|11107|A89CED|A89CED|小米   |\n",
      "|3412F91C975A|39525|3412F9|3412F9|华为   |\n",
      "|7836CCC9B4A5|42212|7836CC|7836CC|OPPO   |\n",
      "|2C5BB8C2A126|41330|2C5BB8|2C5BB8|OPPO   |\n",
      "|9C0CDFE5D2AB|10858|9C0CDF|9C0CDF|OPPO   |\n",
      "+------------+-----+------+------+-------+\n",
      "only showing top 20 rows\n",
      "\n"
     ]
    }
   ],
   "source": [
    "tmp_1 = d.join(d2,d.m1_6==d2.mac_6)\n",
    "tmp_1.show(truncate=False)"
   ]
  },
  {
   "cell_type": "code",
   "execution_count": 17,
   "metadata": {},
   "outputs": [
    {
     "data": {
      "text/plain": [
       "202742248"
      ]
     },
     "execution_count": 17,
     "metadata": {},
     "output_type": "execute_result"
    }
   ],
   "source": [
    "df = tmp_1.join(d1,tmp_1.id == d1.term_id).select('mac','id','manu','brand','type1','type2','cn_name').distinct().dropna()\n",
    "df.count()"
   ]
  },
  {
   "cell_type": "code",
   "execution_count": 18,
   "metadata": {},
   "outputs": [
    {
     "name": "stdout",
     "output_type": "stream",
     "text": [
      "+------------+-----+---------------------------+--------+------------+--------+-----------------+\n",
      "|mac         |id   |manu                       |brand   |type1       |type2   |cn_name          |\n",
      "+------------+-----+---------------------------+--------+------------+--------+-----------------+\n",
      "|000000EC9011|39105|施乐                       |小米    |平板        |平板    |小米平板3        |\n",
      "|000088000C1C|10550|博科                       |多度    |智能门禁    |智能家居|多度门禁         |\n",
      "|0000C001FB25|11071|western                    |西部数据|家庭网络存储|智能家居|西部数据My Cloud |\n",
      "|0006A9DE0D53|50485|universal instruments corp.|TP-LINK |路由器      |路由器  |TP-LINK TL-WR886N|\n",
      "|00082204E9A5|40231|华宝通信                   |小米    |手机        |手机    |小米红米Note 4   |\n",
      "|00082212D1E7|41009|华宝通信                   |魅族    |手机        |手机    |魅族MX5          |\n",
      "|000822260D43|39536|华宝通信                   |荣耀    |手机        |手机    |荣耀畅玩5C       |\n",
      "|00082226C3BD|41018|华宝通信                   |魅族    |手机        |手机    |魅族MX6          |\n",
      "|000822387451|41024|华宝通信                   |魅族    |手机        |手机    |魅族魅蓝5        |\n",
      "|00082244B565|40215|华宝通信                   |小米    |手机        |手机    |小米红米Note 3   |\n",
      "+------------+-----+---------------------------+--------+------------+--------+-----------------+\n",
      "only showing top 10 rows\n",
      "\n"
     ]
    }
   ],
   "source": [
    "df.show(10,truncate=False)"
   ]
  },
  {
   "cell_type": "code",
   "execution_count": 19,
   "metadata": {},
   "outputs": [
    {
     "name": "stdout",
     "output_type": "stream",
     "text": [
      "+-------+--------+\n",
      "|manu   |count   |\n",
      "+-------+--------+\n",
      "|华为   |51105685|\n",
      "|vivo   |48996433|\n",
      "|OPPO   |26322420|\n",
      "|小米   |21645498|\n",
      "|TP-LINK|13737598|\n",
      "|苹果   |12158969|\n",
      "|水星   |2523718 |\n",
      "|腾达   |2150727 |\n",
      "|闻泰   |1929935 |\n",
      "|迅捷   |1716830 |\n",
      "|村田   |1654132 |\n",
      "|魅族   |1613770 |\n",
      "|金立   |1603072 |\n",
      "|三星   |1438685 |\n",
      "|蜂联   |904951  |\n",
      "|风寻   |766455  |\n",
      "|创维   |542278  |\n",
      "|华三   |538901  |\n",
      "|中兴   |537823  |\n",
      "|天猫   |535237  |\n",
      "+-------+--------+\n",
      "only showing top 20 rows\n",
      "\n"
     ]
    }
   ],
   "source": [
    "df.groupBy('manu').count().sort('count',ascending=False).show(truncate=False)"
   ]
  },
  {
   "cell_type": "code",
   "execution_count": 20,
   "metadata": {},
   "outputs": [
    {
     "name": "stdout",
     "output_type": "stream",
     "text": [
      "+-------+--------+\n",
      "|brand  |count   |\n",
      "+-------+--------+\n",
      "|vivo   |49502860|\n",
      "|华为   |29187478|\n",
      "|OPPO   |25592710|\n",
      "|小米   |22934044|\n",
      "|荣耀   |22128130|\n",
      "|TP-LINK|12815942|\n",
      "|苹果   |12098330|\n",
      "|魅族   |4916567 |\n",
      "|三星   |3152974 |\n",
      "|水星   |3016162 |\n",
      "|腾达   |2339608 |\n",
      "|迅捷   |2096553 |\n",
      "|金立   |1651077 |\n",
      "|360    |1302378 |\n",
      "|天猫   |902182  |\n",
      "|HTC    |796477  |\n",
      "|海信   |712247  |\n",
      "|创维   |576193  |\n",
      "|华三   |525402  |\n",
      "|一加   |483060  |\n",
      "+-------+--------+\n",
      "only showing top 20 rows\n",
      "\n"
     ]
    }
   ],
   "source": [
    "df.groupBy('brand').count().sort('count',ascending=False).show(truncate=False)"
   ]
  },
  {
   "cell_type": "code",
   "execution_count": 21,
   "metadata": {},
   "outputs": [
    {
     "data": {
      "text/plain": [
       "(9789, 297)"
      ]
     },
     "execution_count": 21,
     "metadata": {},
     "output_type": "execute_result"
    }
   ],
   "source": [
    "df.select('manu').distinct().count(),df.select('brand').distinct().count()"
   ]
  },
  {
   "cell_type": "code",
   "execution_count": 25,
   "metadata": {},
   "outputs": [],
   "source": [
    "apple = df.filter(df.brand == '苹果')"
   ]
  },
  {
   "cell_type": "code",
   "execution_count": 26,
   "metadata": {},
   "outputs": [
    {
     "data": {
      "text/plain": [
       "(12098330, 12098330)"
      ]
     },
     "execution_count": 26,
     "metadata": {},
     "output_type": "execute_result"
    }
   ],
   "source": [
    "apple.count(),apple.distinct().count()"
   ]
  },
  {
   "cell_type": "code",
   "execution_count": 27,
   "metadata": {},
   "outputs": [
    {
     "name": "stdout",
     "output_type": "stream",
     "text": [
      "+------------+-----+----+-----+-----+-----+--------------+\n",
      "|mac         |id   |manu|brand|type1|type2|cn_name       |\n",
      "+------------+-----+----+-----+-----+-----+--------------+\n",
      "|CC4463F00249|39149|苹果|苹果 |平板 |平板 |iPad Pro(12.9)|\n",
      "|64B0A6B9B4CE|49814|苹果|苹果 |手机 |手机 |iPhone 7 Plus |\n",
      "|D461DA2F8EE3|39147|苹果|苹果 |手机 |手机 |iPhone 8 Plus |\n",
      "|14BD61AF66A6|49814|苹果|苹果 |手机 |手机 |iPhone 7 Plus |\n",
      "|88190820324D|39147|苹果|苹果 |手机 |手机 |iPhone 8 Plus |\n",
      "|844167560490|49814|苹果|苹果 |手机 |手机 |iPhone 7 Plus |\n",
      "|94F6D6A4DDC9|39000|苹果|苹果 |手机 |手机 |iPhone 8      |\n",
      "|98CA3321A50C|49813|苹果|苹果 |手机 |手机 |iPhone 7      |\n",
      "|741BB2A432CA|49807|苹果|苹果 |手机 |手机 |iPhone 6      |\n",
      "|404D7FB8537E|49813|苹果|苹果 |手机 |手机 |iPhone 7      |\n",
      "|7C0191DFBF7C|49810|苹果|苹果 |手机 |手机 |iPhone 6s Plus|\n",
      "|E0B52D605ECF|49806|苹果|苹果 |手机 |手机 |iPhone 5s     |\n",
      "|BC4CC4F29DC9|49808|苹果|苹果 |手机 |手机 |iPhone 6 Plus |\n",
      "|1040F3B7DE56|49852|苹果|苹果 |平板 |平板 |iPad 3        |\n",
      "|E49A792A2884|49809|苹果|苹果 |手机 |手机 |iPhone 6s     |\n",
      "|38CADADDBBFC|49809|苹果|苹果 |手机 |手机 |iPhone 6s     |\n",
      "|18F1D8DCA9B8|39226|苹果|苹果 |手机 |手机 |iPhone X      |\n",
      "|B8634D6804F3|49814|苹果|苹果 |手机 |手机 |iPhone 7 Plus |\n",
      "|94BF2D62533C|39147|苹果|苹果 |手机 |手机 |iPhone 8 Plus |\n",
      "|C0F2FB9AFE51|49806|苹果|苹果 |手机 |手机 |iPhone 5s     |\n",
      "+------------+-----+----+-----+-----+-----+--------------+\n",
      "only showing top 20 rows\n",
      "\n"
     ]
    }
   ],
   "source": [
    "apple.show(truncate=False)"
   ]
  },
  {
   "cell_type": "code",
   "execution_count": 28,
   "metadata": {},
   "outputs": [
    {
     "data": {
      "text/plain": [
       "(52, 52)"
      ]
     },
     "execution_count": 28,
     "metadata": {},
     "output_type": "execute_result"
    }
   ],
   "source": [
    "apple.select('id').distinct().count(),apple.select('cn_name').distinct().count()"
   ]
  },
  {
   "cell_type": "code",
   "execution_count": 30,
   "metadata": {},
   "outputs": [],
   "source": [
    "apple = apple.withColumn('m7',substring(d.mac,7,1))\\\n",
    "             .withColumn('m8',substring(d.mac,8,1))\\\n",
    "             .withColumn('m9',substring(d.mac,9,1))\\\n",
    "             .withColumn('m10',substring(d.mac,10,1))\\\n",
    "             .withColumn('m11',substring(d.mac,11,1))\\\n",
    "             .withColumn('m12',substring(d.mac,12,1))  "
   ]
  },
  {
   "cell_type": "code",
   "execution_count": 31,
   "metadata": {},
   "outputs": [
    {
     "name": "stdout",
     "output_type": "stream",
     "text": [
      "+------------+-----+----+-----+-----+-----+--------------+---+---+---+---+---+---+\n",
      "|mac         |id   |manu|brand|type1|type2|cn_name       |m7 |m8 |m9 |m10|m11|m12|\n",
      "+------------+-----+----+-----+-----+-----+--------------+---+---+---+---+---+---+\n",
      "|68FB7EEDEA6F|49810|苹果|苹果 |手机 |手机 |iPhone 6s Plus|E  |D  |E  |A  |6  |F  |\n",
      "|D033113FD082|49807|苹果|苹果 |手机 |手机 |iPhone 6      |3  |F  |D  |0  |8  |2  |\n",
      "|B8C111BAF028|39226|苹果|苹果 |手机 |手机 |iPhone X      |B  |A  |F  |0  |2  |8  |\n",
      "|9CF48EB8E028|49809|苹果|苹果 |手机 |手机 |iPhone 6s     |B  |8  |E  |0  |2  |8  |\n",
      "|38892C701E18|39226|苹果|苹果 |手机 |手机 |iPhone X      |7  |0  |1  |E  |1  |8  |\n",
      "+------------+-----+----+-----+-----+-----+--------------+---+---+---+---+---+---+\n",
      "only showing top 5 rows\n",
      "\n"
     ]
    }
   ],
   "source": [
    "apple.show(5,truncate=False)"
   ]
  },
  {
   "cell_type": "code",
   "execution_count": 33,
   "metadata": {},
   "outputs": [
    {
     "name": "stdout",
     "output_type": "stream",
     "text": [
      "+------------------------+-----+\n",
      "|cn_name                 |count|\n",
      "+------------------------+-----+\n",
      "|iMac Pro                |4    |\n",
      "|Mac Pro                 |25   |\n",
      "|Mac Mini                |53   |\n",
      "|iPad 1                  |1201 |\n",
      "|苹果AirPort Time Capsule|1824 |\n",
      "|苹果Airport Extreme     |2690 |\n",
      "|苹果HomePod             |2724 |\n",
      "|苹果AirPort Express     |2737 |\n",
      "|iMac                    |2965 |\n",
      "|iPad Pro 3(12.9)        |4553 |\n",
      "|苹果电视机顶盒          |5615 |\n",
      "|iPad Pro 2(12.9)        |5749 |\n",
      "|iPad Air 3              |6288 |\n",
      "|iPad Mini 5             |8524 |\n",
      "|iPad Pro(12.9)          |9136 |\n",
      "|iPad Pro 3(11)          |15703|\n",
      "|iPod                    |18520|\n",
      "|iPhone 5c               |20997|\n",
      "|iPhone 4                |23975|\n",
      "|iPad Mini 3             |24470|\n",
      "+------------------------+-----+\n",
      "only showing top 20 rows\n",
      "\n"
     ]
    }
   ],
   "source": [
    "apple.groupBy('cn_name').count().sort('count',ascending=True).show(truncate=False)"
   ]
  },
  {
   "cell_type": "code",
   "execution_count": 35,
   "metadata": {},
   "outputs": [
    {
     "name": "stdout",
     "output_type": "stream",
     "text": [
      "+--------------+-------+\n",
      "|       cn_name|  count|\n",
      "+--------------+-------+\n",
      "|      iPhone 6|1210310|\n",
      "|      iPhone X|1152331|\n",
      "| iPhone 7 Plus|1134005|\n",
      "|iPhone 6s Plus|1071258|\n",
      "|     iPhone 6s|1031879|\n",
      "|      iPhone 7| 923364|\n",
      "| iPhone 6 Plus| 736422|\n",
      "| iPhone 8 Plus| 705292|\n",
      "|      iPhone 8| 500997|\n",
      "|     iPhone XR| 411806|\n",
      "| iPhone XS Max| 396816|\n",
      "|      苹果手表| 337259|\n",
      "|     iPhone 5s| 301883|\n",
      "|    iPad Air 2| 270244|\n",
      "|iPad 9.7(2018)| 225769|\n",
      "|      iPad Air| 182333|\n",
      "|    iPad (9.7)| 158510|\n",
      "|   iPad Mini 2| 156222|\n",
      "|   iPad Mini 4| 152068|\n",
      "|     iPad Mini| 134536|\n",
      "+--------------+-------+\n",
      "only showing top 20 rows\n",
      "\n"
     ]
    }
   ],
   "source": [
    "apple.groupBy('cn_name').count().sort('count',ascending=False).show(truncate=True)"
   ]
  },
  {
   "cell_type": "code",
   "execution_count": 36,
   "metadata": {},
   "outputs": [
    {
     "name": "stdout",
     "output_type": "stream",
     "text": [
      "+-------+-----------------+\n",
      "|summary|                c|\n",
      "+-------+-----------------+\n",
      "|  count|               52|\n",
      "|   mean|232660.1923076923|\n",
      "| stddev|355764.6767980998|\n",
      "|    min|                4|\n",
      "|    25%|             6288|\n",
      "|    50%|            62143|\n",
      "|    75%|           270244|\n",
      "|    max|          1210310|\n",
      "+-------+-----------------+\n",
      "\n"
     ]
    }
   ],
   "source": [
    "tmp = apple.groupBy('cn_name').count().withColumnRenamed('count','c')\n",
    "tmp.select('c').summary().show()"
   ]
  },
  {
   "cell_type": "code",
   "execution_count": 37,
   "metadata": {},
   "outputs": [],
   "source": [
    "use = tmp.filter(tmp.c > 200000)"
   ]
  },
  {
   "cell_type": "code",
   "execution_count": 38,
   "metadata": {},
   "outputs": [],
   "source": [
    "use_df = use.repartition(1)\n",
    "use_pandas = use_df.toPandas()"
   ]
  },
  {
   "cell_type": "code",
   "execution_count": 39,
   "metadata": {},
   "outputs": [
    {
     "data": {
      "text/html": [
       "<div>\n",
       "<style scoped>\n",
       "    .dataframe tbody tr th:only-of-type {\n",
       "        vertical-align: middle;\n",
       "    }\n",
       "\n",
       "    .dataframe tbody tr th {\n",
       "        vertical-align: top;\n",
       "    }\n",
       "\n",
       "    .dataframe thead th {\n",
       "        text-align: right;\n",
       "    }\n",
       "</style>\n",
       "<table border=\"1\" class=\"dataframe\">\n",
       "  <thead>\n",
       "    <tr style=\"text-align: right;\">\n",
       "      <th></th>\n",
       "      <th>cn_name</th>\n",
       "      <th>c</th>\n",
       "    </tr>\n",
       "  </thead>\n",
       "  <tbody>\n",
       "    <tr>\n",
       "      <th>0</th>\n",
       "      <td>iPhone 7 Plus</td>\n",
       "      <td>1134005</td>\n",
       "    </tr>\n",
       "    <tr>\n",
       "      <th>1</th>\n",
       "      <td>iPhone XR</td>\n",
       "      <td>411806</td>\n",
       "    </tr>\n",
       "    <tr>\n",
       "      <th>2</th>\n",
       "      <td>iPhone 6s Plus</td>\n",
       "      <td>1071258</td>\n",
       "    </tr>\n",
       "    <tr>\n",
       "      <th>3</th>\n",
       "      <td>iPhone 6 Plus</td>\n",
       "      <td>736422</td>\n",
       "    </tr>\n",
       "    <tr>\n",
       "      <th>4</th>\n",
       "      <td>iPhone 6s</td>\n",
       "      <td>1031879</td>\n",
       "    </tr>\n",
       "  </tbody>\n",
       "</table>\n",
       "</div>"
      ],
      "text/plain": [
       "          cn_name        c\n",
       "0   iPhone 7 Plus  1134005\n",
       "1       iPhone XR   411806\n",
       "2  iPhone 6s Plus  1071258\n",
       "3   iPhone 6 Plus   736422\n",
       "4       iPhone 6s  1031879"
      ]
     },
     "execution_count": 39,
     "metadata": {},
     "output_type": "execute_result"
    }
   ],
   "source": [
    "use_pandas.head()"
   ]
  },
  {
   "cell_type": "code",
   "execution_count": 40,
   "metadata": {},
   "outputs": [],
   "source": [
    "use_id = list(use_pandas.cn_name)\n",
    "def filt(s):\n",
    "    for x in use_id:\n",
    "        if x in s:\n",
    "            return 1\n",
    "    else:\n",
    "            return 0\n",
    "ft = udf(lambda x:filt(x))\n",
    "apple_tmp = apple.withColumn('filt',ft('cn_name'))\n",
    "apple_final = apple_tmp.filter(apple_tmp.filt == 1).select('mac','id','cn_name','m7','m8','m9','m10','m11','m12')"
   ]
  },
  {
   "cell_type": "code",
   "execution_count": 41,
   "metadata": {},
   "outputs": [
    {
     "data": {
      "text/plain": [
       "16"
      ]
     },
     "execution_count": 41,
     "metadata": {},
     "output_type": "execute_result"
    }
   ],
   "source": [
    "apple_final.select('id').distinct().count()"
   ]
  },
  {
   "cell_type": "code",
   "execution_count": 42,
   "metadata": {},
   "outputs": [
    {
     "data": {
      "text/plain": [
       "16"
      ]
     },
     "execution_count": 42,
     "metadata": {},
     "output_type": "execute_result"
    }
   ],
   "source": [
    "apple_final.select('cn_name').distinct().count()"
   ]
  },
  {
   "cell_type": "code",
   "execution_count": 43,
   "metadata": {},
   "outputs": [
    {
     "name": "stdout",
     "output_type": "stream",
     "text": [
      "+------------+-----+--------------+---+---+---+---+---+---+\n",
      "|mac         |id   |cn_name       |m7 |m8 |m9 |m10|m11|m12|\n",
      "+------------+-----+--------------+---+---+---+---+---+---+\n",
      "|48A1954188E9|49814|iPhone 7 Plus |4  |1  |8  |8  |E  |9  |\n",
      "|6CAB318B43A2|49810|iPhone 6s Plus|8  |B  |4  |3  |A  |2  |\n",
      "|F431C3BB37C0|49809|iPhone 6s     |B  |B  |3  |7  |C  |0  |\n",
      "|507A55E6DCB1|49808|iPhone 6 Plus |E  |6  |D  |C  |B  |1  |\n",
      "|E4B2FB0ED495|10950|iPhone XR     |0  |E  |D  |4  |9  |5  |\n",
      "+------------+-----+--------------+---+---+---+---+---+---+\n",
      "only showing top 5 rows\n",
      "\n"
     ]
    }
   ],
   "source": [
    "apple_final.show(5,truncate=False)"
   ]
  },
  {
   "cell_type": "code",
   "execution_count": 45,
   "metadata": {},
   "outputs": [],
   "source": [
    "apple_final = apple_final.withColumn('f7',conv(apple_final.m7, 16, 10)).withColumn('f8',conv(apple_final.m8, 16, 10))\\\n",
    "                         .withColumn('f9',conv(apple_final.m9, 16, 10)).withColumn('f10',conv(apple_final.m10, 16, 10))\\\n",
    "                         .withColumn('f11',conv(apple_final.m11, 16, 10)).withColumn('f12',conv(apple_final.m12, 16, 10))"
   ]
  },
  {
   "cell_type": "code",
   "execution_count": 48,
   "metadata": {},
   "outputs": [
    {
     "name": "stdout",
     "output_type": "stream",
     "text": [
      "+------------+-----+--------------+---+---+---+---+---+---+---+---+---+---+---+---+\n",
      "|mac         |id   |cn_name       |m7 |m8 |m9 |m10|m11|m12|f7 |f8 |f9 |f10|f11|f12|\n",
      "+------------+-----+--------------+---+---+---+---+---+---+---+---+---+---+---+---+\n",
      "|28FF3C0B189D|39147|iPhone 8 Plus |0  |B  |1  |8  |9  |D  |0  |11 |1  |8  |9  |13 |\n",
      "|BCB8635EB40D|39890|iPad 9.7(2018)|5  |E  |B  |4  |0  |D  |5  |14 |11 |4  |0  |13 |\n",
      "|90B0ED70F6CB|49810|iPhone 6s Plus|7  |0  |F  |6  |C  |B  |7  |0  |15 |6  |12 |11 |\n",
      "|40831D9248BE|49814|iPhone 7 Plus |9  |2  |4  |8  |B  |E  |9  |2  |4  |8  |11 |14 |\n",
      "|28FF3C145DC3|39147|iPhone 8 Plus |1  |4  |5  |D  |C  |3  |1  |4  |5  |13 |12 |3  |\n",
      "+------------+-----+--------------+---+---+---+---+---+---+---+---+---+---+---+---+\n",
      "only showing top 5 rows\n",
      "\n"
     ]
    }
   ],
   "source": [
    "apple_final.show(5,truncate=False)"
   ]
  },
  {
   "cell_type": "code",
   "execution_count": 50,
   "metadata": {},
   "outputs": [],
   "source": [
    "apple_final = apple_final.select('mac','id','cn_name',\\\n",
    "                                 col('f7').cast('float'),col('f8').cast('float'),\\\n",
    "                                 col('f9').cast('float'),col('f10').cast('float'),\\\n",
    "                                 col('f11').cast('float'),col('f12').cast('float'))"
   ]
  },
  {
   "cell_type": "code",
   "execution_count": 51,
   "metadata": {},
   "outputs": [],
   "source": [
    "from pyspark.ml.feature import VectorAssembler\n",
    "vec = VectorAssembler(inputCols=['f7','f8','f9','f10','f11','f12'],outputCol='features')\n",
    "new_df = vec.transform(apple_final)"
   ]
  },
  {
   "cell_type": "code",
   "execution_count": 52,
   "metadata": {},
   "outputs": [],
   "source": [
    "from pyspark.ml.feature import StringIndexer\n",
    "si = StringIndexer(inputCol='id', outputCol='label')\n",
    "si_model = si.fit(new_df)\n",
    "df_final = si_model.transform(new_df)"
   ]
  },
  {
   "cell_type": "code",
   "execution_count": 53,
   "metadata": {},
   "outputs": [
    {
     "data": {
      "text/plain": [
       "[('mac', 'string'),\n",
       " ('id', 'string'),\n",
       " ('cn_name', 'string'),\n",
       " ('f7', 'float'),\n",
       " ('f8', 'float'),\n",
       " ('f9', 'float'),\n",
       " ('f10', 'float'),\n",
       " ('f11', 'float'),\n",
       " ('f12', 'float'),\n",
       " ('features', 'vector'),\n",
       " ('label', 'double')]"
      ]
     },
     "execution_count": 53,
     "metadata": {},
     "output_type": "execute_result"
    }
   ],
   "source": [
    "df_final.dtypes"
   ]
  },
  {
   "cell_type": "code",
   "execution_count": 54,
   "metadata": {},
   "outputs": [
    {
     "name": "stdout",
     "output_type": "stream",
     "text": [
      "+------------+-----+-------------+----+----+----+----+----+----+----------------------------+-----+\n",
      "|mac         |id   |cn_name      |f7  |f8  |f9  |f10 |f11 |f12 |features                    |label|\n",
      "+------------+-----+-------------+----+----+----+----+----+----+----------------------------+-----+\n",
      "|54AE27C7C834|49806|iPhone 5s    |12.0|7.0 |12.0|8.0 |3.0 |4.0 |[12.0,7.0,12.0,8.0,3.0,4.0] |12.0 |\n",
      "|F83880B8C56D|10680|iPhone XS Max|11.0|8.0 |12.0|5.0 |6.0 |13.0|[11.0,8.0,12.0,5.0,6.0,13.0]|10.0 |\n",
      "|18F1D8CF0D01|39147|iPhone 8 Plus|12.0|15.0|0.0 |13.0|0.0 |1.0 |[12.0,15.0,0.0,13.0,0.0,1.0]|7.0  |\n",
      "|20AB37888992|49813|iPhone 7     |8.0 |8.0 |8.0 |9.0 |9.0 |2.0 |[8.0,8.0,8.0,9.0,9.0,2.0]   |5.0  |\n",
      "|B48B195A39D2|49809|iPhone 6s    |5.0 |10.0|3.0 |9.0 |13.0|2.0 |[5.0,10.0,3.0,9.0,13.0,2.0] |4.0  |\n",
      "+------------+-----+-------------+----+----+----+----+----+----+----------------------------+-----+\n",
      "only showing top 5 rows\n",
      "\n"
     ]
    }
   ],
   "source": [
    "df_final.show(5,truncate=False)"
   ]
  },
  {
   "cell_type": "code",
   "execution_count": 55,
   "metadata": {},
   "outputs": [
    {
     "data": {
      "text/plain": [
       "16"
      ]
     },
     "execution_count": 55,
     "metadata": {},
     "output_type": "execute_result"
    }
   ],
   "source": [
    "df_final.select('label').distinct().count()"
   ]
  },
  {
   "cell_type": "code",
   "execution_count": 56,
   "metadata": {},
   "outputs": [
    {
     "name": "stdout",
     "output_type": "stream",
     "text": [
      "+-----+-------+\n",
      "|   id|  count|\n",
      "+-----+-------+\n",
      "|49810|1071258|\n",
      "|39890| 225769|\n",
      "|49809|1031879|\n",
      "|49866| 270244|\n",
      "|49880| 337259|\n",
      "|39147| 705292|\n",
      "|49807|1210310|\n",
      "|39000| 500997|\n",
      "|49814|1134005|\n",
      "|49813| 923364|\n",
      "|39226|1152331|\n",
      "|10679| 103451|\n",
      "|10950| 411806|\n",
      "|10680| 396816|\n",
      "|49806| 301883|\n",
      "|49808| 736422|\n",
      "+-----+-------+\n",
      "\n"
     ]
    }
   ],
   "source": [
    "df_final.groupBy('id').count().show()"
   ]
  },
  {
   "cell_type": "code",
   "execution_count": 57,
   "metadata": {},
   "outputs": [],
   "source": [
    "fractions = df_final.select('id').distinct().withColumn('fraction', lit(0.7)).rdd.collectAsMap()"
   ]
  },
  {
   "cell_type": "code",
   "execution_count": 58,
   "metadata": {},
   "outputs": [],
   "source": [
    "trainDF = df_final.stat.sampleBy('id', fractions, seed=12)"
   ]
  },
  {
   "cell_type": "code",
   "execution_count": 59,
   "metadata": {},
   "outputs": [
    {
     "data": {
      "text/plain": [
       "7360274"
      ]
     },
     "execution_count": 59,
     "metadata": {},
     "output_type": "execute_result"
    }
   ],
   "source": [
    "trainDF.count()"
   ]
  },
  {
   "cell_type": "code",
   "execution_count": 60,
   "metadata": {},
   "outputs": [
    {
     "name": "stdout",
     "output_type": "stream",
     "text": [
      "+-----+------+\n",
      "|   id| count|\n",
      "+-----+------+\n",
      "|49810|750659|\n",
      "|39890|158369|\n",
      "|49809|722750|\n",
      "|49866|189361|\n",
      "|49880|236087|\n",
      "|39147|494549|\n",
      "|49807|846007|\n",
      "|39000|350370|\n",
      "|49814|794252|\n",
      "|49813|646746|\n",
      "|39226|806888|\n",
      "|10679| 72025|\n",
      "|10950|288316|\n",
      "|10680|277375|\n",
      "|49806|211481|\n",
      "|49808|515039|\n",
      "+-----+------+\n",
      "\n"
     ]
    }
   ],
   "source": [
    "trainDF.groupBy('id').count().show()"
   ]
  },
  {
   "cell_type": "code",
   "execution_count": 61,
   "metadata": {},
   "outputs": [],
   "source": [
    "train_mac = trainDF.select('mac').withColumnRenamed('mac','train_mac')\n",
    "tmp = df_final.join(train_mac,df_final.mac==train_mac.train_mac,how='outer')\n",
    "testDF = tmp.filter(tmp.train_mac.isNull())"
   ]
  },
  {
   "cell_type": "code",
   "execution_count": 62,
   "metadata": {},
   "outputs": [
    {
     "data": {
      "text/plain": [
       "3152812"
      ]
     },
     "execution_count": 62,
     "metadata": {},
     "output_type": "execute_result"
    }
   ],
   "source": [
    "testDF.count()"
   ]
  },
  {
   "cell_type": "code",
   "execution_count": 63,
   "metadata": {},
   "outputs": [],
   "source": [
    "testDF = testDF.drop('train_mac')"
   ]
  },
  {
   "cell_type": "code",
   "execution_count": 64,
   "metadata": {},
   "outputs": [
    {
     "name": "stdout",
     "output_type": "stream",
     "text": [
      "+-----+------+\n",
      "|   id| count|\n",
      "+-----+------+\n",
      "|49810|320964|\n",
      "|39890| 67298|\n",
      "|49809|309915|\n",
      "|49866| 80547|\n",
      "|49880|100893|\n",
      "|39147|211553|\n",
      "|49807|362566|\n",
      "|39000|150962|\n",
      "|49814|339746|\n",
      "|49813|277206|\n",
      "|39226|346070|\n",
      "|10679| 31331|\n",
      "|10950|123027|\n",
      "|10680|119170|\n",
      "|49806| 90346|\n",
      "|49808|221218|\n",
      "+-----+------+\n",
      "\n"
     ]
    }
   ],
   "source": [
    "testDF.groupBy('id').count().show()"
   ]
  },
  {
   "cell_type": "code",
   "execution_count": 65,
   "metadata": {},
   "outputs": [
    {
     "name": "stdout",
     "output_type": "stream",
     "text": [
      "+-----+-------+\n",
      "|   id|  count|\n",
      "+-----+-------+\n",
      "|49810|1071258|\n",
      "|39890| 225769|\n",
      "|49809|1031879|\n",
      "|49866| 270244|\n",
      "|49880| 337259|\n",
      "|39147| 705292|\n",
      "|49807|1210310|\n",
      "|39000| 500997|\n",
      "|49814|1134005|\n",
      "|49813| 923364|\n",
      "|39226|1152331|\n",
      "|10679| 103451|\n",
      "|10950| 411806|\n",
      "|10680| 396816|\n",
      "|49806| 301883|\n",
      "|49808| 736422|\n",
      "+-----+-------+\n",
      "\n"
     ]
    }
   ],
   "source": [
    "df_final.groupBy('id').count().show()"
   ]
  },
  {
   "cell_type": "code",
   "execution_count": 68,
   "metadata": {},
   "outputs": [],
   "source": [
    "#trainDF.write.mode('overwrite').parquet('hdfs:///data/user/hive/warehouse/ian/feature/trainDF',compression='gzip')"
   ]
  },
  {
   "cell_type": "code",
   "execution_count": 69,
   "metadata": {},
   "outputs": [],
   "source": [
    "#testDF.write.mode('overwrite').parquet('hdfs:///data/user/hive/warehouse/ian/feature/testDF',compression='gzip')"
   ]
  },
  {
   "cell_type": "code",
   "execution_count": 71,
   "metadata": {},
   "outputs": [],
   "source": [
    "#df_final.write.mode('overwrite').parquet('hdfs:///data/user/hive/warehouse/ian/feature/all_features',compression='gzip')"
   ]
  },
  {
   "cell_type": "code",
   "execution_count": null,
   "metadata": {},
   "outputs": [],
   "source": []
  }
 ],
 "metadata": {
  "kernelspec": {
   "display_name": "Python 3",
   "language": "python",
   "name": "python3"
  },
  "language_info": {
   "codemirror_mode": {
    "name": "ipython",
    "version": 3
   },
   "file_extension": ".py",
   "mimetype": "text/x-python",
   "name": "python",
   "nbconvert_exporter": "python",
   "pygments_lexer": "ipython3",
   "version": "3.7.3"
  }
 },
 "nbformat": 4,
 "nbformat_minor": 2
}
