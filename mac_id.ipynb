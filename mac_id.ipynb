{
 "cells": [
  {
   "cell_type": "code",
   "execution_count": 9,
   "metadata": {},
   "outputs": [
    {
     "name": "stdout",
     "output_type": "stream",
     "text": [
      "+------------+-----+---+---+---+----+----+----+----+----+---+----+----+---+-------------------------------------------------------+-----+\n",
      "|mac         |id   |f1 |f2 |f3 |f4  |f5  |f6  |f7  |f8  |f9 |f10 |f11 |f12|features                                               |label|\n",
      "+------------+-----+---+---+---+----+----+----+----+----+---+----+----+---+-------------------------------------------------------+-----+\n",
      "|0008221E6CF5|39226|0.0|0.0|0.0|8.0 |2.0 |2.0 |1.0 |14.0|6.0|12.0|15.0|5.0|[0.0,0.0,0.0,8.0,2.0,2.0,1.0,14.0,6.0,12.0,15.0,5.0]   |1.0  |\n",
      "|000EC6DC7BE2|49814|0.0|0.0|0.0|14.0|12.0|6.0 |13.0|12.0|7.0|11.0|14.0|2.0|[0.0,0.0,0.0,14.0,12.0,6.0,13.0,12.0,7.0,11.0,14.0,2.0]|2.0  |\n",
      "|001636154AF9|49813|0.0|0.0|1.0|6.0 |3.0 |6.0 |1.0 |5.0 |4.0|10.0|15.0|9.0|[0.0,0.0,1.0,6.0,3.0,6.0,1.0,5.0,4.0,10.0,15.0,9.0]    |5.0  |\n",
      "|0016785B0DF5|49810|0.0|0.0|1.0|6.0 |7.0 |8.0 |5.0 |11.0|0.0|13.0|15.0|5.0|[0.0,0.0,1.0,6.0,7.0,8.0,5.0,11.0,0.0,13.0,15.0,5.0]   |3.0  |\n",
      "|0019CBF145D0|49807|0.0|0.0|1.0|9.0 |12.0|11.0|15.0|1.0 |4.0|5.0 |13.0|0.0|[0.0,0.0,1.0,9.0,12.0,11.0,15.0,1.0,4.0,5.0,13.0,0.0]  |0.0  |\n",
      "+------------+-----+---+---+---+----+----+----+----+----+---+----+----+---+-------------------------------------------------------+-----+\n",
      "only showing top 5 rows\n",
      "\n"
     ]
    }
   ],
   "source": [
    "from pyspark.sql.functions import *\n",
    "trainDF = spark.read.parquet('/data/user/hive/warehouse/ian/feature/testDF')\n",
    "\n",
    "trainDF = trainDF.withColumn('m1',substring(trainDF.mac,1,1)).\\\n",
    "      withColumn('m2',substring(trainDF.mac,2,1)).\\\n",
    "      withColumn('m3',substring(trainDF.mac,3,1)).\\\n",
    "      withColumn('m4',substring(trainDF.mac,4,1)).\\\n",
    "      withColumn('m5',substring(trainDF.mac,5,1)).\\\n",
    "      withColumn('m6',substring(trainDF.mac,6,1)).\\\n",
    "      withColumn('m7',substring(trainDF.mac,7,1)).\\\n",
    "      withColumn('m8',substring(trainDF.mac,8,1)).\\\n",
    "      withColumn('m9',substring(trainDF.mac,9,1)).\\\n",
    "      withColumn('m10',substring(trainDF.mac,10,1)).\\\n",
    "      withColumn('m11',substring(trainDF.mac,11,1)).\\\n",
    "      withColumn('m12',substring(trainDF.mac,12,1))\n",
    "\n",
    "df = trainDF.withColumn('f1',conv(trainDF.m1, 16, 10)).withColumn('f2',conv(trainDF.m2, 16, 10)).\\\n",
    "        withColumn('f3',conv(trainDF.m3, 16, 10)).withColumn('f4',conv(trainDF.m4, 16, 10)).\\\n",
    "        withColumn('f5',conv(trainDF.m5, 16, 10)).withColumn('f6',conv(trainDF.m6, 16, 10)).\\\n",
    "        withColumn('f7',conv(trainDF.m7, 16, 10)).withColumn('f8',conv(trainDF.m8, 16, 10)).\\\n",
    "        withColumn('f9',conv(trainDF.m9, 16, 10)).withColumn('f10',conv(trainDF.m10, 16, 10)).\\\n",
    "        withColumn('f11',conv(trainDF.m11, 16, 10)).withColumn('f12',conv(trainDF.m12, 16, 10))\n",
    "\n",
    "df = df.select('mac','id',col('f1').cast('float'),col('f2').cast('float')\\\n",
    "               ,col('f3').cast('float'),col('f4').cast('float')\\\n",
    "               ,col('f5').cast('float'),col('f6').cast('float')\\\n",
    "               ,col('f7').cast('float'),col('f8').cast('float')\\\n",
    "               ,col('f9').cast('float'),col('f10').cast('float')\\\n",
    "               ,col('f11').cast('float'),col('f12').cast('float'))\n",
    "\n",
    "from pyspark.ml.feature import VectorAssembler\n",
    "vec = VectorAssembler(inputCols=['f1','f2','f3','f4','f5','f6','f7','f8','f9','f10','f11','f12'],outputCol='features')\n",
    "new_df = vec.transform(df)\n",
    "\n",
    "from pyspark.ml.feature import StringIndexer\n",
    "si = StringIndexer(inputCol='id', outputCol='label')\n",
    "si_model = si.fit(new_df)\n",
    "df_final = si_model.transform(new_df)\n",
    "\n",
    "df_final.show(5,truncate=False)"
   ]
  },
  {
   "cell_type": "code",
   "execution_count": 10,
   "metadata": {},
   "outputs": [],
   "source": [
    "df_final.write.mode('overwrite').parquet('hdfs:///data/user/hive/warehouse/ian/feature/testDF_mac_12',compression='gzip')"
   ]
  },
  {
   "cell_type": "code",
   "execution_count": null,
   "metadata": {},
   "outputs": [],
   "source": []
  },
  {
   "cell_type": "markdown",
   "metadata": {},
   "source": [
    "# Training with non cv"
   ]
  },
  {
   "cell_type": "code",
   "execution_count": 1,
   "metadata": {},
   "outputs": [],
   "source": [
    "trainDF = spark.read.parquet('/data/user/hive/warehouse/ian/feature/trainDF_mac_12')\n",
    "testDF = spark.read.parquet('/data/user/hive/warehouse/ian/feature/testDF_mac_12')"
   ]
  },
  {
   "cell_type": "code",
   "execution_count": 2,
   "metadata": {},
   "outputs": [
    {
     "data": {
      "text/plain": [
       "(7360274, 3152812)"
      ]
     },
     "execution_count": 2,
     "metadata": {},
     "output_type": "execute_result"
    }
   ],
   "source": [
    "trainDF.count(),testDF.count()"
   ]
  },
  {
   "cell_type": "code",
   "execution_count": 3,
   "metadata": {},
   "outputs": [],
   "source": [
    "#from pyspark.ml import Pipeline\n",
    "from pyspark.ml.classification import RandomForestClassifier\n",
    "from pyspark.ml.feature import IndexToString\n",
    "from pyspark.ml.evaluation import MulticlassClassificationEvaluator"
   ]
  },
  {
   "cell_type": "code",
   "execution_count": 4,
   "metadata": {},
   "outputs": [],
   "source": [
    "rf = RandomForestClassifier(labelCol='label',featuresCol='features',numTrees=10)"
   ]
  },
  {
   "cell_type": "code",
   "execution_count": 5,
   "metadata": {},
   "outputs": [],
   "source": [
    "model = rf.fit(trainDF)"
   ]
  },
  {
   "cell_type": "code",
   "execution_count": 6,
   "metadata": {},
   "outputs": [],
   "source": [
    "predictions = model.transform(testDF)"
   ]
  },
  {
   "cell_type": "code",
   "execution_count": 7,
   "metadata": {},
   "outputs": [
    {
     "data": {
      "text/plain": [
       "[('mac', 'string'),\n",
       " ('id', 'string'),\n",
       " ('f1', 'float'),\n",
       " ('f2', 'float'),\n",
       " ('f3', 'float'),\n",
       " ('f4', 'float'),\n",
       " ('f5', 'float'),\n",
       " ('f6', 'float'),\n",
       " ('f7', 'float'),\n",
       " ('f8', 'float'),\n",
       " ('f9', 'float'),\n",
       " ('f10', 'float'),\n",
       " ('f11', 'float'),\n",
       " ('f12', 'float'),\n",
       " ('features', 'vector'),\n",
       " ('label', 'double'),\n",
       " ('rawPrediction', 'vector'),\n",
       " ('probability', 'vector'),\n",
       " ('prediction', 'double')]"
      ]
     },
     "execution_count": 7,
     "metadata": {},
     "output_type": "execute_result"
    }
   ],
   "source": [
    "predictions.dtypes"
   ]
  },
  {
   "cell_type": "code",
   "execution_count": 8,
   "metadata": {},
   "outputs": [
    {
     "name": "stdout",
     "output_type": "stream",
     "text": [
      "+-----+----------+------------+\n",
      "|label|prediction|mac         |\n",
      "+-----+----------+------------+\n",
      "|1.0  |2.0       |0008221E6CF5|\n",
      "|2.0  |2.0       |000EC6DC7BE2|\n",
      "|5.0  |4.0       |001636154AF9|\n",
      "|3.0  |0.0       |0016785B0DF5|\n",
      "|0.0  |1.0       |0019CBF145D0|\n",
      "+-----+----------+------------+\n",
      "only showing top 5 rows\n",
      "\n"
     ]
    }
   ],
   "source": [
    "predictions.select('label','prediction','mac').show(5,truncate=False)"
   ]
  },
  {
   "cell_type": "code",
   "execution_count": 9,
   "metadata": {},
   "outputs": [],
   "source": [
    "evaluator = MulticlassClassificationEvaluator(labelCol='label',predictionCol='prediction',metricName='accuracy')\n",
    "accuracy = evaluator.evaluate(predictions)"
   ]
  },
  {
   "cell_type": "code",
   "execution_count": 10,
   "metadata": {},
   "outputs": [
    {
     "data": {
      "text/plain": [
       "0.46540548564265805"
      ]
     },
     "execution_count": 10,
     "metadata": {},
     "output_type": "execute_result"
    }
   ],
   "source": [
    "accuracy"
   ]
  },
  {
   "cell_type": "code",
   "execution_count": null,
   "metadata": {},
   "outputs": [],
   "source": []
  },
  {
   "cell_type": "markdown",
   "metadata": {},
   "source": [
    "# Training with CV & hp tuning Random Forest"
   ]
  },
  {
   "cell_type": "code",
   "execution_count": 1,
   "metadata": {},
   "outputs": [],
   "source": [
    "trainDF = spark.read.parquet('/data/user/hive/warehouse/ian/feature/trainDF_mac_12')\n",
    "testDF = spark.read.parquet('/data/user/hive/warehouse/ian/feature/testDF_mac_12')"
   ]
  },
  {
   "cell_type": "code",
   "execution_count": 2,
   "metadata": {},
   "outputs": [],
   "source": [
    "from pyspark.ml.classification import RandomForestClassifier\n",
    "from pyspark.ml.evaluation import MulticlassClassificationEvaluator\n",
    "from pyspark.ml.tuning import CrossValidator,ParamGridBuilder\n",
    "import numpy as np\n",
    "\n",
    "rf = RandomForestClassifier()\n",
    "\n",
    "paramGrid_rf = ParamGridBuilder()\\\n",
    "       .addGrid(rf.maxDepth,[3,4,5,6,7,8,9,10])\\\n",
    "       .addGrid(rf.numTrees,[10,15,20,25,30])\\\n",
    "       .build()\n",
    "\n",
    "crossval_rf = CrossValidator(estimator=rf,\n",
    "                            estimatorParamMaps=paramGrid_rf,\n",
    "                            evaluator=MulticlassClassificationEvaluator(),\n",
    "                            numFolds=5)\n",
    "\n",
    "cvModel_rf = crossval_rf.fit(trainDF)"
   ]
  },
  {
   "cell_type": "code",
   "execution_count": 3,
   "metadata": {},
   "outputs": [
    {
     "data": {
      "text/plain": [
       "0.8072330351444996"
      ]
     },
     "execution_count": 3,
     "metadata": {},
     "output_type": "execute_result"
    }
   ],
   "source": [
    "best_model_rf = cvModel_rf.bestModel\n",
    "from pyspark.ml.evaluation import MulticlassClassificationEvaluator\n",
    "my_eval_rf = MulticlassClassificationEvaluator(predictionCol='prediction', labelCol='label', metricName='accuracy')\n",
    "my_eval_rf.evaluate(best_model_rf.transform(testDF))"
   ]
  },
  {
   "cell_type": "code",
   "execution_count": 4,
   "metadata": {},
   "outputs": [],
   "source": [
    "best_model_rf.save('hdfs:///data/user/hive/warehouse/ian/model/mac_id_12_rf_cv_tuning_model')"
   ]
  },
  {
   "cell_type": "code",
   "execution_count": 5,
   "metadata": {},
   "outputs": [],
   "source": [
    "result = best_model_rf.transform(testDF)"
   ]
  },
  {
   "cell_type": "code",
   "execution_count": 6,
   "metadata": {},
   "outputs": [
    {
     "data": {
      "text/plain": [
       "[('mac', 'string'),\n",
       " ('id', 'string'),\n",
       " ('f1', 'float'),\n",
       " ('f2', 'float'),\n",
       " ('f3', 'float'),\n",
       " ('f4', 'float'),\n",
       " ('f5', 'float'),\n",
       " ('f6', 'float'),\n",
       " ('f7', 'float'),\n",
       " ('f8', 'float'),\n",
       " ('f9', 'float'),\n",
       " ('f10', 'float'),\n",
       " ('f11', 'float'),\n",
       " ('f12', 'float'),\n",
       " ('features', 'vector'),\n",
       " ('label', 'double'),\n",
       " ('rawPrediction', 'vector'),\n",
       " ('probability', 'vector'),\n",
       " ('prediction', 'double')]"
      ]
     },
     "execution_count": 6,
     "metadata": {},
     "output_type": "execute_result"
    }
   ],
   "source": [
    "result.dtypes"
   ]
  },
  {
   "cell_type": "code",
   "execution_count": 8,
   "metadata": {},
   "outputs": [
    {
     "name": "stdout",
     "output_type": "stream",
     "text": [
      "+------------+-----+-----+-----------------------------------------------------------------------------------------------------------------------------------------------------------------------------------------------------------------------------------------------------------------------------------------------------------------------------------------------+----------+\n",
      "|mac         |id   |label|probability                                                                                                                                                                                                                                                                                                                                    |prediction|\n",
      "+------------+-----+-----+-----------------------------------------------------------------------------------------------------------------------------------------------------------------------------------------------------------------------------------------------------------------------------------------------------------------------------------------------+----------+\n",
      "|0008221E6CF5|39226|1.0  |[0.035635907556186466,0.14254561284049766,0.03808905562764309,0.043948507950378704,0.07281365371469758,0.03618251850362804,0.08919417659482518,0.07142581397406755,0.1370727669424442,0.07789012581975714,0.06058592596217798,0.030021154197109545,0.04752531194894332,0.04249306344854594,0.062255240517981085,0.012321164401116497]          |1.0       |\n",
      "|000EC6DC7BE2|49814|2.0  |[0.09997764776177562,0.16078721903858303,0.055393149620697274,0.041103787923319264,0.09978555118890356,0.0735327583603111,0.05602810384852374,0.11027059709744938,0.08105028601182351,0.03605523298154187,0.08322088063036619,0.00618072435311151,0.024905645479242358,0.05036834502508758,0.016745766419545123,0.004594304259718959]          |1.0       |\n",
      "|001636154AF9|49813|5.0  |[0.049436040688350336,0.13659381086463424,0.09976315735031875,0.05215570225997497,0.09759006226125676,0.0712335127029704,0.11130988386706238,0.07683871975201507,0.07993060442859867,0.019321178464073822,0.03460227627364527,0.031576370401065944,0.01644874234306388,0.09731434232947558,0.02226028294652411,0.0036253130669696553]          |1.0       |\n",
      "|0016785B0DF5|49810|3.0  |[0.07558133177048072,0.11282642998604468,0.06590880048915454,0.05779104426598654,0.11021088012254388,0.0755199873137308,0.07000923283494531,0.06691313370140936,0.08331974708870912,0.012403863935850084,0.06740741321190391,0.10199468743183558,0.024849003430833076,0.01849021675133191,0.05102933874196741,0.005744888923273319]            |1.0       |\n",
      "|0019CBF145D0|49807|0.0  |[0.11041372331225864,0.17270964245611323,0.048045663429484846,0.09207113933835655,0.05489444528747961,0.07043484797224178,0.06729960661338608,0.09871549911489087,0.10791775016790676,0.011060827378115173,0.06601222184565858,0.005240079901512119,0.04110518668988049,0.0389485537185485,0.010139927422855114,0.0049908853513115845]         |1.0       |\n",
      "|001CA30DD4A5|49808|6.0  |[0.0347459375832588,0.07715320297155268,0.12082999050576188,0.04893353122753159,0.09520169183309755,0.12124949071734038,0.060842745545582534,0.03942198532096412,0.04210310862892335,0.03606610652134119,0.12701637684227945,0.0453866831170146,0.04895521377175473,0.044745307731173016,0.05106634065017985,0.006282287032244103]             |10.0      |\n",
      "|0027150843C3|10679|15.0 |[0.03469772589415261,0.14150652145017759,0.048746210199760984,0.04417569692909773,0.057873022519141684,0.041336811917827024,0.10409147325408287,0.09580911966420132,0.10084789201859407,0.06639259004636074,0.02760936810572133,0.032050275335177465,0.02919943017832284,0.09534466535096864,0.076048986520816,0.004270210615597236]           |1.0       |\n",
      "|0056CD0AB401|49807|0.0  |[0.535489391133092,0.08165424498603595,0.020104467157292555,0.03357556590190929,0.05019159273481749,0.015648058386996587,0.03231122511918664,0.03149918963645077,0.018772237703037226,0.0024186785545520467,0.0029737752320653,0.07748590782852822,0.020134461763901473,0.056155375016167394,0.02135364323051247,2.3218561545450565E-4]        |0.0       |\n",
      "|0056CDC7C0BE|49807|0.0  |[0.5368099313043192,0.03851315594977143,0.02316272448655733,0.04125369915303159,0.04995842534300538,0.04549069292045898,0.030776415661829044,0.03522827575070671,0.023665380315155724,0.0018640414278445348,0.011323991946021053,0.07031139501506699,0.01652047832547334,0.051444514799003714,0.023048352756392793,6.28524845362384E-4]        |0.0       |\n",
      "|0056CDCBE912|49807|0.0  |[0.5613241864732268,0.03845431949646627,0.018953097365980887,0.03504324572969879,0.052946714081174545,0.041799150945824426,0.02750346483372041,0.03522165771784799,0.023658619931495484,0.001862005392898764,0.01130039578239056,0.06781552861295057,0.012306064949351854,0.04818472204729612,0.02303998384181007,5.86842797866383E-4]         |0.0       |\n",
      "|0056CDEAF9CD|49807|0.0  |[0.5503908890047834,0.039737301321287964,0.020823679173936148,0.065281330955944,0.026530686462741006,0.04149747004215838,0.03011110687007588,0.03575675342164229,0.024408187474712788,0.0017824214874909109,0.01086237303471299,0.06781552861295057,0.012426760810559668,0.0487444319314363,0.023316449900045576,5.146294955220603E-4]         |0.0       |\n",
      "|005B9436DB5B|10680|10.0 |[0.04216554012530878,0.03189566685065814,0.14110265479393488,0.01792299512175986,0.05826960101067879,0.12746501426891338,0.0363165275903049,0.032742012278081864,0.024521079036966473,0.004486839923230936,0.30060580729850184,0.09716328508174787,0.04352885220709611,0.010926782520897356,0.013762694477397128,0.017124647414521778]         |10.0      |\n",
      "|005B946FCD5F|10680|10.0 |[0.0458314900678866,0.029483410884990742,0.15594696908083117,0.01575509361087147,0.07219854919734914,0.1044563099945954,0.03544373009207273,0.024774524313579002,0.02888136099947625,0.0036453237562581496,0.302038015401157,0.07649180066064448,0.05001501183499764,0.026819032329545522,0.013420967281190863,0.014798410494553908]           |10.0      |\n",
      "|005B9477C9A6|10680|10.0 |[0.0615911150109844,0.028283267922701298,0.14027452445550628,0.01434408697403887,0.0753529020977199,0.1097799160283309,0.03358900079167239,0.024796140489249018,0.0281215863786261,0.0033141923261992513,0.309410568851877,0.08567033880469986,0.03285656808615281,0.02646792459537857,0.013162908247156832,0.012984958939706555]              |10.0      |\n",
      "|005B94781D16|10680|10.0 |[0.06214249028919365,0.029145615707174576,0.15617907241416712,0.015448873412178148,0.07650946252347357,0.10451950589440286,0.03516223957979281,0.024674286388793473,0.028396611891595744,0.0035821606718519482,0.2854423546998052,0.07649180066064447,0.049847476085243154,0.026819038892625772,0.01327128310973905,0.012367727779318343]      |10.0      |\n",
      "|00607E502959|39147|7.0  |[0.2982113633781501,0.08398244166631501,0.07909329021623329,0.06272191527065467,0.0912841737608249,0.07539896779126162,0.10123854897150156,0.03194990282109995,0.04461490502297453,0.02506541526777229,0.04997904515013695,2.262602058447663E-4,0.009619882440723194,0.02894145350217994,0.009647310308920545,0.008025124225406749]            |0.0       |\n",
      "|00607E53C97B|39226|1.0  |[0.29931278932373806,0.08601147432948815,0.07960076244511526,0.06289915950807631,0.08811432754374779,0.07518290678042718,0.10264137574594184,0.03292917009741828,0.044314931281380074,0.02522182403122972,0.0478957831711665,2.2626020584476627E-4,0.008880936658622291,0.028299835071062585,0.01028493289571599,0.008183530911025132]         |0.0       |\n",
      "|006171055614|39000|8.0  |[0.6607792261628699,0.017230480225099248,0.01135899981367963,0.009965776490441869,0.07705841983389332,0.023349121266460795,0.008813146358206035,0.014623891636930059,0.03476345446939073,0.005433407602963973,0.017212250306388937,0.04845931063247215,0.025030742732420893,0.03252625577944707,0.0035504221126906586,0.009845094576644838]    |0.0       |\n",
      "|006171637414|49807|0.0  |[0.7827904092334781,0.009689569311571024,0.005545214588378914,0.0018784868993722795,0.06520898514250499,0.019859152592900834,0.004120579512205866,0.013090197995534212,0.01282388803378653,0.0017570833728387458,0.013903849917140129,0.023417485028510425,0.02426246339273136,0.004138540342347708,0.010910137687118309,0.0066039569495806175]|0.0       |\n",
      "|00617163C289|49807|0.0  |[0.7827904092334781,0.009689569311571024,0.005545214588378914,0.0018784868993722795,0.06520898514250499,0.019859152592900834,0.004120579512205866,0.013090197995534212,0.01282388803378653,0.0017570833728387458,0.013903849917140129,0.023417485028510425,0.02426246339273136,0.004138540342347708,0.010910137687118309,0.0066039569495806175]|0.0       |\n",
      "+------------+-----+-----+-----------------------------------------------------------------------------------------------------------------------------------------------------------------------------------------------------------------------------------------------------------------------------------------------------------------------------------------------+----------+\n",
      "only showing top 20 rows\n",
      "\n"
     ]
    }
   ],
   "source": [
    "result.select('mac','id','label','probability','prediction').show(truncate=False)"
   ]
  },
  {
   "cell_type": "code",
   "execution_count": 9,
   "metadata": {},
   "outputs": [
    {
     "data": {
      "text/plain": [
       "[('mac', 'string'),\n",
       " ('id', 'string'),\n",
       " ('f1', 'float'),\n",
       " ('f2', 'float'),\n",
       " ('f3', 'float'),\n",
       " ('f4', 'float'),\n",
       " ('f5', 'float'),\n",
       " ('f6', 'float'),\n",
       " ('f7', 'float'),\n",
       " ('f8', 'float'),\n",
       " ('f9', 'float'),\n",
       " ('f10', 'float'),\n",
       " ('f11', 'float'),\n",
       " ('f12', 'float'),\n",
       " ('features', 'vector'),\n",
       " ('label', 'double'),\n",
       " ('rawPrediction', 'vector'),\n",
       " ('probability', 'vector'),\n",
       " ('prediction', 'double')]"
      ]
     },
     "execution_count": 9,
     "metadata": {},
     "output_type": "execute_result"
    }
   ],
   "source": [
    "result.dtypes"
   ]
  },
  {
   "cell_type": "code",
   "execution_count": 10,
   "metadata": {},
   "outputs": [
    {
     "name": "stdout",
     "output_type": "stream",
     "text": [
      "+-----+-----+----------+\n",
      "|id   |label|prediction|\n",
      "+-----+-----+----------+\n",
      "|39226|1.0  |1.0       |\n",
      "|49814|2.0  |1.0       |\n",
      "|49813|5.0  |1.0       |\n",
      "|49810|3.0  |1.0       |\n",
      "|49807|0.0  |1.0       |\n",
      "|49808|6.0  |10.0      |\n",
      "|10679|15.0 |1.0       |\n",
      "|49807|0.0  |0.0       |\n",
      "|49807|0.0  |0.0       |\n",
      "|49807|0.0  |0.0       |\n",
      "|49807|0.0  |0.0       |\n",
      "|10680|10.0 |10.0      |\n",
      "|10680|10.0 |10.0      |\n",
      "|10680|10.0 |10.0      |\n",
      "|10680|10.0 |10.0      |\n",
      "|39147|7.0  |0.0       |\n",
      "|39226|1.0  |0.0       |\n",
      "|39000|8.0  |0.0       |\n",
      "|49807|0.0  |0.0       |\n",
      "|49807|0.0  |0.0       |\n",
      "+-----+-----+----------+\n",
      "only showing top 20 rows\n",
      "\n"
     ]
    }
   ],
   "source": [
    "result.select('id','label','prediction').show(truncate=False)"
   ]
  },
  {
   "cell_type": "code",
   "execution_count": 11,
   "metadata": {},
   "outputs": [],
   "source": [
    "mapping_table = result.select('id','label').distinct()"
   ]
  },
  {
   "cell_type": "code",
   "execution_count": 10,
   "metadata": {},
   "outputs": [],
   "source": [
    "#mapping_table.write.mode('overwrite').parquet('hdfs:///data/user/hive/warehouse/ian/feature/mapping_table',compression='gzip')"
   ]
  },
  {
   "cell_type": "code",
   "execution_count": 12,
   "metadata": {},
   "outputs": [],
   "source": [
    "mapping_table = mapping_table.withColumnRenamed('id','predict_id')"
   ]
  },
  {
   "cell_type": "code",
   "execution_count": 13,
   "metadata": {},
   "outputs": [],
   "source": [
    "result = result.select('mac','prediction')\n",
    "final_result = result.join(mapping_table,result.prediction == mapping_table.label)"
   ]
  },
  {
   "cell_type": "code",
   "execution_count": 14,
   "metadata": {},
   "outputs": [],
   "source": [
    "final_result = final_result.select('mac','predict_id').distinct()"
   ]
  },
  {
   "cell_type": "code",
   "execution_count": 15,
   "metadata": {},
   "outputs": [
    {
     "name": "stdout",
     "output_type": "stream",
     "text": [
      "+------------+----------+\n",
      "|mac         |predict_id|\n",
      "+------------+----------+\n",
      "|6C4D7347102D|39147     |\n",
      "|70EF008B3FB1|39147     |\n",
      "|70EF00B1ACC9|39147     |\n",
      "|70EF00CFC4E4|39147     |\n",
      "|94F6D67C1BF1|39147     |\n",
      "|B019C6195BC1|39147     |\n",
      "|C0A53E63D790|39147     |\n",
      "|D461DA06B4E1|39147     |\n",
      "|F895EA6A5E84|39147     |\n",
      "|347C2553D215|39147     |\n",
      "|586B14515ABE|39147     |\n",
      "|94F6D639DC93|39147     |\n",
      "|C0A53E6AB23B|39147     |\n",
      "|CC2DB7BBBE22|39147     |\n",
      "|CC2DB7E61415|39147     |\n",
      "|3C2EF9520D37|39147     |\n",
      "|40261924FFAB|39147     |\n",
      "|94F6D62AB011|39147     |\n",
      "|C0A53E93B510|39147     |\n",
      "|CC2DB7467566|39147     |\n",
      "+------------+----------+\n",
      "only showing top 20 rows\n",
      "\n"
     ]
    }
   ],
   "source": [
    "final_result.show(truncate=False)"
   ]
  },
  {
   "cell_type": "code",
   "execution_count": 49,
   "metadata": {},
   "outputs": [
    {
     "name": "stdout",
     "output_type": "stream",
     "text": [
      "+------------+-----+---+---+---+---+----+----+---+---+---+----+---+---+--------------------+-----+\n",
      "|         mac|   id| f1| f2| f3| f4|  f5|  f6| f7| f8| f9| f10|f11|f12|            features|label|\n",
      "+------------+-----+---+---+---+---+----+----+---+---+---+----+---+---+--------------------+-----+\n",
      "|5433CB525C01|39147|5.0|4.0|3.0|3.0|12.0|11.0|5.0|2.0|5.0|12.0|0.0|1.0|[5.0,4.0,3.0,3.0,...|  7.0|\n",
      "+------------+-----+---+---+---+---+----+----+---+---+---+----+---+---+--------------------+-----+\n",
      "\n"
     ]
    }
   ],
   "source": [
    "testDF.filter(testDF.mac == '5433CB525C01').show()"
   ]
  },
  {
   "cell_type": "code",
   "execution_count": null,
   "metadata": {},
   "outputs": [],
   "source": []
  },
  {
   "cell_type": "markdown",
   "metadata": {},
   "source": [
    "# crontab mac_id prediction"
   ]
  },
  {
   "cell_type": "code",
   "execution_count": 37,
   "metadata": {},
   "outputs": [
    {
     "name": "stdout",
     "output_type": "stream",
     "text": [
      "+------------+----------+\n",
      "|mac         |predict_id|\n",
      "+------------+----------+\n",
      "|9CE33F6AF89B|39226     |\n",
      "|84A134385E87|49810     |\n",
      "|5433CB525C01|39226     |\n",
      "|70F087774375|49814     |\n",
      "|68DBCA53E6A9|49810     |\n",
      "|84A134093602|49810     |\n",
      "|C83C85E5A5F1|39226     |\n",
      "|404D7FE74BEE|49813     |\n",
      "|E0ACCB434FF3|49880     |\n",
      "|7C04D056B17E|49814     |\n",
      "|24F67750A0A7|49814     |\n",
      "|38C98692F03A|49880     |\n",
      "|94F6D6723318|39147     |\n",
      "|90B0EDB39F67|49810     |\n",
      "|68AB1E19EAB0|49880     |\n",
      "|9CE33F951EEA|39226     |\n",
      "|7C50495799BF|49814     |\n",
      "|DCA4CAD4D097|49814     |\n",
      "|70EF00427A61|39147     |\n",
      "|DC0C5C8D8A23|49814     |\n",
      "+------------+----------+\n",
      "only showing top 20 rows\n",
      "\n"
     ]
    }
   ],
   "source": [
    "from pyspark.ml.classification import RandomForestClassificationModel\n",
    "model = RandomForestClassificationModel.load('/data/user/hive/warehouse/ian/model/mac_id_12_rf_cv_tuning_model')\n",
    "testDF = spark.read.parquet('/data/user/hive/warehouse/ian/feature/testDF_mac_12') #change PATH\n",
    "result = model.transform(testDF)\n",
    "mapping_table = spark.read.parquet('/data/user/hive/warehouse/ian/feature/mapping_table').withColumnRenamed('id','predict_id')\n",
    "result = result.select('mac','prediction')\n",
    "final_result = result.join(mapping_table,result.prediction == mapping_table.label)\n",
    "final_result = final_result.select('mac','predict_id').distinct()\n",
    "final_result.sample(0.001).show(truncate=False)"
   ]
  },
  {
   "cell_type": "code",
   "execution_count": 38,
   "metadata": {},
   "outputs": [
    {
     "name": "stdout",
     "output_type": "stream",
     "text": [
      "+----------+------+\n",
      "|predict_id|count |\n",
      "+----------+------+\n",
      "|49810     |332712|\n",
      "|39890     |65343 |\n",
      "|49809     |320635|\n",
      "|49866     |60898 |\n",
      "|49880     |84506 |\n",
      "|39147     |225601|\n",
      "|49807     |415662|\n",
      "|39000     |24245 |\n",
      "|49814     |402567|\n",
      "|49813     |209372|\n",
      "|39226     |425120|\n",
      "|10679     |25368 |\n",
      "|10950     |139825|\n",
      "|10680     |126929|\n",
      "|49806     |74259 |\n",
      "|49808     |219770|\n",
      "+----------+------+\n",
      "\n"
     ]
    }
   ],
   "source": [
    "final_result.groupBy('predict_id').count().show(truncate=False)"
   ]
  },
  {
   "cell_type": "code",
   "execution_count": null,
   "metadata": {},
   "outputs": [],
   "source": []
  },
  {
   "cell_type": "code",
   "execution_count": null,
   "metadata": {},
   "outputs": [],
   "source": []
  },
  {
   "cell_type": "markdown",
   "metadata": {},
   "source": [
    "# OnevsRest(LR)"
   ]
  },
  {
   "cell_type": "code",
   "execution_count": 2,
   "metadata": {},
   "outputs": [],
   "source": [
    "from  pyspark.sql.functions import *\n",
    "trainDF = spark.read.parquet('/data/user/hive/warehouse/ian/feature/trainDF')\n",
    "testDF = spark.read.parquet('/data/user/hive/warehouse/ian/feature/testDF')\n",
    "from pyspark.ml.classification import OneVsRest,LinearSVC\n",
    "from pyspark.ml.evaluation import MulticlassClassificationEvaluator\n",
    "from pyspark.ml.tuning import CrossValidator,ParamGridBuilder\n",
    "import numpy as np\n",
    "\n",
    "svc = LinearSVC()\n",
    "\n",
    "ovr = OneVsRest(classifier=svc)\n",
    "\n",
    "model = ovr.fit(trainDF)"
   ]
  },
  {
   "cell_type": "code",
   "execution_count": 8,
   "metadata": {},
   "outputs": [],
   "source": [
    "#model.save('hdfs:///data/user/hive/warehouse/ian/model/mac_id_ovr_svc_model')"
   ]
  },
  {
   "cell_type": "code",
   "execution_count": 8,
   "metadata": {},
   "outputs": [],
   "source": [
    "from pyspark.sql.functions import *\n",
    "from pyspark.ml.classification import OneVsRestModel\n",
    "model = OneVsRestModel.load('hdfs:///data/user/hive/warehouse/ian/model/mac_id_ovr_svc_model')\n",
    "testDF = spark.read.parquet('/data/user/hive/warehouse/ian/feature/testDF')\n",
    "result = model.transform(testDF.sample(0.001))"
   ]
  },
  {
   "cell_type": "code",
   "execution_count": 9,
   "metadata": {},
   "outputs": [],
   "source": [
    "df = result.withColumn('compare',when(result.label == result.prediction,1).otherwise(0)).select('mac','cn_name','label','prediction','compare')"
   ]
  },
  {
   "cell_type": "code",
   "execution_count": 10,
   "metadata": {},
   "outputs": [
    {
     "name": "stdout",
     "output_type": "stream",
     "text": [
      "+-------+-----+\n",
      "|compare|count|\n",
      "+-------+-----+\n",
      "|      1|  343|\n",
      "|      0| 2836|\n",
      "+-------+-----+\n",
      "\n"
     ]
    }
   ],
   "source": [
    "df.groupBy('compare').count().show()"
   ]
  },
  {
   "cell_type": "markdown",
   "metadata": {},
   "source": [
    "# OnevsRest(NB)"
   ]
  },
  {
   "cell_type": "code",
   "execution_count": 1,
   "metadata": {},
   "outputs": [],
   "source": [
    "from  pyspark.sql.functions import *\n",
    "trainDF = spark.read.parquet('/data/user/hive/warehouse/ian/feature/trainDF')\n",
    "testDF = spark.read.parquet('/data/user/hive/warehouse/ian/feature/testDF')\n",
    "\n",
    "from pyspark.ml.classification import OneVsRest,NaiveBayes\n",
    "\n",
    "nb = NaiveBayes()\n",
    "\n",
    "ovr = OneVsRest(classifier=nb)\n",
    "\n",
    "model = ovr.fit(trainDF)"
   ]
  },
  {
   "cell_type": "code",
   "execution_count": 2,
   "metadata": {},
   "outputs": [],
   "source": [
    "#model.save('hdfs:///data/user/hive/warehouse/ian/model/mac_id_nb_model')"
   ]
  },
  {
   "cell_type": "code",
   "execution_count": 3,
   "metadata": {},
   "outputs": [
    {
     "name": "stdout",
     "output_type": "stream",
     "text": [
      "+-------+-----+\n",
      "|compare|count|\n",
      "+-------+-----+\n",
      "|      1|  402|\n",
      "|      0| 2812|\n",
      "+-------+-----+\n",
      "\n"
     ]
    }
   ],
   "source": [
    "from pyspark.ml.classification import OneVsRestModel\n",
    "from pyspark.sql.functions import *\n",
    "model = OneVsRestModel.load('/data/user/hive/warehouse/ian/model/mac_id_nb_model')\n",
    "testDF = spark.read.parquet('/data/user/hive/warehouse/ian/feature/testDF')\n",
    "result = model.transform(testDF.sample(0.001))\n",
    "df = result.withColumn('compare',when(result.label == result.prediction,1).otherwise(0)).select('mac','cn_name','label','prediction','compare')\n",
    "df.groupBy('compare').count().show()"
   ]
  },
  {
   "cell_type": "code",
   "execution_count": null,
   "metadata": {},
   "outputs": [],
   "source": []
  },
  {
   "cell_type": "code",
   "execution_count": null,
   "metadata": {},
   "outputs": [],
   "source": []
  },
  {
   "cell_type": "code",
   "execution_count": null,
   "metadata": {},
   "outputs": [],
   "source": []
  }
 ],
 "metadata": {
  "kernelspec": {
   "display_name": "Python 3",
   "language": "python",
   "name": "python3"
  },
  "language_info": {
   "codemirror_mode": {
    "name": "ipython",
    "version": 3
   },
   "file_extension": ".py",
   "mimetype": "text/x-python",
   "name": "python",
   "nbconvert_exporter": "python",
   "pygments_lexer": "ipython3",
   "version": "3.7.3"
  }
 },
 "nbformat": 4,
 "nbformat_minor": 2
}
