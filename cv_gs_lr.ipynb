{
 "cells": [
  {
   "cell_type": "markdown",
   "metadata": {},
   "source": [
    "# ML - lr"
   ]
  },
  {
   "cell_type": "markdown",
   "metadata": {},
   "source": [
    "## dataset construct"
   ]
  },
  {
   "cell_type": "code",
   "execution_count": 2,
   "metadata": {
    "ExecuteTime": {
     "end_time": "2019-08-14T08:46:36.817695Z",
     "start_time": "2019-08-14T08:46:36.791828Z"
    }
   },
   "outputs": [],
   "source": [
    "from pyspark.sql.functions import *"
   ]
  },
  {
   "cell_type": "code",
   "execution_count": 3,
   "metadata": {
    "ExecuteTime": {
     "end_time": "2019-08-14T08:46:48.172315Z",
     "start_time": "2019-08-14T08:46:37.709777Z"
    }
   },
   "outputs": [],
   "source": [
    "d = spark.read.csv('/user/maxnet/database/sig.db/data_ct_res_hostname/*',sep='\\x01')\n",
    "#d.show(3,truncate=False)"
   ]
  },
  {
   "cell_type": "code",
   "execution_count": 4,
   "metadata": {
    "ExecuteTime": {
     "end_time": "2019-08-14T08:46:48.196292Z",
     "start_time": "2019-08-14T08:46:48.174821Z"
    }
   },
   "outputs": [],
   "source": [
    "d = d.withColumnRenamed('_c1','val').withColumnRenamed('_c3','osid')\n",
    "#d.show(truncate=False)"
   ]
  },
  {
   "cell_type": "code",
   "execution_count": 5,
   "metadata": {},
   "outputs": [
    {
     "data": {
      "text/plain": [
       "434021295"
      ]
     },
     "execution_count": 5,
     "metadata": {},
     "output_type": "execute_result"
    }
   ],
   "source": [
    "d.select('val','osid').count()"
   ]
  },
  {
   "cell_type": "code",
   "execution_count": 6,
   "metadata": {
    "ExecuteTime": {
     "end_time": "2019-08-14T08:46:48.327858Z",
     "start_time": "2019-08-14T08:46:48.198664Z"
    }
   },
   "outputs": [],
   "source": [
    "d = d.select('val','osid').dropna().distinct()"
   ]
  },
  {
   "cell_type": "code",
   "execution_count": 7,
   "metadata": {},
   "outputs": [
    {
     "data": {
      "text/plain": [
       "131947294"
      ]
     },
     "execution_count": 7,
     "metadata": {},
     "output_type": "execute_result"
    }
   ],
   "source": [
    "d.count()"
   ]
  },
  {
   "cell_type": "code",
   "execution_count": 12,
   "metadata": {
    "ExecuteTime": {
     "end_time": "2019-08-14T08:46:48.793108Z",
     "start_time": "2019-08-14T08:46:48.330145Z"
    }
   },
   "outputs": [],
   "source": [
    "d1 = d.filter(d.osid == 0).dropna().distinct().withColumnRenamed('osid','label').select('val',col('label').cast('float'))\n",
    "d2 = d.filter(d.osid != 0).dropna().distinct().withColumn('label',lit(1)).select('val',col('label').cast('float'))"
   ]
  },
  {
   "cell_type": "code",
   "execution_count": 13,
   "metadata": {},
   "outputs": [
    {
     "data": {
      "text/plain": [
       "(13366199, 13366199, 118581095, 118581095)"
      ]
     },
     "execution_count": 13,
     "metadata": {},
     "output_type": "execute_result"
    }
   ],
   "source": [
    "d1.count(),d1.distinct().count(),d2.count(),d2.distinct().count()"
   ]
  },
  {
   "cell_type": "code",
   "execution_count": 15,
   "metadata": {},
   "outputs": [
    {
     "data": {
      "text/plain": [
       "0.11271779030207134"
      ]
     },
     "execution_count": 15,
     "metadata": {},
     "output_type": "execute_result"
    }
   ],
   "source": [
    "13366199/118581095"
   ]
  },
  {
   "cell_type": "code",
   "execution_count": 16,
   "metadata": {},
   "outputs": [
    {
     "data": {
      "text/plain": [
       "23706806"
      ]
     },
     "execution_count": 16,
     "metadata": {},
     "output_type": "execute_result"
    }
   ],
   "source": [
    "d2 = d2.sample(0.2)\n",
    "d2.count()"
   ]
  },
  {
   "cell_type": "markdown",
   "metadata": {},
   "source": [
    "## baseline accuracy"
   ]
  },
  {
   "cell_type": "code",
   "execution_count": 18,
   "metadata": {},
   "outputs": [
    {
     "data": {
      "text/plain": [
       "0.6394627573351553"
      ]
     },
     "execution_count": 18,
     "metadata": {},
     "output_type": "execute_result"
    }
   ],
   "source": [
    "23706806/(13366199+23706806)"
   ]
  },
  {
   "cell_type": "code",
   "execution_count": 19,
   "metadata": {},
   "outputs": [
    {
     "data": {
      "text/plain": [
       "37073005"
      ]
     },
     "execution_count": 19,
     "metadata": {},
     "output_type": "execute_result"
    }
   ],
   "source": [
    "23706806+13366199"
   ]
  },
  {
   "cell_type": "code",
   "execution_count": 20,
   "metadata": {
    "ExecuteTime": {
     "end_time": "2019-08-14T08:49:15.894224Z",
     "start_time": "2019-08-14T08:48:42.198731Z"
    }
   },
   "outputs": [
    {
     "data": {
      "text/plain": [
       "37073005"
      ]
     },
     "execution_count": 20,
     "metadata": {},
     "output_type": "execute_result"
    }
   ],
   "source": [
    "df = d1.union(d2)\n",
    "df.count()"
   ]
  },
  {
   "cell_type": "code",
   "execution_count": null,
   "metadata": {},
   "outputs": [],
   "source": []
  },
  {
   "cell_type": "code",
   "execution_count": 26,
   "metadata": {},
   "outputs": [
    {
     "data": {
      "text/plain": [
       "37073005"
      ]
     },
     "execution_count": 26,
     "metadata": {},
     "output_type": "execute_result"
    }
   ],
   "source": [
    "df.count()"
   ]
  },
  {
   "cell_type": "code",
   "execution_count": 37,
   "metadata": {},
   "outputs": [
    {
     "data": {
      "text/plain": [
       "(23706806, 13366199)"
      ]
     },
     "execution_count": 37,
     "metadata": {},
     "output_type": "execute_result"
    }
   ],
   "source": [
    "df.filter(df.label == 1).count(),df.filter(df.label == 0).count()"
   ]
  },
  {
   "cell_type": "code",
   "execution_count": null,
   "metadata": {},
   "outputs": [],
   "source": []
  },
  {
   "cell_type": "code",
   "execution_count": 38,
   "metadata": {
    "ExecuteTime": {
     "end_time": "2019-08-14T08:53:43.585027Z",
     "start_time": "2019-08-14T08:52:41.349688Z"
    }
   },
   "outputs": [],
   "source": [
    "from pyspark.ml.feature import RegexTokenizer\n",
    "tokenizer = RegexTokenizer(inputCol='val',outputCol='split',pattern='\\\\W')\n",
    "splitdf = tokenizer.transform(df)\n",
    "#splitdf.show(5,truncate=False)"
   ]
  },
  {
   "cell_type": "code",
   "execution_count": 21,
   "metadata": {
    "ExecuteTime": {
     "end_time": "2019-08-14T08:56:25.038652Z",
     "start_time": "2019-08-14T08:55:24.053338Z"
    }
   },
   "outputs": [
    {
     "name": "stdout",
     "output_type": "stream",
     "text": [
      "+--------------------------------+-----+----------------------------------+\n",
      "|val                             |label|split                             |\n",
      "+--------------------------------+-----+----------------------------------+\n",
      "|9F1004990070344000000495739871E |0.0  |[9f1004990070344000000495739871e] |\n",
      "|CF1001990070114000034C09B4B838AB|0.0  |[cf1001990070114000034c09b4b838ab]|\n",
      "|C49266940                       |0.0  |[c49266940]                       |\n",
      "|DEEP-20130415LL                 |0.0  |[deep, 20130415ll]                |\n",
      "|GHG-20190104LOF                 |0.0  |[ghg, 20190104lof]                |\n",
      "|menpeki                         |0.0  |[menpeki]                         |\n",
      "|CSF8LOLZZ51SDB0                 |0.0  |[csf8lolzz51sdb0]                 |\n",
      "|CA100499007034400000D071C4DA2889|0.0  |[ca100499007034400000d071c4da2889]|\n",
      "|FHYZERTL5ABHVL5                 |0.0  |[fhyzertl5abhvl5]                 |\n",
      "|EJJ66HW7FSALSRX                 |0.0  |[ejj66hw7fsalsrx]                 |\n",
      "|Lyyyxin                         |0.0  |[lyyyxin]                         |\n",
      "|EDZ-20180608FDR                 |0.0  |[edz, 20180608fdr]                |\n",
      "|YC-0128112055                   |0.0  |[yc, 0128112055]                  |\n",
      "|A0100499007037300000585FF65251E |0.0  |[a0100499007037300000585ff65251e] |\n",
      "|chenhuaan                       |0.0  |[chenhuaan]                       |\n",
      "|XZ-20160707FRFV                 |0.0  |[xz, 20160707frfv]                |\n",
      "|AFABW804071844                  |0.0  |[afabw804071844]                  |\n",
      "|FX-20170522LHJZ                 |0.0  |[fx, 20170522lhjz]                |\n",
      "|YT4EVZYWEVE64XW                 |0.0  |[yt4evzyweve64xw]                 |\n",
      "|C04951722                       |0.0  |[c04951722]                       |\n",
      "+--------------------------------+-----+----------------------------------+\n",
      "only showing top 20 rows\n",
      "\n"
     ]
    }
   ],
   "source": [
    "#splitdf.sample(0.001).show(20,truncate=False)"
   ]
  },
  {
   "cell_type": "code",
   "execution_count": 39,
   "metadata": {
    "ExecuteTime": {
     "end_time": "2019-08-14T09:01:02.737463Z",
     "start_time": "2019-08-14T08:58:46.775184Z"
    }
   },
   "outputs": [],
   "source": [
    "from pyspark.ml.feature import CountVectorizer\n",
    "\n",
    "count = CountVectorizer(inputCol='split',outputCol='rawFeatures')\n",
    "model = count.fit(splitdf)\n",
    "featuredf = model.transform(splitdf)\n",
    "#featuredf.sample(0.0011).show(20,truncate=False)"
   ]
  },
  {
   "cell_type": "code",
   "execution_count": 40,
   "metadata": {
    "ExecuteTime": {
     "end_time": "2019-08-14T09:04:44.293273Z",
     "start_time": "2019-08-14T09:03:50.164008Z"
    }
   },
   "outputs": [],
   "source": [
    "from pyspark.ml.feature import IDF\n",
    "\n",
    "idf = IDF(inputCol='rawFeatures',outputCol='features')\n",
    "idfModel = idf.fit(featuredf)\n",
    "finaldf = idfModel.transform(featuredf)\n",
    "fdf = finaldf.select('label','features')\n"
   ]
  },
  {
   "cell_type": "code",
   "execution_count": 23,
   "metadata": {
    "ExecuteTime": {
     "end_time": "2019-08-14T09:05:15.406704Z",
     "start_time": "2019-08-14T09:04:44.295853Z"
    }
   },
   "outputs": [
    {
     "name": "stdout",
     "output_type": "stream",
     "text": [
      "+-----+----------------------------------+\n",
      "|label|features                          |\n",
      "+-----+----------------------------------+\n",
      "|0.0  |(262144,[40],[6.068304290554965]) |\n",
      "|0.0  |(262144,[1071],[10.6055264499684])|\n",
      "|0.0  |(262144,[],[])                    |\n",
      "|0.0  |(262144,[],[])                    |\n",
      "|0.0  |(262144,[],[])                    |\n",
      "+-----+----------------------------------+\n",
      "only showing top 5 rows\n",
      "\n"
     ]
    }
   ],
   "source": [
    "fdf.show(5,truncate=False)"
   ]
  },
  {
   "cell_type": "code",
   "execution_count": 41,
   "metadata": {
    "ExecuteTime": {
     "end_time": "2019-08-14T09:06:02.528530Z",
     "start_time": "2019-08-14T09:06:02.187726Z"
    }
   },
   "outputs": [],
   "source": [
    "seed = 0 \n",
    "trainDF, testDF = fdf.randomSplit([0.7,0.3],seed)"
   ]
  },
  {
   "cell_type": "code",
   "execution_count": 42,
   "metadata": {
    "ExecuteTime": {
     "end_time": "2019-08-14T09:07:54.254258Z",
     "start_time": "2019-08-14T09:06:19.033146Z"
    }
   },
   "outputs": [
    {
     "data": {
      "text/plain": [
       "(25952091, 11120914)"
      ]
     },
     "execution_count": 42,
     "metadata": {},
     "output_type": "execute_result"
    }
   ],
   "source": [
    "trainDF.count(),testDF.count()"
   ]
  },
  {
   "cell_type": "code",
   "execution_count": 43,
   "metadata": {},
   "outputs": [
    {
     "data": {
      "text/plain": [
       "0.7000266366322342"
      ]
     },
     "execution_count": 43,
     "metadata": {},
     "output_type": "execute_result"
    }
   ],
   "source": [
    "25952091/(25952091+11120914)"
   ]
  },
  {
   "cell_type": "code",
   "execution_count": 45,
   "metadata": {},
   "outputs": [
    {
     "name": "stdout",
     "output_type": "stream",
     "text": [
      "+-------+-------------------+\n",
      "|summary|              label|\n",
      "+-------+-------------------+\n",
      "|  count|           25952091|\n",
      "|   mean| 0.6394275898616416|\n",
      "| stddev|0.48016659199639733|\n",
      "|    min|                0.0|\n",
      "|    max|                1.0|\n",
      "+-------+-------------------+\n",
      "\n"
     ]
    }
   ],
   "source": [
    "trainDF.describe('label').show()"
   ]
  },
  {
   "cell_type": "code",
   "execution_count": 46,
   "metadata": {},
   "outputs": [
    {
     "name": "stdout",
     "output_type": "stream",
     "text": [
      "+-------+-------------------+\n",
      "|summary|              label|\n",
      "+-------+-------------------+\n",
      "|  count|           11120914|\n",
      "|   mean| 0.6395448251825344|\n",
      "| stddev|0.48013254679717454|\n",
      "|    min|                0.0|\n",
      "|    max|                1.0|\n",
      "+-------+-------------------+\n",
      "\n"
     ]
    }
   ],
   "source": [
    "testDF.describe('label').show()"
   ]
  },
  {
   "cell_type": "code",
   "execution_count": null,
   "metadata": {},
   "outputs": [],
   "source": []
  },
  {
   "cell_type": "code",
   "execution_count": null,
   "metadata": {},
   "outputs": [],
   "source": []
  },
  {
   "cell_type": "code",
   "execution_count": null,
   "metadata": {},
   "outputs": [],
   "source": []
  },
  {
   "cell_type": "code",
   "execution_count": null,
   "metadata": {},
   "outputs": [],
   "source": []
  },
  {
   "cell_type": "code",
   "execution_count": 47,
   "metadata": {
    "ExecuteTime": {
     "end_time": "2019-08-14T16:12:34.633629Z",
     "start_time": "2019-08-14T09:13:00.579888Z"
    }
   },
   "outputs": [
    {
     "data": {
      "text/plain": [
       "['label', 'features', 'rawPrediction', 'probability', 'prediction']"
      ]
     },
     "execution_count": 47,
     "metadata": {},
     "output_type": "execute_result"
    }
   ],
   "source": [
    "from pyspark.ml.classification import LogisticRegression\n",
    "from pyspark.ml.evaluation import BinaryClassificationEvaluator\n",
    "from pyspark.ml.tuning import CrossValidator,ParamGridBuilder\n",
    "import numpy as np\n",
    "\n",
    "lr = LogisticRegression(maxIter=10)\n",
    "\n",
    "paramGrid_lr = ParamGridBuilder()\\\n",
    "       .addGrid(lr.regParam,np.linspace(0.3,0.01,10))\\\n",
    "       .addGrid(lr.elasticNetParam,np.linspace(0.3,0.8,6))\\\n",
    "       .build()\n",
    "\n",
    "crossval_lr = CrossValidator(estimator=lr,\n",
    "                            estimatorParamMaps=paramGrid_lr,\n",
    "                            evaluator=BinaryClassificationEvaluator(),\n",
    "                            numFolds=5)\n",
    "\n",
    "cvModel_lr = crossval_lr.fit(trainDF)\n",
    "best_model_lr = cvModel_lr.bestModel.summary\n",
    "best_model_lr.predictions.columns"
   ]
  },
  {
   "cell_type": "code",
   "execution_count": 48,
   "metadata": {
    "ExecuteTime": {
     "end_time": "2019-08-15T01:19:34.397883Z",
     "start_time": "2019-08-15T01:17:24.999454Z"
    }
   },
   "outputs": [
    {
     "data": {
      "text/plain": [
       "0.9558712944229603"
      ]
     },
     "execution_count": 48,
     "metadata": {},
     "output_type": "execute_result"
    }
   ],
   "source": [
    "from pyspark.ml.evaluation import BinaryClassificationEvaluator\n",
    "my_eval_lr = BinaryClassificationEvaluator(\n",
    "    rawPredictionCol='prediction', labelCol='label', metricName='areaUnderROC')\n",
    "my_eval_lr.evaluate(best_model_lr.predictions)"
   ]
  },
  {
   "cell_type": "code",
   "execution_count": 49,
   "metadata": {
    "ExecuteTime": {
     "end_time": "2019-08-15T01:28:39.290554Z",
     "start_time": "2019-08-15T01:25:43.418440Z"
    }
   },
   "outputs": [
    {
     "data": {
      "text/plain": [
       "0.9516641131287215"
      ]
     },
     "execution_count": 49,
     "metadata": {},
     "output_type": "execute_result"
    }
   ],
   "source": [
    "from pyspark.ml.evaluation import MulticlassClassificationEvaluator\n",
    "my_mc_lr = MulticlassClassificationEvaluator(\n",
    "    predictionCol='prediction', labelCol='label', metricName='f1')\n",
    "my_mc_lr.evaluate(best_model_lr.predictions)"
   ]
  },
  {
   "cell_type": "code",
   "execution_count": 50,
   "metadata": {
    "ExecuteTime": {
     "end_time": "2019-08-15T01:30:08.436577Z",
     "start_time": "2019-08-15T01:28:39.570228Z"
    }
   },
   "outputs": [
    {
     "data": {
      "text/plain": [
       "0.9512409231302402"
      ]
     },
     "execution_count": 50,
     "metadata": {},
     "output_type": "execute_result"
    }
   ],
   "source": [
    "my_mc_lr = MulticlassClassificationEvaluator(\n",
    "    predictionCol='prediction', labelCol='label', metricName='accuracy')\n",
    "my_mc_lr.evaluate(best_model_lr.predictions)"
   ]
  },
  {
   "cell_type": "code",
   "execution_count": 51,
   "metadata": {
    "ExecuteTime": {
     "end_time": "2019-08-15T01:31:10.453507Z",
     "start_time": "2019-08-15T01:30:08.440274Z"
    }
   },
   "outputs": [
    {
     "name": "stdout",
     "output_type": "stream",
     "text": [
      "+-----+----------+--------+\n",
      "|label|prediction|   count|\n",
      "+-----+----------+--------+\n",
      "|  1.0|       1.0|15588083|\n",
      "|  0.0|       1.0|  257814|\n",
      "|  1.0|       0.0| 1006400|\n",
      "|  0.0|       0.0| 9099794|\n",
      "+-----+----------+--------+\n",
      "\n"
     ]
    }
   ],
   "source": [
    "train_fit_lr = best_model_lr.predictions.select('label', 'prediction')\n",
    "train_fit_lr.groupBy('label', 'prediction').count().show()"
   ]
  },
  {
   "cell_type": "code",
   "execution_count": 81,
   "metadata": {},
   "outputs": [
    {
     "data": {
      "text/plain": [
       "0.9512866227233867"
      ]
     },
     "execution_count": 81,
     "metadata": {},
     "output_type": "execute_result"
    }
   ],
   "source": [
    "(15588083+9099794)/(15588083+257814+1006400+9099794)"
   ]
  },
  {
   "cell_type": "code",
   "execution_count": 52,
   "metadata": {
    "ExecuteTime": {
     "end_time": "2019-08-15T01:31:10.846842Z",
     "start_time": "2019-08-15T01:31:10.458119Z"
    }
   },
   "outputs": [
    {
     "data": {
      "text/plain": [
       "['label', 'features', 'rawPrediction', 'probability', 'prediction']"
      ]
     },
     "execution_count": 52,
     "metadata": {},
     "output_type": "execute_result"
    }
   ],
   "source": [
    "predictions_lr = cvModel_lr.transform(testDF)\n",
    "predictions_lr.columns"
   ]
  },
  {
   "cell_type": "code",
   "execution_count": 53,
   "metadata": {
    "ExecuteTime": {
     "end_time": "2019-08-15T01:32:05.584381Z",
     "start_time": "2019-08-15T01:31:10.848945Z"
    }
   },
   "outputs": [
    {
     "name": "stdout",
     "output_type": "stream",
     "text": [
      "+-----+--------------+--------------------+--------------------+----------+\n",
      "|label|      features|       rawPrediction|         probability|prediction|\n",
      "+-----+--------------+--------------------+--------------------+----------+\n",
      "|  0.0|(262144,[],[])|[1.48859558637857...|[0.81586738420457...|       0.0|\n",
      "|  0.0|(262144,[],[])|[1.48859558637857...|[0.81586738420457...|       0.0|\n",
      "|  0.0|(262144,[],[])|[1.48859558637857...|[0.81586738420457...|       0.0|\n",
      "|  0.0|(262144,[],[])|[1.48859558637857...|[0.81586738420457...|       0.0|\n",
      "|  0.0|(262144,[],[])|[1.48859558637857...|[0.81586738420457...|       0.0|\n",
      "+-----+--------------+--------------------+--------------------+----------+\n",
      "only showing top 5 rows\n",
      "\n"
     ]
    }
   ],
   "source": [
    "predictions_lr.show(5)"
   ]
  },
  {
   "cell_type": "code",
   "execution_count": 54,
   "metadata": {
    "ExecuteTime": {
     "end_time": "2019-08-15T01:32:59.424716Z",
     "start_time": "2019-08-15T01:32:05.586542Z"
    }
   },
   "outputs": [
    {
     "name": "stdout",
     "output_type": "stream",
     "text": [
      "+-----+----------+\n",
      "|label|prediction|\n",
      "+-----+----------+\n",
      "|  0.0|       0.0|\n",
      "|  0.0|       0.0|\n",
      "|  0.0|       0.0|\n",
      "|  0.0|       0.0|\n",
      "|  0.0|       0.0|\n",
      "|  0.0|       0.0|\n",
      "|  0.0|       0.0|\n",
      "|  0.0|       0.0|\n",
      "|  0.0|       0.0|\n",
      "|  0.0|       0.0|\n",
      "|  0.0|       0.0|\n",
      "|  0.0|       0.0|\n",
      "|  0.0|       0.0|\n",
      "|  0.0|       0.0|\n",
      "|  0.0|       0.0|\n",
      "|  0.0|       0.0|\n",
      "|  0.0|       0.0|\n",
      "|  0.0|       0.0|\n",
      "|  0.0|       0.0|\n",
      "|  0.0|       0.0|\n",
      "+-----+----------+\n",
      "only showing top 20 rows\n",
      "\n"
     ]
    }
   ],
   "source": [
    "predictions_lr.select('label', 'prediction').show(20)"
   ]
  },
  {
   "cell_type": "code",
   "execution_count": 55,
   "metadata": {
    "ExecuteTime": {
     "end_time": "2019-08-15T01:34:06.028708Z",
     "start_time": "2019-08-15T01:33:12.109040Z"
    }
   },
   "outputs": [
    {
     "name": "stdout",
     "output_type": "stream",
     "text": [
      "+-----+----------+-------+\n",
      "|label|prediction|  count|\n",
      "+-----+----------+-------+\n",
      "|  1.0|       0.0| 432142|\n",
      "|  0.0|       0.0|3897988|\n",
      "|  1.0|       1.0|6680181|\n",
      "|  0.0|       1.0| 110603|\n",
      "+-----+----------+-------+\n",
      "\n"
     ]
    }
   ],
   "source": [
    "predictions_lr.groupBy('label', 'prediction').count().show()"
   ]
  },
  {
   "cell_type": "markdown",
   "metadata": {},
   "source": [
    "# Accuracy with the test data"
   ]
  },
  {
   "cell_type": "code",
   "execution_count": 68,
   "metadata": {
    "ExecuteTime": {
     "end_time": "2019-08-15T01:34:42.005516Z",
     "start_time": "2019-08-15T01:34:41.972234Z"
    }
   },
   "outputs": [
    {
     "data": {
      "text/plain": [
       "0.9511960078101495"
      ]
     },
     "execution_count": 68,
     "metadata": {},
     "output_type": "execute_result"
    }
   ],
   "source": [
    "(3897988+6680181)/(432142+3897988+6680181+110603)"
   ]
  },
  {
   "cell_type": "code",
   "execution_count": null,
   "metadata": {},
   "outputs": [],
   "source": []
  },
  {
   "cell_type": "markdown",
   "metadata": {},
   "source": [
    "# Out of Model Test"
   ]
  },
  {
   "cell_type": "code",
   "execution_count": 57,
   "metadata": {
    "ExecuteTime": {
     "end_time": "2019-08-15T02:02:06.981774Z",
     "start_time": "2019-08-15T02:02:06.978191Z"
    }
   },
   "outputs": [],
   "source": [
    "dtest = d2.sample(0.02)"
   ]
  },
  {
   "cell_type": "code",
   "execution_count": 58,
   "metadata": {
    "ExecuteTime": {
     "end_time": "2019-08-15T02:03:01.190985Z",
     "start_time": "2019-08-15T02:02:07.973849Z"
    }
   },
   "outputs": [
    {
     "data": {
      "text/plain": [
       "474233"
      ]
     },
     "execution_count": 58,
     "metadata": {},
     "output_type": "execute_result"
    }
   ],
   "source": [
    "dtest.count()"
   ]
  },
  {
   "cell_type": "code",
   "execution_count": 59,
   "metadata": {
    "ExecuteTime": {
     "end_time": "2019-08-15T02:03:29.264797Z",
     "start_time": "2019-08-15T02:03:29.254839Z"
    }
   },
   "outputs": [],
   "source": [
    "dtest_split = tokenizer.transform(dtest)"
   ]
  },
  {
   "cell_type": "code",
   "execution_count": 60,
   "metadata": {
    "ExecuteTime": {
     "end_time": "2019-08-15T02:04:43.562701Z",
     "start_time": "2019-08-15T02:03:30.089209Z"
    }
   },
   "outputs": [
    {
     "name": "stdout",
     "output_type": "stream",
     "text": [
      "+-------------------------+-----+-----------------------------+-------------------------+\n",
      "|val                      |label|split                        |rawFeatures              |\n",
      "+-------------------------+-----+-----------------------------+-------------------------+\n",
      "|android-b55977fd05a44a1f |1.0  |[android, b55977fd05a44a1f]  |(262144,[0],[1.0])       |\n",
      "|android-4a48e8160d8baa75 |1.0  |[android, 4a48e8160d8baa75]  |(262144,[0],[1.0])       |\n",
      "|android-5f8d199d26e315bc |1.0  |[android, 5f8d199d26e315bc]  |(262144,[0],[1.0])       |\n",
      "|android-898a098a0e060d28 |1.0  |[android, 898a098a0e060d28]  |(262144,[0],[1.0])       |\n",
      "|android-c722e3460141f20c |1.0  |[android, c722e3460141f20c]  |(262144,[0],[1.0])       |\n",
      "|android-ae068b05d32c15cb |1.0  |[android, ae068b05d32c15cb]  |(262144,[0],[1.0])       |\n",
      "|litokudpleWatch          |1.0  |[litokudplewatch]            |(262144,[],[])           |\n",
      "|android-6b3fcfcbbe6787da |1.0  |[android, 6b3fcfcbbe6787da]  |(262144,[0],[1.0])       |\n",
      "|DESKTOP-UEHH2VL          |1.0  |[desktop, uehh2vl]           |(262144,[2],[1.0])       |\n",
      "|Honor_8_Lite-d89d84e668f7|1.0  |[honor_8_lite, d89d84e668f7] |(262144,[14],[1.0])      |\n",
      "|android-3b8d85d470f2815e |1.0  |[android, 3b8d85d470f2815e]  |(262144,[0],[1.0])       |\n",
      "|android-de6e605202fa47ae |1.0  |[android, de6e605202fa47ae]  |(262144,[0],[1.0])       |\n",
      "|android-b51eeaa681d0267a |1.0  |[android, b51eeaa681d0267a]  |(262144,[0],[1.0])       |\n",
      "|liyipineiPhone2          |1.0  |[liyipineiphone2]            |(262144,[],[])           |\n",
      "|android-f5bbe6824f110b30 |1.0  |[android, f5bbe6824f110b30]  |(262144,[0],[1.0])       |\n",
      "|android-a0114c3328e8e92e |1.0  |[android, a0114c3328e8e92e]  |(262144,[0],[1.0])       |\n",
      "|YunOS-7849ca99f536bf32   |1.0  |[yunos, 7849ca99f536bf32]    |(262144,[3],[1.0])       |\n",
      "|android-c3a1075d8e002e2d |1.0  |[android, c3a1075d8e002e2d]  |(262144,[0],[1.0])       |\n",
      "|EPSON4FD4A3              |1.0  |[epson4fd4a3]                |(262144,[],[])           |\n",
      "|HUAWEI_RIO-AL00-11b99869c|1.0  |[huawei_rio, al00, 11b99869c]|(262144,[4,45],[1.0,1.0])|\n",
      "+-------------------------+-----+-----------------------------+-------------------------+\n",
      "only showing top 20 rows\n",
      "\n"
     ]
    }
   ],
   "source": [
    "count_test = CountVectorizer(inputCol='split',outputCol='rawFeatures')\n",
    "model_test = count_test.fit(dtest_split)\n",
    "featuredf_test = model_test.transform(dtest_split)\n",
    "featuredf_test.sample(0.01).show(20,truncate=False)"
   ]
  },
  {
   "cell_type": "code",
   "execution_count": 61,
   "metadata": {
    "ExecuteTime": {
     "end_time": "2019-08-15T02:05:35.690229Z",
     "start_time": "2019-08-15T02:04:57.010956Z"
    }
   },
   "outputs": [],
   "source": [
    "idf = IDF(inputCol='rawFeatures',outputCol='features')\n",
    "idfModel_test = idf.fit(featuredf_test)\n",
    "finaldf_test = idfModel_test.transform(featuredf_test)\n",
    "fdf_test = finaldf_test.select('label','features')"
   ]
  },
  {
   "cell_type": "code",
   "execution_count": 62,
   "metadata": {
    "ExecuteTime": {
     "end_time": "2019-08-15T02:05:35.727384Z",
     "start_time": "2019-08-15T02:05:35.692750Z"
    }
   },
   "outputs": [
    {
     "data": {
      "text/plain": [
       "['label', 'features', 'rawPrediction', 'probability', 'prediction']"
      ]
     },
     "execution_count": 62,
     "metadata": {},
     "output_type": "execute_result"
    }
   ],
   "source": [
    "predictions_lr = cvModel_lr.transform(fdf_test)\n",
    "predictions_lr.columns"
   ]
  },
  {
   "cell_type": "code",
   "execution_count": 63,
   "metadata": {
    "ExecuteTime": {
     "end_time": "2019-08-15T02:06:17.019208Z",
     "start_time": "2019-08-15T02:05:53.809285Z"
    }
   },
   "outputs": [
    {
     "name": "stdout",
     "output_type": "stream",
     "text": [
      "+-----+--------------------+--------------------+--------------------+----------+\n",
      "|label|            features|       rawPrediction|         probability|prediction|\n",
      "+-----+--------------------+--------------------+--------------------+----------+\n",
      "|  1.0|(262144,[0],[0.54...|[-1.3145587763647...|[0.21172499575680...|       1.0|\n",
      "|  1.0|(262144,[47],[5.8...|[1.79994724901845...|[0.85814251363601...|       0.0|\n",
      "|  1.0|      (262144,[],[])|[1.48859558637857...|[0.81586738420457...|       0.0|\n",
      "|  1.0|(262144,[42],[5.7...|[2.79417853498182...|[0.94236043122280...|       0.0|\n",
      "|  1.0|(262144,[0],[0.54...|[-1.3145587763647...|[0.21172499575680...|       1.0|\n",
      "+-----+--------------------+--------------------+--------------------+----------+\n",
      "only showing top 5 rows\n",
      "\n"
     ]
    }
   ],
   "source": [
    "predictions_lr.show(5)"
   ]
  },
  {
   "cell_type": "code",
   "execution_count": 64,
   "metadata": {
    "ExecuteTime": {
     "end_time": "2019-08-15T02:06:38.414607Z",
     "start_time": "2019-08-15T02:06:17.021765Z"
    }
   },
   "outputs": [
    {
     "name": "stdout",
     "output_type": "stream",
     "text": [
      "+-----+----------+\n",
      "|label|prediction|\n",
      "+-----+----------+\n",
      "|  1.0|       0.0|\n",
      "|  1.0|       0.0|\n",
      "|  1.0|       1.0|\n",
      "|  1.0|       0.0|\n",
      "|  1.0|       1.0|\n",
      "|  1.0|       1.0|\n",
      "|  1.0|       1.0|\n",
      "|  1.0|       1.0|\n",
      "|  1.0|       1.0|\n",
      "|  1.0|       1.0|\n",
      "|  1.0|       0.0|\n",
      "|  1.0|       1.0|\n",
      "|  1.0|       1.0|\n",
      "|  1.0|       1.0|\n",
      "|  1.0|       1.0|\n",
      "|  1.0|       1.0|\n",
      "|  1.0|       1.0|\n",
      "|  1.0|       1.0|\n",
      "|  1.0|       1.0|\n",
      "|  1.0|       1.0|\n",
      "+-----+----------+\n",
      "only showing top 20 rows\n",
      "\n"
     ]
    }
   ],
   "source": [
    "predictions_lr.select('label', 'prediction').show(20)"
   ]
  },
  {
   "cell_type": "code",
   "execution_count": 65,
   "metadata": {
    "ExecuteTime": {
     "end_time": "2019-08-15T02:07:48.492519Z",
     "start_time": "2019-08-15T02:07:10.609308Z"
    }
   },
   "outputs": [
    {
     "name": "stdout",
     "output_type": "stream",
     "text": [
      "+-----+----------+------+\n",
      "|label|prediction| count|\n",
      "+-----+----------+------+\n",
      "|  1.0|       0.0| 56662|\n",
      "|  1.0|       1.0|417571|\n",
      "+-----+----------+------+\n",
      "\n"
     ]
    }
   ],
   "source": [
    "predictions_lr.groupBy('label', 'prediction').count().show()"
   ]
  },
  {
   "cell_type": "code",
   "execution_count": 83,
   "metadata": {
    "ExecuteTime": {
     "end_time": "2019-08-15T03:24:09.255534Z",
     "start_time": "2019-08-15T03:24:09.251215Z"
    }
   },
   "outputs": [
    {
     "data": {
      "text/plain": [
       "0.8805186480063597"
      ]
     },
     "execution_count": 83,
     "metadata": {},
     "output_type": "execute_result"
    }
   ],
   "source": [
    "417571/(56662+417571)"
   ]
  },
  {
   "cell_type": "code",
   "execution_count": 66,
   "metadata": {
    "ExecuteTime": {
     "end_time": "2019-08-15T02:09:28.090198Z",
     "start_time": "2019-08-15T02:08:39.810007Z"
    }
   },
   "outputs": [
    {
     "data": {
      "text/plain": [
       "0.8804596052995046"
      ]
     },
     "execution_count": 66,
     "metadata": {},
     "output_type": "execute_result"
    }
   ],
   "source": [
    "my_mc_lr = MulticlassClassificationEvaluator(\n",
    "    predictionCol='prediction', labelCol='label', metricName='accuracy')\n",
    "my_mc_lr.evaluate(predictions_lr)"
   ]
  },
  {
   "cell_type": "markdown",
   "metadata": {},
   "source": [
    "# Unknown Test"
   ]
  },
  {
   "cell_type": "code",
   "execution_count": 278,
   "metadata": {
    "ExecuteTime": {
     "end_time": "2019-08-15T05:20:55.876661Z",
     "start_time": "2019-08-15T05:20:24.276501Z"
    }
   },
   "outputs": [
    {
     "data": {
      "text/plain": [
       "687"
      ]
     },
     "execution_count": 278,
     "metadata": {},
     "output_type": "execute_result"
    }
   ],
   "source": [
    "un = spark.read.csv('/user/maxnet/database/sig.db/data_visual_unknown/*',sep='\\x01')\n",
    "un1 = un.sample(0.1).select('_c2').withColumnRenamed('_c2','val').distinct().dropna()\n",
    "un1.count()"
   ]
  },
  {
   "cell_type": "code",
   "execution_count": 212,
   "metadata": {
    "ExecuteTime": {
     "end_time": "2019-08-15T05:21:28.182823Z",
     "start_time": "2019-08-15T05:21:28.170233Z"
    }
   },
   "outputs": [],
   "source": [
    "un_split = tokenizer.transform(un1)"
   ]
  },
  {
   "cell_type": "code",
   "execution_count": 213,
   "metadata": {
    "ExecuteTime": {
     "end_time": "2019-08-15T05:21:52.701303Z",
     "start_time": "2019-08-15T05:21:28.184749Z"
    }
   },
   "outputs": [
    {
     "name": "stdout",
     "output_type": "stream",
     "text": [
      "+-------------------------------+-------------------------------------+-----------------------------------------------------+\n",
      "|val                            |split                                |rawFeatures                                          |\n",
      "+-------------------------------+-------------------------------------+-----------------------------------------------------+\n",
      "|0d477ba7380bdce1d4760ae5ff3c6db|[0d477ba7380bdce1d4760ae5ff3c6db]    |(262144,[],[])                                       |\n",
      "|0c4db2da22ffd24e50f39fa3147cb25|[0c4db2da22ffd24e50f39fa3147cb25]    |(262144,[178245],[1.0])                              |\n",
      "|VGOPPP3ZHRENYWH                |[vgoppp3zhrenywh]                    |(262144,[],[])                                       |\n",
      "|uplus-haier-0202-87e9-v5-sapkz |[uplus, haier, 0202, 87e9, v5, sapkz]|(262144,[41,44,45,46,77],[1.0,1.0,1.0,1.0,1.0])      |\n",
      "|ZTE8c:68:c8:bd:51:a4           |[zte8c, 68, c8, bd, 51, a4]          |(262144,[1,2,3,50,146,314],[1.0,1.0,1.0,1.0,1.0,1.0])|\n",
      "|娟娟电脑                       |[]                                   |(262144,[],[])                                       |\n",
      "|wodedn                         |[wodedn]                             |(262144,[],[])                                       |\n",
      "|BF-201906131014                |[bf, 201906131014]                   |(262144,[13],[1.0])                                  |\n",
      "|04fcbae337ecfc05cd41a475f202fbf|[04fcbae337ecfc05cd41a475f202fbf]    |(262144,[],[])                                       |\n",
      "|xiefangyan                     |[xiefangyan]                         |(262144,[],[])                                       |\n",
      "|0502507d34e7221c8e09517b94b24dc|[0502507d34e7221c8e09517b94b24dc]    |(262144,[],[])                                       |\n",
      "|1L03A0APAK00485                |[1l03a0apak00485]                    |(262144,[208037],[1.0])                              |\n",
      "|09a77fc54ce475de1d7dd3c1df93db8|[09a77fc54ce475de1d7dd3c1df93db8]    |(262144,[],[])                                       |\n",
      "|pingguolier                    |[pingguolier]                        |(262144,[],[])                                       |\n",
      "|hcdn02e                        |[hcdn02e]                            |(262144,[],[])                                       |\n",
      "|SC-isenable                    |[sc, isenable]                       |(262144,[370],[1.0])                                 |\n",
      "|05997c4b19e0857b8927265881078ae|[05997c4b19e0857b8927265881078ae]    |(262144,[],[])                                       |\n",
      "|adsjdla                        |[adsjdla]                            |(262144,[],[])                                       |\n",
      "|郑小芳                         |[]                                   |(262144,[],[])                                       |\n",
      "|lwy-lijingcheng                |[lwy, lijingcheng]                   |(262144,[5819],[1.0])                                |\n",
      "+-------------------------------+-------------------------------------+-----------------------------------------------------+\n",
      "only showing top 20 rows\n",
      "\n"
     ]
    }
   ],
   "source": [
    "count_un = CountVectorizer(inputCol='split',outputCol='rawFeatures')\n",
    "model_un = count_un.fit(un_split)\n",
    "featuredf_un = model_un.transform(un_split)\n",
    "featuredf_un.sample(0.01).show(20,truncate=False)"
   ]
  },
  {
   "cell_type": "code",
   "execution_count": 214,
   "metadata": {
    "ExecuteTime": {
     "end_time": "2019-08-15T05:21:52.707800Z",
     "start_time": "2019-08-15T05:21:52.703566Z"
    }
   },
   "outputs": [
    {
     "data": {
      "text/plain": [
       "['val', 'split', 'rawFeatures']"
      ]
     },
     "execution_count": 214,
     "metadata": {},
     "output_type": "execute_result"
    }
   ],
   "source": [
    "featuredf_un.columns"
   ]
  },
  {
   "cell_type": "code",
   "execution_count": 215,
   "metadata": {
    "ExecuteTime": {
     "end_time": "2019-08-15T05:22:22.788867Z",
     "start_time": "2019-08-15T05:21:52.710442Z"
    }
   },
   "outputs": [],
   "source": [
    "idf_un = IDF(inputCol='rawFeatures',outputCol='features')\n",
    "idfModel_un = idf_un.fit(featuredf_un)\n",
    "finaldf_un = idfModel_un.transform(featuredf_un)\n",
    "fdf_un = finaldf_un.select('val','features')"
   ]
  },
  {
   "cell_type": "code",
   "execution_count": null,
   "metadata": {},
   "outputs": [],
   "source": []
  },
  {
   "cell_type": "code",
   "execution_count": 216,
   "metadata": {
    "ExecuteTime": {
     "end_time": "2019-08-15T05:22:22.823863Z",
     "start_time": "2019-08-15T05:22:22.791254Z"
    }
   },
   "outputs": [
    {
     "data": {
      "text/plain": [
       "['val', 'features', 'rawPrediction', 'probability', 'prediction']"
      ]
     },
     "execution_count": 216,
     "metadata": {},
     "output_type": "execute_result"
    }
   ],
   "source": [
    "predictions_lr = cvModel_lr.transform(fdf_un)\n",
    "predictions_lr.columns"
   ]
  },
  {
   "cell_type": "code",
   "execution_count": 217,
   "metadata": {
    "ExecuteTime": {
     "end_time": "2019-08-15T05:23:02.091335Z",
     "start_time": "2019-08-15T05:22:31.211166Z"
    }
   },
   "outputs": [
    {
     "name": "stdout",
     "output_type": "stream",
     "text": [
      "+----------+------+\n",
      "|prediction| count|\n",
      "+----------+------+\n",
      "|       0.0|316712|\n",
      "|       1.0| 50414|\n",
      "+----------+------+\n",
      "\n"
     ]
    }
   ],
   "source": [
    "predictions_lr.groupby('prediction').count().show()"
   ]
  },
  {
   "cell_type": "code",
   "execution_count": 218,
   "metadata": {
    "ExecuteTime": {
     "end_time": "2019-08-15T05:23:24.995676Z",
     "start_time": "2019-08-15T05:23:24.980267Z"
    }
   },
   "outputs": [
    {
     "data": {
      "text/plain": [
       "0.13732070188436668"
      ]
     },
     "execution_count": 218,
     "metadata": {},
     "output_type": "execute_result"
    }
   ],
   "source": [
    "50414/(316712+50414)"
   ]
  },
  {
   "cell_type": "code",
   "execution_count": 219,
   "metadata": {},
   "outputs": [],
   "source": [
    "from pyspark.sql.types import DoubleType\n",
    "unlist = udf(lambda x: float(list(x)[1]), DoubleType())"
   ]
  },
  {
   "cell_type": "code",
   "execution_count": 220,
   "metadata": {
    "ExecuteTime": {
     "end_time": "2019-08-15T05:35:21.087248Z",
     "start_time": "2019-08-15T05:35:20.996863Z"
    }
   },
   "outputs": [],
   "source": [
    "target = predictions_lr.select('val',unlist('probability').alias('probability'),'prediction').filter(predictions_lr.prediction == 1).filter(predictions_lr.val != 'unknown').filter(predictions_lr.val != 'empty').filter(predictions_lr.val != 'NONE').filter(predictions_lr.val != 'none').filter(predictions_lr.val != 'N/A').filter(predictions_lr.val != 'normal').filter(predictions_lr.val != 'anonymous').filter(predictions_lr.val != 'null')"
   ]
  },
  {
   "cell_type": "code",
   "execution_count": 221,
   "metadata": {
    "ExecuteTime": {
     "end_time": "2019-08-15T05:37:25.786563Z",
     "start_time": "2019-08-15T05:36:55.668049Z"
    }
   },
   "outputs": [
    {
     "name": "stdout",
     "output_type": "stream",
     "text": [
      "+---------------------+------------------+----------+\n",
      "|val                  |probability       |prediction|\n",
      "+---------------------+------------------+----------+\n",
      "|jerry-PC             |0.9999999838413212|1.0       |\n",
      "|regong-PC            |0.9999999838413212|1.0       |\n",
      "|ZTE30:99:35:bb:e5:64 |0.999800297678007 |1.0       |\n",
      "|Dsj-pc               |0.9999999838413212|1.0       |\n",
      "|HSX-PC               |0.9999999838413212|1.0       |\n",
      "|OY-05                |0.7271396868092981|1.0       |\n",
      "|ai-PC                |0.9999999838413212|1.0       |\n",
      "|VIP-PC               |0.9999999838413212|1.0       |\n",
      "|AUTOBVT-KS60E4O      |0.9140328288996845|1.0       |\n",
      "|ZTEb0:ac:d2:0b:07:d4 |0.998834672886984 |1.0       |\n",
      "|ZTE24:58:6e:84:bc:40 |0.9999999957507975|1.0       |\n",
      "|AUTOBVT-86CI4L9      |0.9140328288996845|1.0       |\n",
      "|ZTEb0:ac:d2:0e:83:7e |0.9999997019069204|1.0       |\n",
      "|YynnG-2              |0.9161485791529314|1.0       |\n",
      "|BF-20180316RPDH      |0.8920025591107228|1.0       |\n",
      "|JCG-55F86A           |0.6094884367169214|1.0       |\n",
      "|BL-27-a1-21          |0.920981014440643 |1.0       |\n",
      "|ZTE24:58:6e:83:06:8a |0.9999987275126164|1.0       |\n",
      "|ZTE8c:68:c8:be:57:e0 |0.9999999925176338|1.0       |\n",
      "|ZTE24:58:6e:83:0c:c6 |0.9999999985965724|1.0       |\n",
      "|AUTOBVT-5TL5174      |0.9140328288996845|1.0       |\n",
      "|BL-49-03-96          |0.9915507907847692|1.0       |\n",
      "|ZTEb0:ac:d2:0f:c7:c6 |0.9999999521653383|1.0       |\n",
      "|liujin-PC            |0.9999999838413212|1.0       |\n",
      "|NOVA-d83214799510    |0.567565022480788 |1.0       |\n",
      "|ZTE7c:39:53:83:cf:bc |0.9999999986956396|1.0       |\n",
      "|jiu-yue              |0.5466843054514824|1.0       |\n",
      "|CHINA-20190424T      |0.9097210995624315|1.0       |\n",
      "|13139760333-PC       |0.9999999838413212|1.0       |\n",
      "|ZTEb0:ac:d2:0d:9f:c6 |0.9999995450404484|1.0       |\n",
      "|ZTEb0:ac:d2:0d:b1:4a |0.9999982807992325|1.0       |\n",
      "|1+5                  |0.7507012366933817|1.0       |\n",
      "|BF-20190112COZZ      |0.8920025591107228|1.0       |\n",
      "|2013-0916-1240       |0.5403504291808408|1.0       |\n",
      "|OS-201811041307      |0.8794025698623313|1.0       |\n",
      "|ZTE8c:68:c8:dd:ec:84 |0.9999999484785012|1.0       |\n",
      "|114-20160619EQH      |0.713075123294215 |1.0       |\n",
      "|BLOEM-93-fd-44       |0.9980706310169892|1.0       |\n",
      "|ZTE8c:68:c8:b4:2b:b8 |0.9999965783875933|1.0       |\n",
      "|BL-f5-39-28          |0.9999849856595201|1.0       |\n",
      "|A1C-Q00517233        |0.6453004515959999|1.0       |\n",
      "|Judy-PC              |0.9999999838413212|1.0       |\n",
      "|ZTE24:58:6e:85:4c:72 |0.9999879316676696|1.0       |\n",
      "|wujinsong-PC         |0.9999999838413212|1.0       |\n",
      "|ZTE8c:68:c8:e8:05:54 |0.999999774124281 |1.0       |\n",
      "|CHINA-0294723C6      |0.9097210995624315|1.0       |\n",
      "|china-5314194aa      |0.9097210995624315|1.0       |\n",
      "|gaoyu-pc             |0.9999999838413212|1.0       |\n",
      "|BF-20190111UIYA      |0.8920025591107228|1.0       |\n",
      "|Jonathanwang-2       |0.9161485791529314|1.0       |\n",
      "|ZTE30:99:35:b9:b8:ec |0.9999989033538466|1.0       |\n",
      "|CN--20170731NNU      |0.9138166874593531|1.0       |\n",
      "|IT-20190715UWPV      |0.8343555365742753|1.0       |\n",
      "|yaobaidewangdamide-T2|0.9064033785689072|1.0       |\n",
      "|LD-201705191329      |0.6419204988260014|1.0       |\n",
      "|AUTOBVT-0JVNETR      |0.9140328288996845|1.0       |\n",
      "|PV-X00264773         |0.9041076841636122|1.0       |\n",
      "|ZTEb0:ac:d2:0b:c0:a6 |0.9978088888677581|1.0       |\n",
      "+---------------------+------------------+----------+\n",
      "\n"
     ]
    }
   ],
   "source": [
    "target.sample(0.001).show(100,truncate=False)"
   ]
  },
  {
   "cell_type": "code",
   "execution_count": 227,
   "metadata": {},
   "outputs": [
    {
     "name": "stdout",
     "output_type": "stream",
     "text": [
      "+----------------------+-----+\n",
      "|val                   |label|\n",
      "+----------------------+-----+\n",
      "|PC-20180823OZTE       |1.0  |\n",
      "|PC-20160106ZTEB       |1.0  |\n",
      "|PC-20190110ZTEZ       |1.0  |\n",
      "|PC-20181202ZTET       |1.0  |\n",
      "|ZTE-Router-ee:73:a6   |1.0  |\n",
      "|XP-20150528AZTE       |1.0  |\n",
      "|PC-20151128ZTEH       |1.0  |\n",
      "|ZTE-Router-ee:71:c6   |1.0  |\n",
      "|ZTEQ802T-Android      |1.0  |\n",
      "|PC-20171107XZTE       |1.0  |\n",
      "|PC-20180311TZTE       |1.0  |\n",
      "|PC-20181022ZTEK       |1.0  |\n",
      "|PC-20180417RZTE       |1.0  |\n",
      "|XP-20170810ZTEB       |1.0  |\n",
      "|PC-20160226IZTE       |1.0  |\n",
      "|ZTEGrandSIILTE-ZTES291|1.0  |\n",
      "|ZTE-Router-ee:8a:14   |1.0  |\n",
      "|ZTE-V1000             |1.0  |\n",
      "|XP-20150419ZTEE       |1.0  |\n",
      "|PC-20190314ZTEZ       |1.0  |\n",
      "+----------------------+-----+\n",
      "only showing top 20 rows\n",
      "\n"
     ]
    }
   ],
   "source": [
    "d2.filter(d2.val.contains('ZTE')).show(truncate=False)\n"
   ]
  },
  {
   "cell_type": "code",
   "execution_count": 228,
   "metadata": {},
   "outputs": [
    {
     "name": "stdout",
     "output_type": "stream",
     "text": [
      "+--------------------+-----+\n",
      "|val                 |label|\n",
      "+--------------------+-----+\n",
      "|ZTE9c:6f:52:3e:e4:71|0.0  |\n",
      "|ZTE9c:6f:52:3f:01:15|0.0  |\n",
      "|ZTE9c:6f:52:3f:09:ed|0.0  |\n",
      "|ZTE9c:6f:52:3f:0c:07|0.0  |\n",
      "|ZTE9c:6f:52:3f:18:1d|0.0  |\n",
      "|ZTE9c:6f:52:3f:2c:e1|0.0  |\n",
      "|ZTE9c:6f:52:3f:46:31|0.0  |\n",
      "|ZTE9c:6f:52:3f:4f:63|0.0  |\n",
      "|ZTE9c:6f:52:3f:62:fd|0.0  |\n",
      "|ZTE9c:6f:52:3f:89:eb|0.0  |\n",
      "|ZTE9c:6f:52:3f:92:e3|0.0  |\n",
      "|ZTE7c:39:53:83:5f:f0|0.0  |\n",
      "|ZTE7c:39:53:83:66:84|0.0  |\n",
      "|ZTE7c:39:53:83:7e:8e|0.0  |\n",
      "|ZTE7c:39:53:83:82:e4|0.0  |\n",
      "|ZTE7c:39:53:83:93:c6|0.0  |\n",
      "|ZTE7c:39:53:83:96:ba|0.0  |\n",
      "|ZTE7c:39:53:83:b6:56|0.0  |\n",
      "|ZTE7c:39:53:83:c4:14|0.0  |\n",
      "|ZTE7c:39:53:83:c9:34|0.0  |\n",
      "+--------------------+-----+\n",
      "only showing top 20 rows\n",
      "\n"
     ]
    }
   ],
   "source": [
    "d1.filter(d1.val.contains('ZTE')).show(truncate=False)"
   ]
  },
  {
   "cell_type": "code",
   "execution_count": 225,
   "metadata": {},
   "outputs": [
    {
     "name": "stdout",
     "output_type": "stream",
     "text": [
      "+---------------------+------------------+----------+\n",
      "|val                  |probability       |prediction|\n",
      "+---------------------+------------------+----------+\n",
      "|rf2018-9-1-2-PC      |0.9999999999749836|1.0       |\n",
      "|admin-01-PC          |0.9999999999463685|1.0       |\n",
      "|HP SlateBook 10 x2 PC|0.9999999999408862|1.0       |\n",
      "|lf-2018-1-14-PC      |0.999999999923211 |1.0       |\n",
      "|1-1-PC               |0.9999999999092317|1.0       |\n",
      "|new-2-PC             |0.9999999999053006|1.0       |\n",
      "|2014-10-14-PC        |0.9999999998744782|1.0       |\n",
      "|HS-39-PC             |0.9999999998410836|1.0       |\n",
      "|84-PC                |0.9999999997088556|1.0       |\n",
      "|XZ-PC                |0.9999999997015532|1.0       |\n",
      "|xz-PC                |0.9999999997015532|1.0       |\n",
      "|dc-PC                |0.9999999996934028|1.0       |\n",
      "|DC-PC                |0.9999999996934028|1.0       |\n",
      "|BC-BGS-PC            |0.9999999996907742|1.0       |\n",
      "|bl-PC                |0.9999999996871056|1.0       |\n",
      "|ZTE8c:68:c8:bc:c8:bc |0.9999999996829712|1.0       |\n",
      "|bd-PC                |0.9999999996787108|1.0       |\n",
      "|3P-2-PC              |0.999999999666219 |1.0       |\n",
      "|美工2号-PC           |0.999999999666219 |1.0       |\n",
      "|KF-2-PC              |0.999999999666219 |1.0       |\n",
      "|FULI-2-PC            |0.999999999666219 |1.0       |\n",
      "|2-PC                 |0.999999999666219 |1.0       |\n",
      "|ANYKUU-2-PC          |0.999999999666219 |1.0       |\n",
      "|L440-2-PC            |0.999999999666219 |1.0       |\n",
      "|j0-2-PC              |0.999999999666219 |1.0       |\n",
      "|yxy-2-PC             |0.999999999666219 |1.0       |\n",
      "|cn-pc                |0.9999999996560613|1.0       |\n",
      "|CN-PC                |0.9999999996560613|1.0       |\n",
      "|DB-PC                |0.9999999996445614|1.0       |\n",
      "|AB-PC                |0.9999999996427089|1.0       |\n",
      "|china-PC             |0.9999999996380946|1.0       |\n",
      "|China-Net-PC         |0.9999999996380946|1.0       |\n",
      "|CHINA-PC             |0.9999999996380946|1.0       |\n",
      "|CF-PC                |0.9999999996374567|1.0       |\n",
      "|cf-PC                |0.9999999996374567|1.0       |\n",
      "|T2-PC                |0.9999999996234215|1.0       |\n",
      "|pv-PC                |0.9999999996132052|1.0       |\n",
      "|99-PC                |0.9999999996004423|1.0       |\n",
      "|E2-PC                |0.9999999995868114|1.0       |\n",
      "|ZTE8c:68:c8:be:0d:0e |0.9999999995758051|1.0       |\n",
      "|ZTE8c:68:c8:dc:0e:dc |0.9999999995705979|1.0       |\n",
      "|ZTE8c:68:c8:dc:0c:0e |0.9999999995634876|1.0       |\n",
      "|58-PC                |0.999999999558721 |1.0       |\n",
      "|58-pc                |0.999999999558721 |1.0       |\n",
      "|bf-PC                |0.9999999995584659|1.0       |\n",
      "|ZTE8c:68:c8:bc:83:bc |0.9999999995353399|1.0       |\n",
      "|hp-15Q-PC            |0.9999999995174904|1.0       |\n",
      "|NERV-01-PC           |0.9999999995036171|1.0       |\n",
      "|u-01-PC              |0.9999999995036171|1.0       |\n",
      "|01-PC                |0.9999999995036171|1.0       |\n",
      "|XIAOMAOLV-01-PC      |0.9999999995036171|1.0       |\n",
      "|公卫科电脑01-PC      |0.9999999995036171|1.0       |\n",
      "|ZTE8c:68:c8:dc:01:c8 |0.999999999495417 |1.0       |\n",
      "|xx-53-PC             |0.9999999994768676|1.0       |\n",
      "|ZTE8c:68:c8:bc:53:c8 |0.9999999994636664|1.0       |\n",
      "|ZTE8c:68:c8:db:92:84 |0.9999999994581283|1.0       |\n",
      "|ZTE8c:68:c8:bc:84:e2 |0.9999999994271063|1.0       |\n",
      "|ZTE8c:68:c8:b0:db:dc |0.9999999994263322|1.0       |\n",
      "|ZTE8c:68:c8:bc:db:b0 |0.9999999994214139|1.0       |\n",
      "|ZTE8c:68:c8:bd:81:b0 |0.9999999994178896|1.0       |\n",
      "|ZTE8c:68:c8:bc:83:58 |0.9999999993369093|1.0       |\n",
      "|54-PC                |0.9999999993367419|1.0       |\n",
      "|ZTE30:99:35:bf:83:bc |0.9999999993346784|1.0       |\n",
      "|DA-PC                |0.9999999993269622|1.0       |\n",
      "|ZTE8c:68:c8:bd:35:b0 |0.9999999993255073|1.0       |\n",
      "|ZTE30:99:35:bf:81:0e |0.9999999993038848|1.0       |\n",
      "|ZTE8c:68:c8:bc:c6:bc |0.9999999992989173|1.0       |\n",
      "|ZTE24:58:6e:83:c8:86 |0.9999999992844426|1.0       |\n",
      "|ZTE30:99:35:bf:91:be |0.9999999992773301|1.0       |\n",
      "|AMD-A8-PC            |0.9999999992770117|1.0       |\n",
      "|IT-PC                |0.9999999992759929|1.0       |\n",
      "|it-PC                |0.9999999992759929|1.0       |\n",
      "|ZTE8c:68:c8:db:bd:e2 |0.9999999992733077|1.0       |\n",
      "|ZTE8c:68:c8:dc:39:0e |0.9999999992643369|1.0       |\n",
      "|ZTE8c:68:c8:db:bf:bc |0.9999999992526121|1.0       |\n",
      "|ZTE24:58:6e:84:35:c8 |0.9999999992507302|1.0       |\n",
      "|ZTE7c:39:53:83:be:c8 |0.9999999992247657|1.0       |\n",
      "|22-PC                |0.9999999992184307|1.0       |\n",
      "|ZTE8c:68:c8:db:6e:84 |0.9999999992148814|1.0       |\n",
      "|ZTE7c:39:53:83:83:c8 |0.9999999992096664|1.0       |\n",
      "|ZTE8c:68:c8:bd:39:dc |0.9999999992031274|1.0       |\n",
      "|ZTE8c:68:c8:dc:01:92 |0.9999999992030912|1.0       |\n",
      "|ZTE8c:68:c8:bc:c8:22 |0.9999999991987081|1.0       |\n",
      "|ZTE8c:68:c8:dc:01:86 |0.9999999991763318|1.0       |\n",
      "|16-PC                |0.9999999991701856|1.0       |\n",
      "|ZTE8c:68:c8:b0:ca:c8 |0.999999999163506 |1.0       |\n",
      "|ZTE8c:68:c8:bf:0f:92 |0.9999999991523556|1.0       |\n",
      "|ZTE8c:68:c8:db:83:6e |0.9999999991491182|1.0       |\n",
      "|ZTE24:58:6e:83:bc:84 |0.999999999148476 |1.0       |\n",
      "|ZTE8c:68:c8:b0:ec:92 |0.9999999991408377|1.0       |\n",
      "|ZTE24:58:6e:84:bd:dc |0.9999999991403077|1.0       |\n",
      "|ZTE8c:68:c8:dc:53:86 |0.9999999991319453|1.0       |\n",
      "|ZTE7c:39:53:83:86:c8 |0.999999999119775 |1.0       |\n",
      "|ZTE24:58:6e:83:0d:0c |0.9999999991155231|1.0       |\n",
      "|ZTE24:58:6e:84:bc:92 |0.9999999990824358|1.0       |\n",
      "|ZTE8c:68:c8:b0:db:6e |0.99999999907825  |1.0       |\n",
      "|ZTE8c:68:c8:dc:0e:54 |0.9999999990710797|1.0       |\n",
      "|ZTE8c:68:c8:be:3a:c8 |0.9999999990602242|1.0       |\n",
      "|ZTE30:99:35:bf:84:6e |0.9999999990219912|1.0       |\n",
      "|ZTE8c:68:c8:bc:dc:da |0.999999999017291 |1.0       |\n",
      "+---------------------+------------------+----------+\n",
      "only showing top 100 rows\n",
      "\n"
     ]
    }
   ],
   "source": [
    "target.sort('probability',ascending=False).show(100,truncate=False)"
   ]
  },
  {
   "cell_type": "code",
   "execution_count": null,
   "metadata": {},
   "outputs": [],
   "source": []
  },
  {
   "cell_type": "code",
   "execution_count": 195,
   "metadata": {},
   "outputs": [],
   "source": [
    "save model:\n",
    "#cvModel_lr.save('hdfs:///data/user/hive/warehouse/ian/model/model1')\n",
    "\n",
    "load model:\n",
    "#xx = cvModel_lr.load('hdfs:///data/user/hive/warehouse/ian/model/model1')"
   ]
  },
  {
   "cell_type": "code",
   "execution_count": 201,
   "metadata": {},
   "outputs": [],
   "source": [
    "save best_model:\n",
    "#cvModel_lr.bestModel.load('hdfs:///data/user/hive/warehouse/ian/model/model2')\n",
    "\n",
    "load best_model:\n",
    "#xxx = cvModel_lr.bestModel.load('hdfs:///data/user/hive/warehouse/ian/model/model2')"
   ]
  },
  {
   "cell_type": "code",
   "execution_count": 202,
   "metadata": {},
   "outputs": [
    {
     "name": "stdout",
     "output_type": "stream",
     "text": [
      "+---------------------------+------------------+----------+\n",
      "|val                        |probability       |prediction|\n",
      "+---------------------------+------------------+----------+\n",
      "|Windows 98                 |0.993063798390144 |1.0       |\n",
      "|Windows 98                 |0.993063798390144 |1.0       |\n",
      "|Windows 98                 |0.993063798390144 |1.0       |\n",
      "|Windows 98                 |0.993063798390144 |1.0       |\n",
      "|V1818CA                    |0.684273528029555 |1.0       |\n",
      "|Windows 98                 |0.993063798390144 |1.0       |\n",
      "|Windows NT 6.1             |0.9999992457843718|1.0       |\n",
      "|Windows 98                 |0.993063798390144 |1.0       |\n",
      "|Windows 98                 |0.993063798390144 |1.0       |\n",
      "|KSA-AL00-1a1f73c515198685  |0.8214382913006505|1.0       |\n",
      "|Windows 98                 |0.993063798390144 |1.0       |\n",
      "|Windows 98                 |0.993063798390144 |1.0       |\n",
      "|V1818CA                    |0.684273528029555 |1.0       |\n",
      "|HLK-AL00                   |0.9893098565655087|1.0       |\n",
      "|Windows 98                 |0.993063798390144 |1.0       |\n",
      "|Windows 98                 |0.993063798390144 |1.0       |\n",
      "|Windows 98                 |0.993063798390144 |1.0       |\n",
      "|Windows 98                 |0.993063798390144 |1.0       |\n",
      "|V1818A                     |0.8554883277410557|1.0       |\n",
      "|Windows 98                 |0.993063798390144 |1.0       |\n",
      "|Windows 98                 |0.993063798390144 |1.0       |\n",
      "|Xiaomi                     |0.9077366001897083|1.0       |\n",
      "|Windows 98                 |0.993063798390144 |1.0       |\n",
      "|HUAWEI                     |0.6573519065628957|1.0       |\n",
      "|Windows 98                 |0.993063798390144 |1.0       |\n",
      "|X7                         |0.9200234118272765|1.0       |\n",
      "|Windows 98                 |0.993063798390144 |1.0       |\n",
      "|AOSP on p34a5              |0.9991240101294981|1.0       |\n",
      "|Windows 98                 |0.993063798390144 |1.0       |\n",
      "|Windows                    |0.9858244963244664|1.0       |\n",
      "|Windows-Windows.Desktop.X64|0.9999966881295592|1.0       |\n",
      "|Windows 98                 |0.993063798390144 |1.0       |\n",
      "|Windows 98                 |0.993063798390144 |1.0       |\n",
      "|V1818CA                    |0.684273528029555 |1.0       |\n",
      "|Windows 98                 |0.993063798390144 |1.0       |\n",
      "|Windows 98                 |0.993063798390144 |1.0       |\n",
      "|Windows 98                 |0.993063798390144 |1.0       |\n",
      "|Windows NT 6.              |0.9999905505265648|1.0       |\n",
      "|Windows 98                 |0.993063798390144 |1.0       |\n",
      "|V1818CA                    |0.684273528029555 |1.0       |\n",
      "|WindowsBaiduYunGuanJia     |0.9063596853120857|1.0       |\n",
      "|Windows 98                 |0.993063798390144 |1.0       |\n",
      "|HUAWEI                     |0.6573519065628957|1.0       |\n",
      "|Windows 98                 |0.993063798390144 |1.0       |\n",
      "|Windows 98                 |0.993063798390144 |1.0       |\n",
      "|Windows 98                 |0.993063798390144 |1.0       |\n",
      "|Windows 98                 |0.993063798390144 |1.0       |\n",
      "|Windows 98                 |0.993063798390144 |1.0       |\n",
      "|AOSP on p332               |0.9947973073917142|1.0       |\n",
      "|V1818CA                    |0.684273528029555 |1.0       |\n",
      "|V1818A                     |0.8554883277410557|1.0       |\n",
      "|HUAWEI                     |0.6573519065628957|1.0       |\n",
      "|Windows 98                 |0.993063798390144 |1.0       |\n",
      "|Windows 9                  |0.9995934968780932|1.0       |\n",
      "|X7                         |0.9200234118272765|1.0       |\n",
      "|Windows 98                 |0.993063798390144 |1.0       |\n",
      "|V1818CA                    |0.684273528029555 |1.0       |\n",
      "|M5                         |0.920682801460608 |1.0       |\n",
      "|Windows 98                 |0.993063798390144 |1.0       |\n",
      "|Windows 98                 |0.993063798390144 |1.0       |\n",
      "|Windows 98                 |0.993063798390144 |1.0       |\n",
      "|Windows 98                 |0.993063798390144 |1.0       |\n",
      "|Windows 98                 |0.993063798390144 |1.0       |\n",
      "|Windows 98                 |0.993063798390144 |1.0       |\n",
      "|localhost                  |0.9137289937204615|1.0       |\n",
      "|Windows 98                 |0.993063798390144 |1.0       |\n",
      "|HUAWEI                     |0.6573519065628957|1.0       |\n",
      "|4G+                        |0.9163895871454765|1.0       |\n",
      "|Windows 98                 |0.993063798390144 |1.0       |\n",
      "|Windows 98                 |0.993063798390144 |1.0       |\n",
      "|Windows 98                 |0.993063798390144 |1.0       |\n",
      "|Windows 98                 |0.993063798390144 |1.0       |\n",
      "|Windows 98                 |0.993063798390144 |1.0       |\n",
      "|Windows 98                 |0.993063798390144 |1.0       |\n",
      "|Windows 98                 |0.993063798390144 |1.0       |\n",
      "|Windows 98                 |0.993063798390144 |1.0       |\n",
      "|Windows 98                 |0.993063798390144 |1.0       |\n",
      "|Windows 98                 |0.993063798390144 |1.0       |\n",
      "|Windows 98                 |0.993063798390144 |1.0       |\n",
      "|Windows 98                 |0.993063798390144 |1.0       |\n",
      "|Windows 98                 |0.993063798390144 |1.0       |\n",
      "|Windows 98                 |0.993063798390144 |1.0       |\n",
      "|V1818CA                    |0.684273528029555 |1.0       |\n",
      "|Windows 98                 |0.993063798390144 |1.0       |\n",
      "|V1818CA                    |0.684273528029555 |1.0       |\n",
      "|Windows 98                 |0.993063798390144 |1.0       |\n",
      "|Windows 98                 |0.993063798390144 |1.0       |\n",
      "|X6L                        |0.5543262135586584|1.0       |\n",
      "|Windows 98                 |0.993063798390144 |1.0       |\n",
      "|PD1832                     |0.8030641301870284|1.0       |\n",
      "|Windows 98                 |0.993063798390144 |1.0       |\n",
      "|Windows 98                 |0.993063798390144 |1.0       |\n",
      "|Windows 98                 |0.993063798390144 |1.0       |\n",
      "|V1818CA                    |0.684273528029555 |1.0       |\n",
      "|admin                      |0.6962573938909966|1.0       |\n",
      "|Windows 98                 |0.993063798390144 |1.0       |\n",
      "|Windows 98                 |0.993063798390144 |1.0       |\n",
      "|V1818A                     |0.8554883277410557|1.0       |\n",
      "|Windows 98                 |0.993063798390144 |1.0       |\n",
      "|V1818CA                    |0.684273528029555 |1.0       |\n",
      "+---------------------------+------------------+----------+\n",
      "only showing top 100 rows\n",
      "\n"
     ]
    }
   ],
   "source": [
    "xxx_predictions = xxx.transform(fdf_un)\n",
    "tar = xx_predictions.select('val',unlist('probability').alias('probability'),'prediction').filter(xx_predictions.prediction == 1).filter(xx_predictions.val != 'unknown').filter(xx_predictions.val != 'empty').filter(xx_predictions.val != 'NONE').filter(xx_predictions.val != 'none').filter(xx_predictions.val != 'N/A').filter(xx_predictions.val != 'normal').filter(xx_predictions.val != 'anonymous').filter(xx_predictions.val != 'null')\n",
    "tar.sample(0.001).show(100,truncate=False)"
   ]
  },
  {
   "cell_type": "code",
   "execution_count": 205,
   "metadata": {},
   "outputs": [
    {
     "name": "stdout",
     "output_type": "stream",
     "text": [
      "+-------------------------+----------+------+\n",
      "|val                      |prediction|count |\n",
      "+-------------------------+----------+------+\n",
      "|Windows 98               |1.0       |418688|\n",
      "|V1818CA                  |1.0       |33542 |\n",
      "|HUAWEI                   |1.0       |26110 |\n",
      "|V1818A                   |1.0       |17871 |\n",
      "|Windows                  |1.0       |13055 |\n",
      "|Windows 9                |1.0       |10595 |\n",
      "|WindowsBaiduYunGuanJia   |1.0       |7753  |\n",
      "|Xiaomi                   |1.0       |7301  |\n",
      "|Windows NT               |1.0       |7047  |\n",
      "|localhost                |1.0       |5062  |\n",
      "|Windows                  |1.0       |3781  |\n",
      "|Generic Android on mt5882|1.0       |3690  |\n",
      "|virtual machine 2        |1.0       |3465  |\n",
      "|X7                       |1.0       |2367  |\n",
      "|Windows NT               |1.0       |2353  |\n",
      "|M5                       |1.0       |2015  |\n",
      "|Windows N                |1.0       |1767  |\n",
      "|Windows NT 6             |1.0       |1651  |\n",
      "|QCA4002                  |1.0       |1544  |\n",
      "|D8812AR                  |1.0       |1479  |\n",
      "|??????2                  |1.0       |1463  |\n",
      "|PORSCHE_DESIGN_HUAWEI_Mat|1.0       |1328  |\n",
      "|vivo                     |1.0       |1314  |\n",
      "|Windows NT 6.            |1.0       |1278  |\n",
      "|AOSP on p331             |1.0       |1266  |\n",
      "|Windows 7                |1.0       |1198  |\n",
      "|v1818a                   |1.0       |1186  |\n",
      "|AOSP on p34a5            |1.0       |1160  |\n",
      "|H3C                      |1.0       |1151  |\n",
      "|LocalHost                |1.0       |1118  |\n",
      "|????M3???10              |1.0       |1040  |\n",
      "|Samsung                  |1.0       |1033  |\n",
      "|Windows NT 6.1           |1.0       |989   |\n",
      "|v1818ca                  |1.0       |982   |\n",
      "|DEFAULT                  |1.0       |972   |\n",
      "|Generic Android on mt5880|1.0       |903   |\n",
      "|MEIZU                    |1.0       |886   |\n",
      "|vivo-Y7s                 |1.0       |885   |\n",
      "|Windows, 20000308        |1.0       |883   |\n",
      "|AOSP on p332             |1.0       |814   |\n",
      "|D628                     |1.0       |780   |\n",
      "|AOSP on p32a6            |1.0       |709   |\n",
      "|S3 Pro                   |1.0       |702   |\n",
      "|AOSP on r34a0            |1.0       |693   |\n",
      "|AOSP on p383             |1.0       |678   |\n",
      "|4G                       |1.0       |677   |\n",
      "|AOSP on p32a1            |1.0       |661   |\n",
      "| K3                      |1.0       |627   |\n",
      "|HLK-AL00                 |1.0       |612   |\n",
      "|PC                       |1.0       |590   |\n",
      "+-------------------------+----------+------+\n",
      "only showing top 50 rows\n",
      "\n"
     ]
    }
   ],
   "source": [
    "tar.groupBy('val','prediction').count().sort('count',ascending=False).show(50,truncate=False)"
   ]
  },
  {
   "cell_type": "code",
   "execution_count": null,
   "metadata": {},
   "outputs": [],
   "source": []
  },
  {
   "cell_type": "markdown",
   "metadata": {},
   "source": [
    "# ML - RF"
   ]
  },
  {
   "cell_type": "code",
   "execution_count": 285,
   "metadata": {},
   "outputs": [],
   "source": [
    "from pyspark.sql.functions import *\n",
    "\n",
    "d1 = spark.read.parquet('/data/user/hive/warehouse/ian/feature/unrecognized/*')\n",
    "d2 = spark.read.parquet('/data/user/hive/warehouse/ian/feature/recognized/*')\n",
    "d2 = d2.sample(0.20,seed=123)\n",
    "\n",
    "df = d1.union(d2)\n",
    "\n",
    "from pyspark.ml.feature import MinMaxScaler,StandardScaler,VectorAssembler,StringIndexer\n",
    "\n",
    "vec = VectorAssembler(inputCols=['f1','f2','f3','f4','f5','f6','f7'],outputCol='features')\n",
    "vec_ = vec.transform(df)\n",
    "#minmax= MinMaxScaler(inputCol='rawfeatures',outputCol='features')\n",
    "#dd = minmax.fit(vec_)\n",
    "#trainset = dd.transform(vec_).select('features','label')\n"
   ]
  },
  {
   "cell_type": "code",
   "execution_count": 286,
   "metadata": {},
   "outputs": [
    {
     "data": {
      "text/plain": [
       "(13366199, 13366199, 23718694, 23718694, 37084893, 37084893)"
      ]
     },
     "execution_count": 286,
     "metadata": {},
     "output_type": "execute_result"
    }
   ],
   "source": [
    "d1.count(),d1.distinct().count(),d2.count(),d2.distinct().count(),df.count(),df.distinct().count()"
   ]
  },
  {
   "cell_type": "markdown",
   "metadata": {},
   "source": [
    "# baseline "
   ]
  },
  {
   "cell_type": "code",
   "execution_count": 287,
   "metadata": {},
   "outputs": [
    {
     "data": {
      "text/plain": [
       "0.6395783318021169"
      ]
     },
     "execution_count": 287,
     "metadata": {},
     "output_type": "execute_result"
    }
   ],
   "source": [
    "23718694/37084893"
   ]
  },
  {
   "cell_type": "code",
   "execution_count": 234,
   "metadata": {},
   "outputs": [
    {
     "name": "stdout",
     "output_type": "stream",
     "text": [
      "+---------------+-----+----+---+---+----+---+---+---+-----------------------------+\n",
      "|val            |label|f1  |f2 |f3 |f4  |f5 |f6 |f7 |features                     |\n",
      "+---------------+-----+----+---+---+----+---+---+---+-----------------------------+\n",
      "|panquan        |0.0  |7.0 |0.0|0.0|7.0 |0.0|0.0|0.0|(7,[0,3],[7.0,7.0])          |\n",
      "|VecTor         |0.0  |6.0 |1.0|0.0|4.0 |2.0|0.0|0.0|[6.0,1.0,0.0,4.0,2.0,0.0,0.0]|\n",
      "|zhuping        |0.0  |7.0 |0.0|0.0|7.0 |0.0|0.0|0.0|(7,[0,3],[7.0,7.0])          |\n",
      "|bishoujo       |0.0  |8.0 |0.0|0.0|8.0 |0.0|0.0|0.0|(7,[0,3],[8.0,8.0])          |\n",
      "|rouko          |0.0  |5.0 |0.0|0.0|5.0 |0.0|0.0|0.0|(7,[0,3],[5.0,5.0])          |\n",
      "|daniaoyudadiaoo|0.0  |15.0|0.0|0.0|15.0|0.0|0.0|0.0|(7,[0,3],[15.0,15.0])        |\n",
      "|daikoikoi      |0.0  |9.0 |0.0|0.0|9.0 |0.0|0.0|0.0|(7,[0,3],[9.0,9.0])          |\n",
      "|Daisy          |0.0  |5.0 |1.0|0.0|4.0 |1.0|0.0|0.0|[5.0,1.0,0.0,4.0,1.0,0.0,0.0]|\n",
      "|8848           |0.0  |4.0 |0.0|4.0|0.0 |0.0|0.0|0.0|(7,[0,2],[4.0,4.0])          |\n",
      "|xingjinpingguo6|0.0  |15.0|0.0|1.0|14.0|0.0|0.0|0.0|(7,[0,2,3],[15.0,1.0,14.0])  |\n",
      "+---------------+-----+----+---+---+----+---+---+---+-----------------------------+\n",
      "only showing top 10 rows\n",
      "\n"
     ]
    }
   ],
   "source": [
    "vec_.show(10,truncate=False)"
   ]
  },
  {
   "cell_type": "code",
   "execution_count": 235,
   "metadata": {},
   "outputs": [],
   "source": [
    "trainDF, testDF = vec_.randomSplit([0.7,0.3],seed=0)\n",
    "\n",
    "#stringIndexer = StringIndexer(inputCol='label',outputCol='indexed')\n",
    "#si_model = stringIndexer.fit(trainset)\n",
    "#td = si_model.transform(trainset)\n",
    "\n",
    "from pyspark.ml.classification import RandomForestClassifier\n",
    "#rf =RandomForestClassifier(maxDepth=3)\n",
    "#rf_model = rf.fit(td)"
   ]
  },
  {
   "cell_type": "code",
   "execution_count": 241,
   "metadata": {},
   "outputs": [],
   "source": [
    "rf =RandomForestClassifier(maxDepth=3)\n",
    "rf_model = rf.fit(trainDF)"
   ]
  },
  {
   "cell_type": "code",
   "execution_count": null,
   "metadata": {},
   "outputs": [],
   "source": [
    "from pyspark.ml.classification import LogisticRegression\n",
    "from pyspark.ml.evaluation import BinaryClassificationEvaluator\n",
    "from pyspark.ml.tuning import CrossValidator,ParamGridBuilder\n",
    "import numpy as np\n",
    "\n",
    "lr = LogisticRegression(maxIter=10)\n",
    "\n",
    "paramGrid_lr = ParamGridBuilder()\\\n",
    "       .addGrid(lr.regParam,np.linspace(0.3,0.01,10))\\\n",
    "       .addGrid(lr.elasticNetParam,np.linspace(0.3,0.8,6))\\\n",
    "       .build()\n",
    "\n",
    "crossval_lr = CrossValidator(estimator=lr,\n",
    "                            estimatorParamMaps=paramGrid_lr,\n",
    "                            evaluator=BinaryClassificationEvaluator(),\n",
    "                            numFolds=5)\n",
    "\n",
    "cvModel_lr = crossval_lr.fit(trainDF)\n",
    "best_model_lr = cvModel_lr.bestModel.summary\n",
    "best_model_lr.predictions.columns"
   ]
  },
  {
   "cell_type": "code",
   "execution_count": 250,
   "metadata": {},
   "outputs": [
    {
     "name": "stdout",
     "output_type": "stream",
     "text": [
      "+-----+----------+--------+\n",
      "|label|prediction|count   |\n",
      "+-----+----------+--------+\n",
      "|1.0  |0.0       |942080  |\n",
      "|0.0  |0.0       |8694283 |\n",
      "|1.0  |1.0       |15666039|\n",
      "|0.0  |1.0       |660875  |\n",
      "+-----+----------+--------+\n",
      "\n"
     ]
    }
   ],
   "source": [
    "rf_model.transform(trainDF).groupBy('label','prediction').count().show(truncate=False)"
   ]
  },
  {
   "cell_type": "code",
   "execution_count": 252,
   "metadata": {},
   "outputs": [
    {
     "data": {
      "text/plain": [
       "0.9382606825787053"
      ]
     },
     "execution_count": 252,
     "metadata": {},
     "output_type": "execute_result"
    }
   ],
   "source": [
    "(8694283 +15666039)/(942080 +8694283 +15666039+660875)"
   ]
  },
  {
   "cell_type": "code",
   "execution_count": 253,
   "metadata": {},
   "outputs": [
    {
     "name": "stdout",
     "output_type": "stream",
     "text": [
      "+-----+----------+-------+\n",
      "|label|prediction|count  |\n",
      "+-----+----------+-------+\n",
      "|1.0  |0.0       |403106 |\n",
      "|0.0  |0.0       |3727554|\n",
      "|1.0  |1.0       |6710375|\n",
      "|0.0  |1.0       |283487 |\n",
      "+-----+----------+-------+\n",
      "\n"
     ]
    }
   ],
   "source": [
    "rf_model.transform(testDF).groupBy('label','prediction').count().show(truncate=False)"
   ]
  },
  {
   "cell_type": "code",
   "execution_count": null,
   "metadata": {},
   "outputs": [],
   "source": []
  },
  {
   "cell_type": "code",
   "execution_count": 243,
   "metadata": {},
   "outputs": [
    {
     "ename": "AttributeError",
     "evalue": "'RandomForestClassifier' object has no attribute 'predictions'",
     "output_type": "error",
     "traceback": [
      "\u001b[0;31m---------------------------------------------------------------------------\u001b[0m",
      "\u001b[0;31mAttributeError\u001b[0m                            Traceback (most recent call last)",
      "\u001b[0;32m<ipython-input-243-5991a5158716>\u001b[0m in \u001b[0;36m<module>\u001b[0;34m\u001b[0m\n\u001b[1;32m      2\u001b[0m my_eval_lr = BinaryClassificationEvaluator(\n\u001b[1;32m      3\u001b[0m     rawPredictionCol='prediction', labelCol='label', metricName='areaUnderROC')\n\u001b[0;32m----> 4\u001b[0;31m \u001b[0mmy_eval_lr\u001b[0m\u001b[0;34m.\u001b[0m\u001b[0mevaluate\u001b[0m\u001b[0;34m(\u001b[0m\u001b[0mrf\u001b[0m\u001b[0;34m.\u001b[0m\u001b[0mpredictions\u001b[0m\u001b[0;34m)\u001b[0m\u001b[0;34m\u001b[0m\u001b[0;34m\u001b[0m\u001b[0m\n\u001b[0m",
      "\u001b[0;31mAttributeError\u001b[0m: 'RandomForestClassifier' object has no attribute 'predictions'"
     ]
    }
   ],
   "source": [
    "from pyspark.ml.evaluation import BinaryClassificationEvaluator\n",
    "my_eval_lr = BinaryClassificationEvaluator(\n",
    "    rawPredictionCol='prediction', labelCol='label', metricName='areaUnderROC')\n",
    "my_eval_lr.evaluate(rf.predictions)"
   ]
  },
  {
   "cell_type": "code",
   "execution_count": null,
   "metadata": {},
   "outputs": [],
   "source": [
    "train_fit_lr = best_model_lr.predictions.select('label', 'prediction')\n",
    "train_fit_lr.groupBy('label', 'prediction').count().show()"
   ]
  },
  {
   "cell_type": "code",
   "execution_count": null,
   "metadata": {},
   "outputs": [],
   "source": []
  },
  {
   "cell_type": "markdown",
   "metadata": {},
   "source": [
    "# feature_pipeline"
   ]
  },
  {
   "cell_type": "code",
   "execution_count": 261,
   "metadata": {},
   "outputs": [
    {
     "name": "stdout",
     "output_type": "stream",
     "text": [
      "+-------------------------------+----+---+----+----+----+---+---+\n",
      "|val                            |f1  |f2 |f3  |f4  |f5  |f6 |f7 |\n",
      "+-------------------------------+----+---+----+----+----+---+---+\n",
      "|U94JW11SOGYVGDE                |15.0|1.0|4.0 |0.0 |11.0|0.0|0.0|\n",
      "|BRW0C96E67F9881                |15.0|1.0|9.0 |0.0 |6.0 |0.0|0.0|\n",
      "|LCDN-20190619YJ                |15.0|1.0|8.0 |0.0 |6.0 |1.0|0.0|\n",
      "|MV17741370                     |10.0|1.0|8.0 |0.0 |2.0 |0.0|0.0|\n",
      "|05af9271958ff346b26a47b3a5ef7a7|31.0|0.0|20.0|11.0|0.0 |0.0|0.0|\n",
      "|ZTE24:58:6e:84:98:38           |20.0|1.0|11.0|1.0 |3.0 |5.0|0.0|\n",
      "|atadevice24:58:6e:8b:af:c0     |26.0|0.0|7.0 |14.0|0.0 |5.0|0.0|\n",
      "|GM-T9+                         |6.0 |1.0|1.0 |0.0 |3.0 |1.0|0.0|\n",
      "|D08185818                      |9.0 |1.0|8.0 |0.0 |1.0 |0.0|0.0|\n",
      "|V2C                            |3.0 |1.0|1.0 |0.0 |2.0 |0.0|0.0|\n",
      "|0e0118cfb5d5ed8ffaee177fc4dd7f0|31.0|0.0|14.0|17.0|0.0 |0.0|0.0|\n",
      "|0a7575c942b1bfcf58e2c7e249f078b|31.0|0.0|19.0|12.0|0.0 |0.0|0.0|\n",
      "|ZTE8c:68:c8:b1:d2:78           |20.0|1.0|8.0 |4.0 |3.0 |5.0|0.0|\n",
      "|ZTE8c:68:c8:be:f1:52           |20.0|1.0|7.0 |5.0 |3.0 |5.0|0.0|\n",
      "|6XEQCJF4RUHSPMY                |15.0|0.0|2.0 |0.0 |13.0|0.0|0.0|\n",
      "|20190301-1148                  |13.0|0.0|12.0|0.0 |0.0 |1.0|0.0|\n",
      "|ZTEb0:ac:d2:0c:cb:30           |20.0|1.0|5.0 |7.0 |3.0 |5.0|0.0|\n",
      "|PHI_f9a0c0                     |10.0|1.0|3.0 |3.0 |3.0 |1.0|0.0|\n",
      "|0e22b9bb040fb28f3a3103a47e81360|31.0|0.0|21.0|10.0|0.0 |0.0|0.0|\n",
      "|XiaoYa                         |6.0 |1.0|0.0 |4.0 |2.0 |0.0|0.0|\n",
      "+-------------------------------+----+---+----+----+----+---+---+\n",
      "only showing top 20 rows\n",
      "\n"
     ]
    }
   ],
   "source": [
    "from pyspark.sql.functions import *\n",
    "d = spark.read.csv('/user/maxnet/database/sig.db/data_visual_unknown/*',sep='\\x01')\n",
    "d1 = d.select('_c2').withColumnRenamed('_c2','val').distinct().dropna()\n",
    "\n",
    "d1 = d1.withColumn('f1',length(col('val')))\n",
    "\n",
    "d1 = d1.withColumn('f2',when(d1.val.startswith('A')|d1.val.startswith('B')|d1.val.startswith('C')\\\n",
    "                             |d1.val.startswith('D')|d1.val.startswith('E')|d1.val.startswith('F')\\\n",
    "                             |d1.val.startswith('G')|d1.val.startswith('H')|d1.val.startswith('I')\\\n",
    "                             |d1.val.startswith('J')|d1.val.startswith('K')|d1.val.startswith('L')\\\n",
    "                             |d1.val.startswith('M')|d1.val.startswith('N')|d1.val.startswith('O')\\\n",
    "                             |d1.val.startswith('P')|d1.val.startswith('Q')|d1.val.startswith('R')\\\n",
    "                             |d1.val.startswith('S')|d1.val.startswith('T')|d1.val.startswith('U')\\\n",
    "                             |d1.val.startswith('V')|d1.val.startswith('W')|d1.val.startswith('X')\\\n",
    "                             |d1.val.startswith('Y')|d1.val.startswith('Z'),1).otherwise(0))\n",
    "\n",
    "import re\n",
    "\n",
    "num_regex = re.compile(r'[0-9]') #数字\n",
    "xiaoxiezimu_regex = re.compile(r'[a-z]')#小写字母\n",
    "daxiezimu_regex = re.compile(r'[A-Z]') #大写字母 \n",
    "#hanzi_regex = re.compile(r'[\\u4E00-\\u9FA5]')#汉字\n",
    "\n",
    "from pyspark.sql.functions import udf\n",
    "num = udf(lambda x: len(num_regex.findall(x)))\n",
    "xiaoxie = udf(lambda x: len(xiaoxiezimu_regex.findall(x)))\n",
    "daxie = udf(lambda x: len(daxiezimu_regex.findall(x)))\n",
    "\n",
    "d1 = d1.withColumn('f3',num('val'))\n",
    "d1 = d1.withColumn('f4',xiaoxie('val'))\n",
    "d1 = d1.withColumn('f5',daxie('val'))\n",
    "\n",
    "# 特征字符串长度 f1\n",
    "# 首字母是否大写 f2\n",
    "# 数字字符数量   f3\n",
    "# 小写字母数量   f4\n",
    "# 大写字母数量   f5\n",
    "# 特殊符号-_:的数量 f6\n",
    "# 空格的数量 f7\n",
    "\n",
    "\n",
    "# 统计下划线个数\n",
    "def xiahuaxian_count(s):\n",
    "    xiahuaxian_counts=0\n",
    "    for c in s:\n",
    "        xiahuaxian_split_list = c.split('_')\n",
    "        xiahuaxian_counts += len(xiahuaxian_split_list) - 1\n",
    "    return xiahuaxian_counts\n",
    "\n",
    "# 统计中划线个数\n",
    "def zhonghuaxian_count(s):\n",
    "    zhonghuaxian_counts=0\n",
    "    for c in s:\n",
    "        zhonghuaxian_split_list = c.split('-')\n",
    "        zhonghuaxian_counts += len(zhonghuaxian_split_list) - 1\n",
    "    return zhonghuaxian_counts\n",
    "\n",
    "# 统计冒号个数\n",
    "def maohao_count(s):\n",
    "    maohao_counts=0\n",
    "    for c in s:\n",
    "        maohao_split_list = c.split(':')\n",
    "        maohao_counts += len(maohao_split_list) - 1\n",
    "    return maohao_counts\n",
    "\n",
    "def teshu_count(s):\n",
    "    teshu_counts=0\n",
    "    a_counts=0\n",
    "    b_counts=0\n",
    "    c_counts=0\n",
    "    for c in s:\n",
    "        a_split_list = c.split('_')\n",
    "        a_counts += len(a_split_list) - 1\n",
    "        \n",
    "        b_split_list = c.split('-')\n",
    "        b_counts += len(b_split_list) - 1\n",
    "        \n",
    "        c_split_list = c.split(':')\n",
    "        c_counts += len(c_split_list) - 1\n",
    "        \n",
    "        teshu_counts = a_counts + b_counts + c_counts\n",
    "    return teshu_counts\n",
    "        \n",
    "\n",
    "# 统计空格个数\n",
    "def space_count(s):\n",
    "    space_counts=0\n",
    "    for c in s:\n",
    "        space_split_list = c.split(' ')\n",
    "        space_counts += len(space_split_list) - 1\n",
    "    return space_counts\n",
    "\n",
    "teshu = udf(lambda x: teshu_count(x))\n",
    "kongge = udf(lambda x: space_count(x))\n",
    "\n",
    "\n",
    "d1 = d1.withColumn('f6',teshu('val'))\n",
    "d1 = d1.withColumn('f7',kongge('val'))\n",
    "\n",
    "\n",
    "d1 = d1.select('val',col('f1').cast('float'),col('f2').cast('float'),col('f3').cast('float'),col('f4').cast('float'),col('f5').cast('float'),col('f6').cast('float'),col('f7').cast('float'))\n",
    "\n",
    "d1.show(truncate=False)\n",
    "#ddd = d1.repartition(1)\n",
    "\n",
    "#ddd.write.mode('overwrite').parquet('hdfs:///data/user/hive/warehouse/ian/feature/unrecognized/',compression='gzip')"
   ]
  },
  {
   "cell_type": "code",
   "execution_count": 262,
   "metadata": {},
   "outputs": [
    {
     "data": {
      "text/plain": [
       "(5625, 5625)"
      ]
     },
     "execution_count": 262,
     "metadata": {},
     "output_type": "execute_result"
    }
   ],
   "source": [
    "d1.count(),d1.distinct().count()"
   ]
  },
  {
   "cell_type": "code",
   "execution_count": 264,
   "metadata": {},
   "outputs": [],
   "source": [
    "from pyspark.ml.feature import MinMaxScaler,StandardScaler,VectorAssembler,StringIndexer\n",
    "\n",
    "unknow = VectorAssembler(inputCols=['f1','f2','f3','f4','f5','f6','f7'],outputCol='features')\n",
    "unknow = vec.transform(d1)"
   ]
  },
  {
   "cell_type": "code",
   "execution_count": 267,
   "metadata": {},
   "outputs": [],
   "source": [
    "t = rf_model.transform(unknow)"
   ]
  },
  {
   "cell_type": "code",
   "execution_count": 269,
   "metadata": {},
   "outputs": [
    {
     "data": {
      "text/plain": [
       "[('val', 'string'),\n",
       " ('f1', 'float'),\n",
       " ('f2', 'float'),\n",
       " ('f3', 'float'),\n",
       " ('f4', 'float'),\n",
       " ('f5', 'float'),\n",
       " ('f6', 'float'),\n",
       " ('f7', 'float'),\n",
       " ('features', 'vector'),\n",
       " ('rawPrediction', 'vector'),\n",
       " ('probability', 'vector'),\n",
       " ('prediction', 'double')]"
      ]
     },
     "execution_count": 269,
     "metadata": {},
     "output_type": "execute_result"
    }
   ],
   "source": [
    "t.dtypes"
   ]
  },
  {
   "cell_type": "code",
   "execution_count": 270,
   "metadata": {},
   "outputs": [],
   "source": [
    "pred = t.select('val',unlist('probability').alias('probability'),'prediction').filter(t.prediction == 1).filter(t.val != 'unknown').filter(t.val != 'empty').filter(t.val != 'NONE').filter(t.val != 'none').filter(t.val != 'N/A').filter(t.val != 'normal').filter(t.val != 'anonymous').filter(t.val != 'null')"
   ]
  },
  {
   "cell_type": "code",
   "execution_count": 271,
   "metadata": {},
   "outputs": [
    {
     "name": "stdout",
     "output_type": "stream",
     "text": [
      "+---------------------------------------+------------------+----------+\n",
      "|val                                    |probability       |prediction|\n",
      "+---------------------------------------+------------------+----------+\n",
      "|LCDN-20190619YJ                        |0.5142811462878983|1.0       |\n",
      "|atadevice24:58:6e:8b:af:c0             |0.9907474363076645|1.0       |\n",
      "|AUTOBVT-61AGAV1                        |0.5288482623222461|1.0       |\n",
      "|cm7221_u11312_h7S68_M7S                |0.8136834078626346|1.0       |\n",
      "|BF-20190327BFCE                        |0.5142811462878983|1.0       |\n",
      "|Generic Android on mt5882              |0.6623334322088122|1.0       |\n",
      "|Netopia-3000/157090527312              |0.8863456558686088|1.0       |\n",
      "|Generic+Android+on+mt5882              |0.6623334322088122|1.0       |\n",
      "|XCB-20160304VKM                        |0.5142811462878983|1.0       |\n",
      "|AliFunUI_Philips_43PFF5081T3_MT5507_N40|0.7529748553537993|1.0       |\n",
      "|CY-20181015NEXC                        |0.5142811462878983|1.0       |\n",
      "|UT-20181217GUCP                        |0.5142811462878983|1.0       |\n",
      "|atadevice24:58:6e:8b:eb:fc             |0.9907474363076645|1.0       |\n",
      "|BF-20171129KJIK                        |0.5142811462878983|1.0       |\n",
      "|cm7221_u11312_h7S72_M7S                |0.8136834078626346|1.0       |\n",
      "|atadevice24:58:6e:8b:91:24             |0.9907474363076645|1.0       |\n",
      "|MG-20020101PLVO                        |0.5142811462878983|1.0       |\n",
      "|0CAE7DE3ED89-mysimplelink              |0.9356909653724177|1.0       |\n",
      "|TS-20080115FCOO                        |0.5142811462878983|1.0       |\n",
      "|GK_KHJA-108153-DWNJK                   |0.5142811462878983|1.0       |\n",
      "+---------------------------------------+------------------+----------+\n",
      "only showing top 20 rows\n",
      "\n"
     ]
    }
   ],
   "source": [
    "pred.show(truncate=False)"
   ]
  },
  {
   "cell_type": "code",
   "execution_count": 275,
   "metadata": {},
   "outputs": [
    {
     "name": "stdout",
     "output_type": "stream",
     "text": [
      "+---------------------------------------+------------------+----------+\n",
      "|val                                    |probability       |prediction|\n",
      "+---------------------------------------+------------------+----------+\n",
      "|atadevice24:58:6e:8b:84:8c             |0.9907474363076645|1.0       |\n",
      "|atadevice24:58:6e:8b:ed:e4             |0.9907474363076645|1.0       |\n",
      "|atadevice24:58:6e:8b:88:dc             |0.9907474363076645|1.0       |\n",
      "|nova_5-dfd25331d594626a                |0.9907474363076645|1.0       |\n",
      "|atadevice24:58:6e:8b:fd:20             |0.9907474363076645|1.0       |\n",
      "|atadevice24:58:6e:8b:9e:f0             |0.9907474363076645|1.0       |\n",
      "|atadevice24:58:6e:8b:ea:70             |0.9907474363076645|1.0       |\n",
      "|atadevice24:58:6e:8b:f6:90             |0.9907474363076645|1.0       |\n",
      "|nova_5-b1c53667c38d34a2                |0.9907474363076645|1.0       |\n",
      "|nova_5-3cc9ccabbf8780f6                |0.9907474363076645|1.0       |\n",
      "|atadevice24:58:6e:8b:eb:fc             |0.9907474363076645|1.0       |\n",
      "|nova_5-8c6d800f0e1481bb                |0.9907474363076645|1.0       |\n",
      "|nova_5-8f9e9db1301106a0                |0.9907474363076645|1.0       |\n",
      "|nova_5-366d255e67bcb874                |0.9907474363076645|1.0       |\n",
      "|atadevice24:58:6e:8b:fb:ae             |0.9907474363076645|1.0       |\n",
      "|nova_5-9308b6d28fe0884                 |0.9907474363076645|1.0       |\n",
      "|atadevice24:58:6e:8b:fb:a8             |0.9907474363076645|1.0       |\n",
      "|atadevice24:58:6e:8b:fd:34             |0.9907474363076645|1.0       |\n",
      "|nova_5-6633a948d4beb65b                |0.9907474363076645|1.0       |\n",
      "|atadevice24:58:6e:8c:12:aa             |0.9907474363076645|1.0       |\n",
      "|atadevice24:58:6e:8b:bc:da             |0.9907474363076645|1.0       |\n",
      "|atadevice24:58:6e:8b:af:fc             |0.9907474363076645|1.0       |\n",
      "|atadevice24:58:6e:8b:dd:c6             |0.9907474363076645|1.0       |\n",
      "|atadevice24:58:6e:8b:af:c0             |0.9907474363076645|1.0       |\n",
      "|atadevice24:58:6e:8b:a0:f0             |0.9907474363076645|1.0       |\n",
      "|atadevice24:58:6e:8c:01:80             |0.9907474363076645|1.0       |\n",
      "|atadevice24:58:6e:8b:f6:ce             |0.9907474363076645|1.0       |\n",
      "|nova_5-a73da771ee1b21f9                |0.9907474363076645|1.0       |\n",
      "|atadevice24:58:6e:8b:ee:34             |0.9907474363076645|1.0       |\n",
      "|atadevice24:58:6e:8b:f7:10             |0.9907474363076645|1.0       |\n",
      "|atadevice24:58:6e:8b:91:24             |0.9907474363076645|1.0       |\n",
      "|nova_5-970f7524987af3e2                |0.9907474363076645|1.0       |\n",
      "|atadevice24:58:6e:8b:9b:44             |0.9907474363076645|1.0       |\n",
      "|projector-450ded2f79ad8e8c             |0.9907474363076645|1.0       |\n",
      "|atadevice24:58:6e:8b:f4:e8             |0.9907474363076645|1.0       |\n",
      "|atadevice24:58:6e:8b:9a:cc             |0.9907474363076645|1.0       |\n",
      "|OSCA-550-4a029af61c1f34f0              |0.9831560216336392|1.0       |\n",
      "|KSA-AL00-83dff341558c508c              |0.9831560216336392|1.0       |\n",
      "|MiProjLED1-95463cab1e6cecf6            |0.9831560216336392|1.0       |\n",
      "|uplus-haier-vcl-7b31-v4-sapkz          |0.9770305733144167|1.0       |\n",
      "|uplus-haier-0202-de92-v5-sapkz         |0.9650037031090004|1.0       |\n",
      "|uplus-haier-0202-8111-v5-sapkz         |0.9650037031090004|1.0       |\n",
      "|uplus-haier-0212-a7ba-v5-sapkz         |0.9650037031090004|1.0       |\n",
      "|uplus-haier-0122-3576-v5-sapkz         |0.9650037031090004|1.0       |\n",
      "|uplus-haier-0618-721c-v5-sapkz         |0.9650037031090004|1.0       |\n",
      "|uplus-haier-0202-47db-v5-sapkz         |0.9650037031090004|1.0       |\n",
      "|uplus-haier-0202-6c6b-v5-sapkz         |0.9650037031090004|1.0       |\n",
      "|uplus-haier-0202-509f-v5-sapkz         |0.9650037031090004|1.0       |\n",
      "|uplus-haier-0312-ee2c-v5-sapkz         |0.9650037031090004|1.0       |\n",
      "|uplus-haier-0102-9440-v5-sapkz         |0.9650037031090004|1.0       |\n",
      "|uplus-haier-0202-6bff-v5-sapkz         |0.9650037031090004|1.0       |\n",
      "|uplus-haier-0123-2b24-v5-sapkz         |0.9650037031090004|1.0       |\n",
      "|\\u94b1\\u8109\\u901a-Q8S                 |0.9494078283656655|1.0       |\n",
      "|bbk-H7000-f66622ddeb6380e1             |0.9494078283656655|1.0       |\n",
      "|bbk-H7000-3ca7167e7e059f4e             |0.9494078283656655|1.0       |\n",
      "|bbk-H7000-4b2426752dc8fdfd             |0.9494078283656655|1.0       |\n",
      "|247D4D86B532-mysimplelink              |0.9494078283656655|1.0       |\n",
      "|bbk-H7000-3a06c6a4f59051ec             |0.9494078283656655|1.0       |\n",
      "|c1_u11312_hCoocaa%2055Y3               |0.9494078283656655|1.0       |\n",
      "|780473B0679C-mysimplelink              |0.9494078283656655|1.0       |\n",
      "|bbk-H7000-76b8c116bd40a0c6             |0.9494078283656655|1.0       |\n",
      "|c1_u11616_hMiProjLED1                  |0.9494078283656655|1.0       |\n",
      "|0CAE7DE3ED89-mysimplelink              |0.9356909653724177|1.0       |\n",
      "|camlogic_u11363_hJMGO                  |0.9002954517170725|1.0       |\n",
      "|Netopia-3000/157090527312              |0.8863456558686088|1.0       |\n",
      "|Windows-Windows.Desktop.X64            |0.876559651059849 |1.0       |\n",
      "|chi3751_u11312_h8H94A_MG7063           |0.8525974626006351|1.0       |\n",
      "|HW:HICPE:eth0.2:255:255:255:0          |0.8273124973815094|1.0       |\n",
      "|HRA962_1G_ALI4GS_R1310                 |0.8151750405190148|1.0       |\n",
      "|RK3128_MYSOTO_XIAXIN_52                |0.8151750405190148|1.0       |\n",
      "|BOSCH-WAU28560HW-68A40E1FD9D2          |0.8151750405190148|1.0       |\n",
      "|WASU_AND_TERM_512M_PB818               |0.8151750405190148|1.0       |\n",
      "|cm7221_u11312_h7S72_M7S                |0.8136834078626346|1.0       |\n",
      "|cm7221_u11312_h7S68_M7S                |0.8136834078626346|1.0       |\n",
      "|SKYROCKER_KTV_JYMAX_8000               |0.8014581775257668|1.0       |\n",
      "|ATMP_RYS1PRO_RK3288_SUNMI              |0.8014581775257668|1.0       |\n",
      "|ATMP_POSRYS1_RK3288_SUNMI              |0.8014581775257668|1.0       |\n",
      "|ATMP_POSD1S_RK3288_SUNMI               |0.8014581775257668|1.0       |\n",
      "|SKYROCKER_KTV_OG3A_PLUS_8000           |0.8014581775257668|1.0       |\n",
      "|coqm-mei-q1Q-lan-cnEcqqwnetcn          |0.800222096089462 |1.0       |\n",
      "|c1_u11312_h8N01_G730S                  |0.7976184769138905|1.0       |\n",
      "|PORSCHE_DESIGN_HUAWEI_Mat              |0.7710062726858482|1.0       |\n",
      "|THUNDERSTONE_KTV_8000                  |0.7660626638704215|1.0       |\n",
      "|iRobot-BBABA1CCB7E946C88AACCE6D1E5EDD66|0.7645700142413849|1.0       |\n",
      "|zai-zhui-lao-zi-da-ni                  |0.7609355964920093|1.0       |\n",
      "|viomi-bhf_light-v1_miio128376742       |0.7605662700278246|1.0       |\n",
      "|L_Amlogic7366_V500HJ1-PE8_2D_CHI       |0.7529748553537993|1.0       |\n",
      "|L_Amlogic7366_ST315A05-1_2D_CHI        |0.7529748553537993|1.0       |\n",
      "|AliFunUI_Philips_43PFF5081T3_MT5507_N40|0.7529748553537993|1.0       |\n",
      "|KSA-AL00-9134674037a37091              |0.746567062565223 |1.0       |\n",
      "|SIEMENS-KF86NA240C-68A40E1E1A1F        |0.7245871796196173|1.0       |\n",
      "|HAIER_LIVING_WATERPURIFIER_HRO7520_4   |0.7144012080847877|1.0       |\n",
      "| Skyworth Digital Skyworth_Digital1    |0.6964798153410583|1.0       |\n",
      "|Windows 6.1.7601.65536                 |0.6940465876459825|1.0       |\n",
      "|Generic Android on mt5880              |0.6623334322088122|1.0       |\n",
      "|Generic+Android+on+mt5882              |0.6623334322088122|1.0       |\n",
      "|Android on nt72668 TCL                 |0.6623334322088122|1.0       |\n",
      "|Generic Android on mt5396              |0.6623334322088122|1.0       |\n",
      "|Generic Android on ac8317              |0.6623334322088122|1.0       |\n",
      "|Generic Android on mt5882              |0.6623334322088122|1.0       |\n",
      "+---------------------------------------+------------------+----------+\n",
      "only showing top 100 rows\n",
      "\n"
     ]
    }
   ],
   "source": [
    "pred.sort('probability',ascending=False).show(100,truncate=False)"
   ]
  },
  {
   "cell_type": "code",
   "execution_count": 293,
   "metadata": {},
   "outputs": [],
   "source": [
    "# rf_model.save('hdfs:///data/user/hive/warehouse/ian/model/model3')\n",
    "# m3 = rf_model.load('hdfs:///data/user/hive/warehouse/ian/model/model3')"
   ]
  },
  {
   "cell_type": "code",
   "execution_count": null,
   "metadata": {},
   "outputs": [],
   "source": []
  },
  {
   "cell_type": "code",
   "execution_count": 289,
   "metadata": {},
   "outputs": [
    {
     "name": "stdout",
     "output_type": "stream",
     "text": [
      "+----------+-----+\n",
      "|prediction|count|\n",
      "+----------+-----+\n",
      "|0.0       |5279 |\n",
      "|1.0       |346  |\n",
      "+----------+-----+\n",
      "\n"
     ]
    }
   ],
   "source": [
    "t.select('val',unlist('probability').alias('probability'),'prediction').groupBy('prediction').count().show(truncate=False)"
   ]
  },
  {
   "cell_type": "code",
   "execution_count": 296,
   "metadata": {},
   "outputs": [],
   "source": [
    "#pred_hdfs = pred.repartition(1)\n",
    "\n",
    "#pred_hdfs.write.mode('overwrite').parquet('hdfs:///data/user/hive/warehouse/ian/prediction/p1',compression='gzip')"
   ]
  },
  {
   "cell_type": "code",
   "execution_count": null,
   "metadata": {},
   "outputs": [],
   "source": []
  }
 ],
 "metadata": {
  "kernelspec": {
   "display_name": "Python 3",
   "language": "python",
   "name": "python3"
  },
  "language_info": {
   "codemirror_mode": {
    "name": "ipython",
    "version": 3
   },
   "file_extension": ".py",
   "mimetype": "text/x-python",
   "name": "python",
   "nbconvert_exporter": "python",
   "pygments_lexer": "ipython3",
   "version": "3.7.3"
  },
  "toc": {
   "base_numbering": 1,
   "nav_menu": {},
   "number_sections": false,
   "sideBar": false,
   "skip_h1_title": false,
   "title_cell": "Table of Contents",
   "title_sidebar": "Contents",
   "toc_cell": false,
   "toc_position": {},
   "toc_section_display": false,
   "toc_window_display": false
  }
 },
 "nbformat": 4,
 "nbformat_minor": 2
}
