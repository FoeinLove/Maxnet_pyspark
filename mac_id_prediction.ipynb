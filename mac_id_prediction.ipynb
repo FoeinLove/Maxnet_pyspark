{
 "cells": [
  {
   "cell_type": "code",
   "execution_count": 15,
   "metadata": {},
   "outputs": [],
   "source": [
    "def predict(x):\n",
    "    \n",
    "    from pyspark.sql.functions import substring,conv,col,min,max,udf,lit\n",
    "   \n",
    "    d1 = spark.read.csv('/user/maxnet/database/sig.db/term_desc_all',sep='\\x01')\n",
    "    d1 = d1.withColumnRenamed('_c0','term_id')\\\n",
    "           .withColumnRenamed('_c1','brand')\\\n",
    "           .withColumnRenamed('_c2','cn_name')\\\n",
    "           .withColumnRenamed('_c3','en_name')\\\n",
    "           .withColumnRenamed('_c4','type1')\\\n",
    "           .withColumnRenamed('_c5','type2')\\\n",
    "           .withColumnRenamed('_c6','os')\\\n",
    "           .withColumnRenamed('_c7','dtime')\\\n",
    "           .withColumnRenamed('_c8','price')\\\n",
    "           .withColumnRenamed('_c9','remarks')\\\n",
    "           .withColumnRenamed('_c10','prio')\n",
    "\n",
    "    d2 = spark.read.csv('/user/maxnet/database/sig.db/term_oui',sep='\\x01')\n",
    "    d2 = d2.withColumnRenamed('_c0','mac_6').withColumnRenamed('_c1','manu')\n",
    "    \n",
    "    d = spark.read.csv('/user/maxnet/database/sig.db/data_mac_res',sep='\\x01')\n",
    "    d = d.withColumnRenamed('_c0','mac').withColumnRenamed('_c1','id')\n",
    "    d = d.withColumn('m1_6',substring(d.mac,1,6))\n",
    "\n",
    "    tmp_1 = d.join(d2,d.m1_6==d2.mac_6)\n",
    "    df = tmp_1.join(d1,tmp_1.id == d1.term_id).select('mac','id','manu','brand','prio').distinct().dropna()\n",
    "    df = df.filter(df.prio == 4).select('mac','id','brand').distinct().dropna()\n",
    "    \n",
    "    df = df.withColumn('m1',substring(df.mac,1,6)).withColumn('m2',substring(df.mac,7,6))\n",
    "    df = df.withColumn('p',conv(df.m2, 16, 10))\n",
    "    df = df.select('mac','id','m1','m2',col('p').cast('bigint'))\n",
    "    d3 = df.filter(df.m1 =='1C5CF2')\n",
    "    \n",
    "    bottom = d3.select(min('p')).collect()[0]['min(p)']\n",
    "    top = d3.select(max('p')).collect()[0]['max(p)'] \n",
    "    \n",
    "    if x < bottom:\n",
    "        return d3.filter(d3.p == bottom).select('id').collect()[0]['p']\n",
    "    \n",
    "    elif x > top:\n",
    "        return d3.filter(d3.p == top).select('id').collect()[0]['p']\n",
    "    \n",
    "    else :\n",
    "        tmp1 = d3.where(col('p').between((x-10),(x+10))).groupBy('id').count()\n",
    "        tmp2 = d3.where(col('p').between((x-100),(x+100))).groupBy('id').count()\n",
    "        tmp3 = d3.where(col('p').between((x-1000),(x+1000))).groupBy('id').count()\n",
    "        tmp4 = d3.where(col('p').between((x-10000),(x+10000))).groupBy('id').count()\n",
    "        tmp5 = d3.where(col('p').between((x-100000),(x+100000))).groupBy('id').count()\n",
    "        return tmp1.union(tmp2).union(tmp3).union(tmp4).union(tmp5).groupBy('id').count().sort('count',ascending=False).collect()[0]['id'] "
   ]
  },
  {
   "cell_type": "code",
   "execution_count": 16,
   "metadata": {},
   "outputs": [],
   "source": [
    "from pyspark.sql.functions import substring,conv,col,min,max,udf,lit\n",
    "   \n",
    "d1 = spark.read.csv('/user/maxnet/database/sig.db/term_desc_all',sep='\\x01')\n",
    "d1 = d1.withColumnRenamed('_c0','term_id')\\\n",
    "       .withColumnRenamed('_c1','brand')\\\n",
    "       .withColumnRenamed('_c2','cn_name')\\\n",
    "       .withColumnRenamed('_c3','en_name')\\\n",
    "       .withColumnRenamed('_c4','type1')\\\n",
    "       .withColumnRenamed('_c5','type2')\\\n",
    "       .withColumnRenamed('_c6','os')\\\n",
    "       .withColumnRenamed('_c7','dtime')\\\n",
    "       .withColumnRenamed('_c8','price')\\\n",
    "       .withColumnRenamed('_c9','remarks')\\\n",
    "       .withColumnRenamed('_c10','prio')\n",
    "\n",
    "d2 = spark.read.csv('/user/maxnet/database/sig.db/term_oui',sep='\\x01')\n",
    "d2 = d2.withColumnRenamed('_c0','mac_6').withColumnRenamed('_c1','manu')\n",
    "\n",
    "d = spark.read.csv('/user/maxnet/database/sig.db/data_mac_res',sep='\\x01')\n",
    "d = d.withColumnRenamed('_c0','mac').withColumnRenamed('_c1','id')\n",
    "d = d.withColumn('m1_6',substring(d.mac,1,6))\n",
    "\n",
    "tmp_1 = d.join(d2,d.m1_6==d2.mac_6)\n",
    "df = tmp_1.join(d1,tmp_1.id == d1.term_id).select('mac','id','manu','brand','prio').distinct().dropna()\n",
    "df = df.filter(df.prio == 4).select('mac','id','brand').distinct().dropna()\n",
    "\n",
    "df = df.withColumn('m1',substring(df.mac,1,6)).withColumn('m2',substring(df.mac,7,6))\n",
    "df = df.withColumn('p',conv(df.m2, 16, 10))\n",
    "df = df.select('mac','id','m1','m2',col('p').cast('bigint'))\n",
    "d3 = df.filter(df.m1 =='1C5CF2')"
   ]
  },
  {
   "cell_type": "code",
   "execution_count": 17,
   "metadata": {},
   "outputs": [
    {
     "name": "stdout",
     "output_type": "stream",
     "text": [
      "+------------+-----+------+------+--------+\n",
      "|         mac|   id|    m1|    m2|       p|\n",
      "+------------+-----+------+------+--------+\n",
      "|1C5CF2C9B22E|49809|1C5CF2|C9B22E|13218350|\n",
      "|1C5CF2BBA078|49809|1C5CF2|BBA078|12296312|\n",
      "|1C5CF2F2CE6F|49809|1C5CF2|F2CE6F|15912559|\n",
      "|1C5CF28FB2D3|49809|1C5CF2|8FB2D3| 9417427|\n",
      "|1C5CF23558F7|49809|1C5CF2|3558F7| 3496183|\n",
      "|1C5CF2C71743|49809|1C5CF2|C71743|13047619|\n",
      "|1C5CF229107A|49809|1C5CF2|29107A| 2691194|\n",
      "|1C5CF284CA34|49809|1C5CF2|84CA34| 8702516|\n",
      "|1C5CF233F9F2|49809|1C5CF2|33F9F2| 3406322|\n",
      "|1C5CF26AF037|49809|1C5CF2|6AF037| 7008311|\n",
      "|1C5CF26FB3F6|49809|1C5CF2|6FB3F6| 7320566|\n",
      "|1C5CF2142244|49809|1C5CF2|142244| 1319492|\n",
      "|1C5CF2AD8FD8|49809|1C5CF2|AD8FD8|11374552|\n",
      "|1C5CF2EC6255|49809|1C5CF2|EC6255|15491669|\n",
      "|1C5CF21E6E92|49810|1C5CF2|1E6E92| 1994386|\n",
      "|1C5CF2BB6DCE|49809|1C5CF2|BB6DCE|12283342|\n",
      "|1C5CF2CE3202|49809|1C5CF2|CE3202|13513218|\n",
      "|1C5CF2F267FA|49809|1C5CF2|F267FA|15886330|\n",
      "|1C5CF2304F6B|49809|1C5CF2|304F6B| 3166059|\n",
      "|1C5CF2CB6BB3|49809|1C5CF2|CB6BB3|13331379|\n",
      "+------------+-----+------+------+--------+\n",
      "only showing top 20 rows\n",
      "\n"
     ]
    }
   ],
   "source": [
    "d3.sample(0.001).show()"
   ]
  },
  {
   "cell_type": "code",
   "execution_count": 26,
   "metadata": {},
   "outputs": [
    {
     "data": {
      "text/plain": [
       "'49809'"
      ]
     },
     "execution_count": 26,
     "metadata": {},
     "output_type": "execute_result"
    }
   ],
   "source": [
    "predict(1994200)"
   ]
  },
  {
   "cell_type": "code",
   "execution_count": 27,
   "metadata": {},
   "outputs": [
    {
     "name": "stdout",
     "output_type": "stream",
     "text": [
      "+---+---+---+---+---+\n",
      "|mac| id| m1| m2|  p|\n",
      "+---+---+---+---+---+\n",
      "+---+---+---+---+---+\n",
      "\n"
     ]
    }
   ],
   "source": [
    "d3.filter(d3.p == 1994200 ).show()"
   ]
  },
  {
   "cell_type": "code",
   "execution_count": null,
   "metadata": {},
   "outputs": [],
   "source": []
  },
  {
   "cell_type": "code",
   "execution_count": 15,
   "metadata": {},
   "outputs": [],
   "source": [
    "#import pandas as pd\n",
    "#test = spark.read.parquet('/data/user/hive/warehouse/ian/test')\n",
    "#result = []\n",
    "#for x in test.select('p').toPandas()['p'].values.tolist():\n",
    "#    result.append(predict(x))\n",
    "    \n",
    "#mac = test.select('mac').toPandas()['mac'].values.tolist()\n",
    "#pre = spark.createDataFrame(pd.DataFrame({'mac':mac,'predict_id':result}))"
   ]
  },
  {
   "cell_type": "code",
   "execution_count": 17,
   "metadata": {},
   "outputs": [],
   "source": [
    "#pre = pre.withColumnRenamed('mac','mac1')\n",
    "#dd = test.join(pre,test.mac == pre.mac1,how='left')"
   ]
  },
  {
   "cell_type": "code",
   "execution_count": 18,
   "metadata": {},
   "outputs": [
    {
     "name": "stdout",
     "output_type": "stream",
     "text": [
      "+------------+-----+------+------+--------+------------+----------+\n",
      "|         mac|   id|    m1|    m2|       p|        mac1|predict_id|\n",
      "+------------+-----+------+------+--------+------------+----------+\n",
      "|702ED911A749|42980|702ED9|11A749| 1156937|702ED911A749|     42980|\n",
      "|702ED9EFA037|10666|702ED9|EFA037|15704119|702ED9EFA037|     10666|\n",
      "|702ED93624FC|42980|702ED9|3624FC| 3548412|702ED93624FC|     42980|\n",
      "|702ED908DF30|42980|702ED9|08DF30|  581424|702ED908DF30|     42980|\n",
      "|702ED91FBD70|42980|702ED9|1FBD70| 2080112|702ED91FBD70|     42980|\n",
      "|702ED934C76D|42980|702ED9|34C76D| 3458925|702ED934C76D|     42980|\n",
      "|702ED906FC7A|42980|702ED9|06FC7A|  457850|702ED906FC7A|     42980|\n",
      "|702ED9247293|42980|702ED9|247293| 2388627|702ED9247293|     42980|\n",
      "|702ED934B44D|42980|702ED9|34B44D| 3454029|702ED934B44D|     42980|\n",
      "|702ED90CC220|42980|702ED9|0CC220|  836128|702ED90CC220|     42980|\n",
      "|702ED9BCEAE0|41347|702ED9|BCEAE0|12380896|702ED9BCEAE0|     41347|\n",
      "|702ED925F017|42980|702ED9|25F017| 2486295|702ED925F017|     42980|\n",
      "|702ED938BB4E|42980|702ED9|38BB4E| 3717966|702ED938BB4E|     42980|\n",
      "|702ED96E3E04|11146|702ED9|6E3E04| 7224836|702ED96E3E04|     11146|\n",
      "|702ED976A02E|10666|702ED9|76A02E| 7774254|702ED976A02E|     10666|\n",
      "|702ED938517E|39688|702ED9|38517E| 3690878|702ED938517E|     39688|\n",
      "|702ED92F8B4A|42980|702ED9|2F8B4A| 3115850|702ED92F8B4A|     42980|\n",
      "|702ED923CE73|42980|702ED9|23CE73| 2346611|702ED923CE73|     42980|\n",
      "|702ED9362372|42980|702ED9|362372| 3548018|702ED9362372|     42980|\n",
      "|702ED940DAE0|48993|702ED9|40DAE0| 4250336|702ED940DAE0|     48993|\n",
      "|702ED94B172B|48929|702ED9|4B172B| 4921131|702ED94B172B|     48929|\n",
      "|702ED9B95404|48929|702ED9|B95404|12145668|702ED9B95404|     48929|\n",
      "|702ED907BAFF|42980|702ED9|07BAFF|  506623|702ED907BAFF|     42980|\n",
      "|702ED944C9A7|48993|702ED9|44C9A7| 4508071|702ED944C9A7|     48993|\n",
      "|702ED9E97BB1|10666|702ED9|E97BB1|15301553|702ED9E97BB1|     10666|\n",
      "|702ED906F06A|42980|702ED9|06F06A|  454762|702ED906F06A|     42980|\n",
      "|702ED90E0BFF|42980|702ED9|0E0BFF|  920575|702ED90E0BFF|     42980|\n",
      "|702ED9EAF16B|10666|702ED9|EAF16B|15397227|702ED9EAF16B|     10666|\n",
      "|702ED91FBDFA|42980|702ED9|1FBDFA| 2080250|702ED91FBDFA|     42980|\n",
      "|702ED9364BF1|42980|702ED9|364BF1| 3558385|702ED9364BF1|     42980|\n",
      "|702ED906FA1C|42980|702ED9|06FA1C|  457244|702ED906FA1C|     42980|\n",
      "|702ED9412DEE|48993|702ED9|412DEE| 4271598|702ED9412DEE|     48993|\n",
      "|702ED911D01A|42980|702ED9|11D01A| 1167386|702ED911D01A|     42980|\n",
      "|702ED92B758B|48993|702ED9|2B758B| 2848139|702ED92B758B|     48993|\n",
      "|702ED93F3427|48993|702ED9|3F3427| 4142119|702ED93F3427|     48993|\n",
      "|702ED920FEB1|10533|702ED9|20FEB1| 2162353|702ED920FEB1|     10533|\n",
      "+------------+-----+------+------+--------+------------+----------+\n",
      "\n"
     ]
    }
   ],
   "source": [
    "#dd.show(50)"
   ]
  },
  {
   "cell_type": "code",
   "execution_count": null,
   "metadata": {},
   "outputs": [],
   "source": []
  }
 ],
 "metadata": {
  "kernelspec": {
   "display_name": "Python 3",
   "language": "python",
   "name": "python3"
  },
  "language_info": {
   "codemirror_mode": {
    "name": "ipython",
    "version": 3
   },
   "file_extension": ".py",
   "mimetype": "text/x-python",
   "name": "python",
   "nbconvert_exporter": "python",
   "pygments_lexer": "ipython3",
   "version": "3.7.3"
  }
 },
 "nbformat": 4,
 "nbformat_minor": 2
}
